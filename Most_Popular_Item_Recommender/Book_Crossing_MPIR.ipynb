{
  "nbformat": 4,
  "nbformat_minor": 0,
  "metadata": {
    "colab": {
      "provenance": [],
      "authorship_tag": "ABX9TyMmcVe4I18oEdbWFsrWOzXh",
      "include_colab_link": true
    },
    "kernelspec": {
      "name": "python3",
      "display_name": "Python 3"
    },
    "language_info": {
      "name": "python"
    }
  },
  "cells": [
    {
      "cell_type": "markdown",
      "metadata": {
        "id": "view-in-github",
        "colab_type": "text"
      },
      "source": [
        "<a href=\"https://colab.research.google.com/github/JCaballerot/Recommender_Systems/blob/main/Most_Popular_Item_Recommender/Book_Crossing_MPIR.ipynb\" target=\"_parent\"><img src=\"https://colab.research.google.com/assets/colab-badge.svg\" alt=\"Open In Colab\"/></a>"
      ]
    },
    {
      "cell_type": "markdown",
      "source": [
        "<center><h1>Non-personalized Recommendation Systems</h1></center>\n",
        "\n",
        "---"
      ],
      "metadata": {
        "id": "9p2wAOuuCtb5"
      }
    },
    {
      "cell_type": "markdown",
      "source": [
        "<center>\n",
        "  <img src=\"https://storage.googleapis.com/kaggle-datasets-images/1661575/2726067/684ac0c4c14cb46d1047ccb620b45cac/dataset-cover.jpg?t=2021-10-21-03-18-09\" width=\"800\" height=\"300\">\n",
        "</center>\n"
      ],
      "metadata": {
        "id": "vl01lpnQC4j3"
      }
    },
    {
      "cell_type": "markdown",
      "source": [
        "## Objetivo de este Notebook\n",
        "\n",
        "En este notebook, construiremos un sistema de recomendación no personalizado basado en los ítems más populares (Most-Popular-Item Recommender, MPIR). Además, evaluaremos la efectividad del sistema utilizando métricas como el Hit Rate, la Precisión y la Diversidad.\n",
        "\n",
        "En la segunda parte, introduciremos un sistema semi-personalizado utilizando información demográfica.\n"
      ],
      "metadata": {
        "id": "Ht4YatzzD8US"
      }
    },
    {
      "cell_type": "markdown",
      "source": [
        "## Tabla de Contenidos\n",
        "\n",
        "1. <a>Introducción a los Sistemas de Recomendación</a>\n",
        "2. <a>Contexto del Dataset</a>\n",
        "3. <a>Descargar y preparar el Dataset</a>\n",
        "4. <a>Pre-selección y tratamiento de variables</a>\n",
        "5. <a>Construcción del modelo MPIR</a>\n",
        "6. <a>Evaluación del modelo (Hit Rate, Precisión y Diversidad)</a>\n",
        "7. <a>Semi-Personalización del Recomendador</a>\n",
        "8. <a>Desafíos Adicionales</a>\n",
        "9. <a>Conclusiones</a>\n",
        "\n",
        "---\n"
      ],
      "metadata": {
        "id": "L3BcuyWLEQLl"
      }
    },
    {
      "cell_type": "markdown",
      "source": [
        "## 1. Introducción a los Sistemas de Recomendación"
      ],
      "metadata": {
        "id": "kJi9TtgpEpq3"
      }
    },
    {
      "cell_type": "markdown",
      "source": [
        "Los sistemas de recomendación se han convertido en una herramienta esencial en la era digital, ayudando a los usuarios a navegar por vastas cantidades de información al sugerir productos, servicios o contenidos que son relevantes para ellos. Los sistemas de recomendación se pueden clasificar en tres categorías principales:\n",
        "<br><br>\n",
        "\n",
        "<b>1.1. Recomendación no personalizada:</b><br>\n",
        "- Se basa en características generales de los ítems, sin tener en cuenta las preferencias individuales de los usuarios. Ejemplo: recomendaciones basadas en los ítems más populares.\n",
        "\n",
        "<b>1.2. Recomendación basada en contenido:</b><br>\n",
        "- Se enfoca en recomendar ítems similares a aquellos que el usuario ha interactuado anteriormente. Ejemplo: recomendaciones de libros basadas en el género o autor preferido por el usuario.\n",
        "\n",
        "<b>1.3. Recomendación colaborativa:</b><br>\n",
        "- Se basa en las preferencias de otros usuarios similares. Si usuario similares han disfrutado de un libro, es probable que también te guste.\n",
        "\n",
        "<br>En este laboratorio, implementaremos un sistema de recomendación no personalizada utilizando el enfoque de ítems más populares (MPIR).\n",
        "\n",
        "---"
      ],
      "metadata": {
        "id": "dLG-L4dgFYEV"
      }
    },
    {
      "cell_type": "markdown",
      "source": [
        "## 2. Contexto del Dataset"
      ],
      "metadata": {
        "id": "sy3pXTDQGt0M"
      }
    },
    {
      "cell_type": "markdown",
      "source": [
        "El conjunto de datos \"Book-Crossing\" es una colección de información relacionada con libros, usuarios y calificaciones. Este dataset es útil para construir sistemas de recomendación, analizar patrones de lectura y preferencias de los usuarios. Incluye tres componentes principales:\n",
        "<br><br>\n",
        "\n",
        "<b>2.1. Libros: </b><br>\n",
        "- Información sobre los libros, incluyendo su título, autor y año de publicación.\n",
        "\n",
        "<b>2.2. Usuarios: </b><br>\n",
        "- Perfiles de los usuarios que interactúan con los libros, incluyendo su ID, ubicación y edad.\n",
        "\n",
        "<b>2.3. Calificaciones: </b><br>\n",
        "- Calificaciones numéricas que los usuarios asignan a los libros que han leído.\n",
        "\n",
        "<br>Nuestro objetivo es utilizar este dataset para construir un sistema de recomendación no personalizado que sugiere libros basados en su popularidad.\n",
        "\n",
        "---"
      ],
      "metadata": {
        "id": "ZWpzDNVmG7c2"
      }
    },
    {
      "cell_type": "markdown",
      "source": [
        "## 3. Descargar y preparar el Dataset\n"
      ],
      "metadata": {
        "id": "2KPFr9BvIMm7"
      }
    },
    {
      "cell_type": "code",
      "execution_count": 2,
      "metadata": {
        "id": "v96AnIKaCh3P"
      },
      "outputs": [],
      "source": [
        "import pandas as pd\n",
        "import numpy as np\n",
        "import seaborn as sns\n",
        "import matplotlib.pyplot as plt\n",
        "import warnings\n",
        "warnings.filterwarnings(\"ignore\")"
      ]
    },
    {
      "cell_type": "code",
      "source": [
        "# Crear la carpeta llamada 'dataset'\n",
        "!mkdir -p dataset\n",
        "\n",
        "# Descargar los archivos CSV y guardarlos en la carpeta 'dataset'\n",
        "!wget -O dataset/BX-Book-Ratings.csv https://raw.githubusercontent.com/bigsnarfdude/guide-to-data-mining/master/BX-Dump/BX-Book-Ratings.csv\n",
        "!wget -O dataset/BX-Books.csv https://raw.githubusercontent.com/bigsnarfdude/guide-to-data-mining/master/BX-Dump/BX-Books.csv\n",
        "!wget -O dataset/BX-Users.csv https://raw.githubusercontent.com/bigsnarfdude/guide-to-data-mining/master/BX-Dump/BX-Users.csv\n"
      ],
      "metadata": {
        "id": "3IcQO807JqSS"
      },
      "execution_count": null,
      "outputs": []
    },
    {
      "cell_type": "code",
      "source": [
        "# Cargar el dataset\n",
        "ratings = pd.read_csv(\"dataset/BX-Book-Ratings.csv\", sep=\";\", encoding=\"ISO-8859-1\", header=None, na_values='\\\\N')\n",
        "books = pd.read_csv(\"dataset/BX-Books.csv\", sep=\";\", encoding=\"ISO-8859-1\", header=None, na_values='\\\\N', on_bad_lines='skip')\n",
        "users = pd.read_csv(\"dataset/BX-Users.csv\", sep=\";\", encoding=\"ISO-8859-1\", header=None, na_values='\\\\N')\n",
        "\n",
        "# Asignar manualmente los nombres de las columnas\n",
        "ratings.columns = ['User-ID', 'ISBN', 'Book-Rating']\n",
        "books.columns = ['ISBN', 'Book-Title', 'Book-Author', 'Year-Of-Publication', 'Publisher', 'Image-URL-S', 'Image-URL-M', 'Image-URL-L']\n",
        "users.columns = ['User-ID', 'Location', 'Age']\n"
      ],
      "metadata": {
        "id": "bTUI9a1QJww8"
      },
      "execution_count": 4,
      "outputs": []
    },
    {
      "cell_type": "code",
      "source": [
        "# Previsualizar los datos\n",
        "print(\"  Usuarios: {} \\n  Libros: {}\\n  Calificaciones: {}\".format(len(users), len(books), len(ratings)))"
      ],
      "metadata": {
        "id": "xezweXcFMpjZ"
      },
      "execution_count": null,
      "outputs": []
    },
    {
      "cell_type": "code",
      "source": [
        "users.head()"
      ],
      "metadata": {
        "id": "ELklEO8ZMwLD"
      },
      "execution_count": null,
      "outputs": []
    },
    {
      "cell_type": "code",
      "source": [
        "books.head()"
      ],
      "metadata": {
        "id": "SPUKJ8uBMwu1"
      },
      "execution_count": null,
      "outputs": []
    },
    {
      "cell_type": "code",
      "source": [
        "ratings.head()"
      ],
      "metadata": {
        "collapsed": true,
        "id": "eNJXlfduMxDl"
      },
      "execution_count": null,
      "outputs": []
    },
    {
      "cell_type": "markdown",
      "source": [
        "---"
      ],
      "metadata": {
        "id": "l62hJRUROYWo"
      }
    },
    {
      "cell_type": "markdown",
      "source": [
        "## 4. Pre-selección y tratamiento de variables\n"
      ],
      "metadata": {
        "id": "28qiiLdEOZLJ"
      }
    },
    {
      "cell_type": "markdown",
      "source": [
        "En esta sección, prepararemos los datos antes de construir el modelo. Esto incluye la limpieza de los datos, la remoción de outliers, y la transformación de variables para asegurar que los datos estén en un formato adecuado."
      ],
      "metadata": {
        "id": "UYgwWbUSOiGI"
      }
    },
    {
      "cell_type": "code",
      "source": [
        "# Limpieza de nombres de columnas\n",
        "users.columns = users.columns.str.lower().str.replace('-', '_')\n",
        "books.columns = books.columns.str.lower().str.replace('-', '_')\n",
        "ratings.columns = ratings.columns.str.lower().str.replace('-', '_')"
      ],
      "metadata": {
        "id": "aV_nsufrOxtL"
      },
      "execution_count": 9,
      "outputs": []
    },
    {
      "cell_type": "markdown",
      "source": [
        "### 4.1. Tratamiento de datos de usuarios\n"
      ],
      "metadata": {
        "id": "2NY4-fP2Pbs_"
      }
    },
    {
      "cell_type": "markdown",
      "source": [
        "Vamos a eliminar outliers en la variable de edad para evitar que valores extremos afecten el análisis. Esto es importante porque los outliers pueden distorsionar las recomendaciones al representar comportamientos que no son típicos."
      ],
      "metadata": {
        "id": "7jVgt1EGPfpY"
      }
    },
    {
      "cell_type": "code",
      "source": [
        "# Crear un boxplot\n",
        "fig, ax1 = plt.subplots(figsize=(6, 2))\n",
        "sns.boxplot(data=users[['age']], orient=\"h\", ax=ax1)\n",
        "ax1.set_title('Variable Original')"
      ],
      "metadata": {
        "id": "y_dM3W5kQWeg"
      },
      "execution_count": null,
      "outputs": []
    },
    {
      "cell_type": "code",
      "source": [
        "# Remoción de outliers en la variable de edad\n",
        "# Cálculo del IQR\n",
        "IQR = np.nanpercentile(users['age'], 75) - np.nanpercentile(users['age'], 25)\n",
        "\n",
        "# Definir los umbrales inferior y superior para capear los outliers\n",
        "lower_threshold = np.nanpercentile(users['age'], 25) - 1.5 * IQR\n",
        "upper_threshold = np.nanpercentile(users['age'], 75) + 1.5 * IQR\n",
        "\n",
        "# Capear los valores fuera de los umbrales\n",
        "users['age'] = np.clip(users['age'], lower_threshold, upper_threshold)"
      ],
      "metadata": {
        "id": "E62ojk7rOz8h"
      },
      "execution_count": 15,
      "outputs": []
    },
    {
      "cell_type": "code",
      "source": [
        "# Crear un boxplot\n",
        "fig, ax1 = plt.subplots(figsize=(6, 2))\n",
        "sns.boxplot(data=users[['age']], orient=\"h\", ax=ax1)\n",
        "ax1.set_title('Variable Tratada')"
      ],
      "metadata": {
        "id": "lJjHE_AbQOWM"
      },
      "execution_count": null,
      "outputs": []
    },
    {
      "cell_type": "code",
      "source": [
        "# Visualización de la distribución de edades\n",
        "plt.figure(figsize=(8, 4))\n",
        "ax = sns.countplot(data=users, x='age', color='lightblue')\n",
        "ax.set_xticklabels(ax.get_xticklabels(), rotation=90, ha='right', fontsize=8)\n",
        "plt.xlabel('Edad', fontsize=12)\n",
        "plt.ylabel('Cantidad', fontsize=12)\n",
        "plt.title('Distribución de Edad de usuarios', fontsize=14)\n",
        "plt.tight_layout()\n",
        "plt.show()\n"
      ],
      "metadata": {
        "id": "Fl8xn7RRhFFF"
      },
      "execution_count": null,
      "outputs": []
    },
    {
      "cell_type": "markdown",
      "source": [
        "### 4.2. Tratamiento de datos de libros\n"
      ],
      "metadata": {
        "id": "5ytCghKEiA4p"
      }
    },
    {
      "cell_type": "markdown",
      "source": [
        "En este paso, limpiaremos los datos de los libros, eliminando columnas irrelevantes y manejando valores incorrectos en el año de publicación. La eliminación de columnas innecesarias y la corrección de valores atípicos asegura que las recomendaciones se basen en datos fiables y relevantes."
      ],
      "metadata": {
        "id": "5d4e00quiFXP"
      }
    },
    {
      "cell_type": "code",
      "source": [
        "# Eliminación de columnas irrelevantes (URLs de imágenes)\n",
        "books.drop(columns=['image_url_s', 'image_url_m', 'image_url_l'], inplace=True)\n"
      ],
      "metadata": {
        "id": "Q7nIDb1mhFCC"
      },
      "execution_count": 18,
      "outputs": []
    },
    {
      "cell_type": "code",
      "source": [
        "books.head()"
      ],
      "metadata": {
        "id": "h_Zt6Q6PiN32"
      },
      "execution_count": null,
      "outputs": []
    },
    {
      "cell_type": "code",
      "source": [
        "# Convertir año de publicación a numérico y manejo de valores incorrectos\n",
        "books['year_of_publication'] = pd.to_numeric(books['year_of_publication'], errors='coerce')\n",
        "books['year_of_publication'].replace(0, np.nan, inplace=True)"
      ],
      "metadata": {
        "id": "ESgQgbI9iNVa"
      },
      "execution_count": 20,
      "outputs": []
    },
    {
      "cell_type": "code",
      "source": [
        "books.head()"
      ],
      "metadata": {
        "id": "_YY_jLRwiT6P"
      },
      "execution_count": null,
      "outputs": []
    },
    {
      "cell_type": "code",
      "source": [
        "# Visualización de la distribución de edades\n",
        "plt.figure(figsize=(12, 4))\n",
        "ax = sns.countplot(data=books, x='year_of_publication', color='lightblue')\n",
        "ax.set_xticklabels(ax.get_xticklabels(), rotation=90, ha='right', fontsize=8)\n",
        "plt.xlabel('year_of_publication', fontsize=12)\n",
        "plt.ylabel('Cantidad', fontsize=12)\n",
        "plt.title('Distribución de year_of_publication', fontsize=14)\n",
        "plt.tight_layout()\n",
        "plt.show()\n"
      ],
      "metadata": {
        "id": "a3NZ7vLiig4y"
      },
      "execution_count": null,
      "outputs": []
    },
    {
      "cell_type": "code",
      "source": [
        "# Remoción de outliers en año de publicación\n",
        "books = books[(books['year_of_publication'] >= 1964) & (books['year_of_publication'] <= 2004)]\n",
        "books['year_of_publication'] = books['year_of_publication'].astype(int)"
      ],
      "metadata": {
        "id": "U3_6zmsBiTd8"
      },
      "execution_count": 27,
      "outputs": []
    },
    {
      "cell_type": "code",
      "source": [
        "# Visualización de la distribución de años de publicación\n",
        "plt.figure(figsize=(10, 4))\n",
        "ax = sns.countplot(data=books, x='year_of_publication', color='lightblue')\n",
        "ax.set_xticklabels(ax.get_xticklabels(), rotation=90, ha='right', fontsize=8)\n",
        "plt.xlabel('Año de Publicación', fontsize=12)\n",
        "plt.ylabel('Cantidad', fontsize=12)\n",
        "plt.title('Distribución de Años de Publicación de Libros', fontsize=14)\n",
        "plt.tight_layout()\n",
        "plt.show()\n"
      ],
      "metadata": {
        "id": "hFjgwcDeigZi"
      },
      "execution_count": null,
      "outputs": []
    },
    {
      "cell_type": "code",
      "source": [
        "# Limpieza de valores faltantes en autores y editoriales\n",
        "books['publisher'] = books['publisher'].str.replace('&', '&', regex=False)\n",
        "books['publisher'].replace(np.nan, 'Other', inplace=True)\n",
        "books['book_author'].replace(np.nan, \"Unknown\", inplace=True)\n",
        "books.dropna(how='any', axis=0, inplace=True)"
      ],
      "metadata": {
        "id": "X12Js6e-hE_E"
      },
      "execution_count": 31,
      "outputs": []
    },
    {
      "cell_type": "code",
      "source": [
        "books.head()"
      ],
      "metadata": {
        "id": "IKqjO6vshE7a"
      },
      "execution_count": null,
      "outputs": []
    },
    {
      "cell_type": "markdown",
      "source": [
        "### 4.3. Tratamiento de datos de calificaciones"
      ],
      "metadata": {
        "id": "sOLhSbEKjaWH"
      }
    },
    {
      "cell_type": "markdown",
      "source": [
        "En el dataset de Book-Crossing, las calificaciones de 0 generalmente representan que el usuario ha interactuado con el libro (por ejemplo, lo ha registrado o ha indicado que lo ha leído), pero no ha dado una calificación explícita. Estos 0 no indican necesariamente que al usuario no le gustó el libro, sino que son más bien un indicativo de que no se proporcionó una calificación. En este contexto, pueden ser tratados como valores faltantes (missing), dependiendo de cómo quieras manejar estos datos en tu análisis."
      ],
      "metadata": {
        "id": "Jfqo3Ji_kLfP"
      }
    },
    {
      "cell_type": "markdown",
      "source": [
        "Aquí eliminaremos las calificaciones con valor 0, ya que no aportan información relevante. Eliminar calificaciones sin valor ayuda a concentrar el modelo en interacciones genuinas entre los usuarios y los libros."
      ],
      "metadata": {
        "id": "a9VlNN_Njhae"
      }
    },
    {
      "cell_type": "code",
      "source": [
        "# Remover calificaciones con valor 0 (no informativas)\n",
        "ratings = ratings[ratings['book_rating'] != 0]"
      ],
      "metadata": {
        "id": "Sr71R734hE35"
      },
      "execution_count": 36,
      "outputs": []
    },
    {
      "cell_type": "code",
      "source": [
        "# Visualización de la distribución de calificaciones\n",
        "plt.figure(figsize=(8, 3))\n",
        "ax = sns.countplot(data=ratings, x='book_rating', color='lightblue')\n",
        "ax.set_xticklabels(ax.get_xticklabels(), rotation=90, ha='right', fontsize=8)\n",
        "plt.xlabel('Rating del libro', fontsize=12)\n",
        "plt.ylabel('Cantidad', fontsize=12)\n",
        "plt.title('Distribución de Rating de libros', fontsize=14)\n",
        "plt.tight_layout()\n",
        "plt.show()"
      ],
      "metadata": {
        "id": "mzSSxM-4jowJ"
      },
      "execution_count": null,
      "outputs": []
    },
    {
      "cell_type": "markdown",
      "source": [
        "### 4.4. Unificación de datos\n"
      ],
      "metadata": {
        "id": "mz0XkEzUkfZI"
      }
    },
    {
      "cell_type": "markdown",
      "source": [
        "Finalmente, unificaremos los datos de usuarios, calificaciones y libros en un único DataFrame que utilizaremos para construir el modelo de recomendación. Unificar los datos es crucial para poder hacer análisis y recomendaciones basadas en múltiples variables.\n"
      ],
      "metadata": {
        "id": "ILaWxFcEktqN"
      }
    },
    {
      "cell_type": "code",
      "source": [
        "# Unir las tablas de usuarios, calificaciones y libros\n",
        "df_unified = pd.merge(users[['user_id', 'age']], ratings, on='user_id', how='inner')\n",
        "df_unified = pd.merge(df_unified, books[['isbn', 'book_title']], on='isbn', how='inner')\n"
      ],
      "metadata": {
        "id": "myzHkPXDjoja"
      },
      "execution_count": 41,
      "outputs": []
    },
    {
      "cell_type": "code",
      "source": [
        "df_unified.head()"
      ],
      "metadata": {
        "id": "K9zzpc_4lAY9"
      },
      "execution_count": null,
      "outputs": []
    },
    {
      "cell_type": "markdown",
      "source": [
        "## 5. Construcción del modelo MPIR\n"
      ],
      "metadata": {
        "id": "QKTU21XylFfw"
      }
    },
    {
      "cell_type": "markdown",
      "source": [
        "El modelo MPIR recomienda los ítems más populares en base a las calificaciones recibidas. En este caso, los libros que tienen más calificaciones son considerados los más populares. Este enfoque es simple pero efectivo, especialmente en escenarios donde no tenemos información detallada sobre las preferencias individuales de los usuarios."
      ],
      "metadata": {
        "id": "sWYBvYE8lLfy"
      }
    },
    {
      "cell_type": "code",
      "source": [
        "# Establecer un umbral de rating\n",
        "rating_threshold = 6\n",
        "\n",
        "# Filtrar los libros que cumplen con el umbral de rating\n",
        "filtered_ratings = df_unified[df_unified['book_rating'] >= rating_threshold]"
      ],
      "metadata": {
        "id": "-RShByQEqQFm"
      },
      "execution_count": 86,
      "outputs": []
    },
    {
      "cell_type": "code",
      "source": [
        "# Agrupar por usuario para contar la cantidad de libros que han leído\n",
        "books_per_user = filtered_ratings.groupby('user_id')['isbn'].count().reset_index()\n",
        "books_per_user.rename(columns={'isbn': 'books_count'}, inplace=True)"
      ],
      "metadata": {
        "id": "GU_aQsH3vHJD"
      },
      "execution_count": 111,
      "outputs": []
    },
    {
      "cell_type": "code",
      "source": [
        "# Visualización de la distribución de libros por usuario\n",
        "plt.figure(figsize=(8, 3))\n",
        "sns.histplot(books_per_user['books_count'], bins=30, kde=True, color='blue')\n",
        "plt.xlabel('Cantidad de libros por usuario')\n",
        "plt.ylabel('Número de usuarios')\n",
        "plt.title('Distribución de la cantidad de libros vistos por usuario (Rating >= 6)')\n",
        "plt.show()"
      ],
      "metadata": {
        "id": "nLgxn6jvyKJu"
      },
      "execution_count": null,
      "outputs": []
    },
    {
      "cell_type": "code",
      "source": [
        "# Filtrar para quedarse solo con usuarios que han visto al menos 5 libros\n",
        "books_per_user_filtered = books_per_user[books_per_user['books_count'] >= 5]\n",
        "\n",
        "# Calcular el percentil 95 de la distribución de libros vistos\n",
        "percentil_95 = books_per_user_filtered['books_count'].quantile(0.95)\n",
        "\n",
        "# Filtrar para quedarse solo con usuarios que han visto hasta el percentil 95\n",
        "final_filtered_users = books_per_user_filtered[books_per_user_filtered['books_count'] <= percentil_95]\n"
      ],
      "metadata": {
        "id": "9uX-ocJix-4q"
      },
      "execution_count": 113,
      "outputs": []
    },
    {
      "cell_type": "code",
      "source": [
        "# Visualización de la distribución de libros por usuario\n",
        "plt.figure(figsize=(8, 3))\n",
        "sns.histplot(final_filtered_users['books_count'], bins=30, kde=True, color='blue')\n",
        "plt.xlabel('Cantidad de libros por usuario')\n",
        "plt.ylabel('Número de usuarios')\n",
        "plt.title('Distribución de la cantidad de libros vistos por usuario (Rating >= 6)')\n",
        "plt.show()"
      ],
      "metadata": {
        "id": "fLlkfhSRyUvi"
      },
      "execution_count": null,
      "outputs": []
    },
    {
      "cell_type": "code",
      "source": [
        "# Filtrar el DataFrame original para quedarse solo con los usuarios seleccionados\n",
        "filtered_ratings_final = filtered_ratings[filtered_ratings['user_id'].isin(final_filtered_users['user_id'])]\n",
        "filtered_ratings_final.head()"
      ],
      "metadata": {
        "id": "9ZDSdQRHyR-5"
      },
      "execution_count": null,
      "outputs": []
    },
    {
      "cell_type": "code",
      "source": [
        "# División de los datos en conjuntos de entrenamiento y prueba\n",
        "from sklearn.model_selection import train_test_split\n",
        "\n",
        "train_user_ids, test_user_ids = train_test_split(final_filtered_users['user_id'].unique(), train_size=0.7, random_state=123)\n"
      ],
      "metadata": {
        "id": "9sSV-en3jcB8"
      },
      "execution_count": 119,
      "outputs": []
    },
    {
      "cell_type": "code",
      "source": [
        "# Filtrar los datos para obtener el conjunto de entrenamiento y prueba\n",
        "train = filtered_ratings_final[filtered_ratings_final['user_id'].isin(train_user_ids)]\n",
        "test = filtered_ratings_final[filtered_ratings_final['user_id'].isin(test_user_ids)]\n"
      ],
      "metadata": {
        "id": "7x401i1wudQD"
      },
      "execution_count": 226,
      "outputs": []
    },
    {
      "cell_type": "code",
      "source": [
        "print(f'Tamaño del conjunto de entrenamiento: {len(train_user_ids)}')\n",
        "print(f'Tamaño del conjunto de prueba: {len(test_user_ids)}')"
      ],
      "metadata": {
        "id": "IQ6RkS9Xyqdt"
      },
      "execution_count": null,
      "outputs": []
    },
    {
      "cell_type": "code",
      "source": [
        "# Verificar que no haya intersección entre los user_ids de train y test\n",
        "assert len(set(train['user_id']).intersection(set(test['user_id']))) == 0, \"Hay user_ids que se repiten en train y test\"\n"
      ],
      "metadata": {
        "id": "ujyZcawbymyT"
      },
      "execution_count": 121,
      "outputs": []
    },
    {
      "cell_type": "code",
      "source": [
        "# Calcular la popularidad de los libros en el conjunto de entrenamiento\n",
        "most_popular = train.groupby('book_title')[['isbn']].count().reset_index()\n",
        "most_popular.rename(columns={'isbn': 'popularity'}, inplace=True)\n",
        "most_popular.sort_values(by='popularity', ascending=False, inplace=True)"
      ],
      "metadata": {
        "id": "4JlMvYoYlVDy"
      },
      "execution_count": 124,
      "outputs": []
    },
    {
      "cell_type": "code",
      "source": [
        "# Mostrar los libros más populares\n",
        "top10 = most_popular.head(10)\n",
        "top10"
      ],
      "metadata": {
        "id": "SQ9xyywrlbHP"
      },
      "execution_count": null,
      "outputs": []
    },
    {
      "cell_type": "code",
      "source": [
        "# Crear un gráfico de barras\n",
        "plt.figure(figsize=(10, 4))\n",
        "plt.barh(top10['book_title'], top10['popularity'], color='skyblue')\n",
        "plt.xlabel('Popularity', fontsize=12)\n",
        "plt.ylabel('Book Title', fontsize=12)\n",
        "plt.title('Top 10 Most Popular Books', fontsize=14)\n",
        "plt.gca().invert_yaxis()  # Invertir el eje y para que el libro más popular esté en la parte superior\n",
        "plt.grid(True, axis='x', linestyle='--', alpha=0.6)\n",
        "plt.tight_layout()\n",
        "plt.show()"
      ],
      "metadata": {
        "id": "r5h9-edTlw2o"
      },
      "execution_count": null,
      "outputs": []
    },
    {
      "cell_type": "code",
      "source": [
        "# Calcular el porcentaje de popularidad\n",
        "top10['popularity_percent'] = (top10['popularity'] / len(train_user_ids)) * 100\n",
        "\n",
        "\n",
        "# Crear un gráfico de barras con porcentajes\n",
        "plt.figure(figsize=(10, 4))\n",
        "plt.barh(top10['book_title'], top10['popularity_percent'], color='skyblue')\n",
        "plt.xlabel('Popularity (%)', fontsize=12)\n",
        "plt.ylabel('Book Title', fontsize=12)\n",
        "plt.title('Top 10 Most Popular Books by Percentage', fontsize=14)\n",
        "plt.gca().invert_yaxis()  # Invertir el eje y para que el libro más popular esté en la parte superior\n",
        "plt.grid(True, axis='x', linestyle='--', alpha=0.6)\n",
        "plt.tight_layout()\n",
        "\n",
        "# Mostrar el gráfico\n",
        "plt.show()\n"
      ],
      "metadata": {
        "id": "wqaVN2yMmq9a"
      },
      "execution_count": null,
      "outputs": []
    },
    {
      "cell_type": "markdown",
      "source": [
        "## 6. Evaluación del modelo (Hit Rate, Precisión y Diversidad)\n"
      ],
      "metadata": {
        "id": "3YUVZktajkr5"
      }
    },
    {
      "cell_type": "markdown",
      "source": [
        "En esta sección, evaluaremos la efectividad del recomendador utilizando tres métricas: <b>Hit Rate, Precisión y Diversidad.</b> Estas métricas nos ayudarán a entender la calidad de las recomendaciones."
      ],
      "metadata": {
        "id": "y8Lvy1Esnlv8"
      }
    },
    {
      "cell_type": "markdown",
      "source": [
        "- 6.1. Hit Rate: Mide la proporción de usuarios que recibieron al menos una recomendación relevante.\n",
        "- 6.2. Precisión: Mide la proporción de recomendaciones relevantes entre el total de recomendaciones.\n",
        "- 6.3. Diversidad: Mide cuán variadas son las recomendaciones dentro de una lista.\n"
      ],
      "metadata": {
        "id": "DANBdVocn1Vb"
      }
    },
    {
      "cell_type": "markdown",
      "source": [
        "### 6.1. Aplicación de recomendaciones\n",
        "\n",
        "Las recomendaciones se basan en los libros más populares Asignaremos los libros más populares como recomendaciones para el conjunto de prueba.\n"
      ],
      "metadata": {
        "id": "5rLIbxVZo_Ir"
      }
    },
    {
      "cell_type": "code",
      "source": [
        "top10"
      ],
      "metadata": {
        "id": "yF5VAWXWq76o"
      },
      "execution_count": null,
      "outputs": []
    },
    {
      "cell_type": "code",
      "source": [
        "test['rec_1'] = top10.book_title.tolist()[0]\n",
        "test['rec_2'] = top10.book_title.tolist()[1]\n",
        "test['rec_3'] = top10.book_title.tolist()[2]\n",
        "test['rec_4'] = top10.book_title.tolist()[3]\n",
        "test['rec_5'] = top10.book_title.tolist()[4]\n",
        "test['rec_6'] = top10.book_title.tolist()[5]\n",
        "test['rec_7'] = top10.book_title.tolist()[6]\n",
        "test['rec_8'] = top10.book_title.tolist()[7]\n",
        "test['rec_9'] = top10.book_title.tolist()[8]\n",
        "test['rec_10'] = top10.book_title.tolist()[9]\n"
      ],
      "metadata": {
        "id": "tTEwkRJbhEwR"
      },
      "execution_count": 137,
      "outputs": []
    },
    {
      "cell_type": "markdown",
      "source": [
        "### 6.2. Cálculo de Hit Rate\n",
        "\n",
        "Hit Rate mide la proporción de usuarios que recibieron al menos una recomendación relevante."
      ],
      "metadata": {
        "id": "fFCQrIplphol"
      }
    },
    {
      "cell_type": "code",
      "source": [
        "# Cálculo del \"hit\" para cada usuario basado en si alguna de las recomendaciones coincide con un libro que le gustó\n",
        "test['hit'] = (\n",
        "    (test.book_title == test.rec_1) |\n",
        "    (test.book_title == test.rec_2) |\n",
        "    (test.book_title == test.rec_3) |\n",
        "    (test.book_title == test.rec_4) |\n",
        "    (test.book_title == test.rec_5) |\n",
        "    (test.book_title == test.rec_6) |\n",
        "    (test.book_title == test.rec_7) |\n",
        "    (test.book_title == test.rec_8) |\n",
        "    (test.book_title == test.rec_9) |\n",
        "    (test.book_title == test.rec_10)\n",
        ")\n",
        "\n",
        "# Agregación por usuario: verificar si hubo algún \"hit\" para cada usuario\n",
        "user_hits = test.groupby('user_id')['hit'].max().reset_index()\n",
        "\n",
        "# Cálculo del Hit Rate: proporción de usuarios con al menos un \"hit\"\n",
        "hit_rate = round(user_hits['hit'].mean() * 100, 1)\n",
        "print(f'Hit Rate: {hit_rate}%')"
      ],
      "metadata": {
        "id": "5T6-jleJpf8V"
      },
      "execution_count": null,
      "outputs": []
    },
    {
      "cell_type": "markdown",
      "source": [
        "### 6.3. Cálculo de Precisión\n"
      ],
      "metadata": {
        "id": "NEgHLTz03apP"
      }
    },
    {
      "cell_type": "code",
      "source": [
        "# Precisión\n",
        "test_cliente = test.groupby('user_id').aggregate({'hit': 'sum'}).reset_index()\n",
        "precision = round(test_cliente['hit'].mean() / 5 * 100, 1)\n",
        "print(f'Semi-Personalized Precision: {precision}%')"
      ],
      "metadata": {
        "id": "sXorg_JRzwYn"
      },
      "execution_count": null,
      "outputs": []
    },
    {
      "cell_type": "code",
      "source": [
        "# Contar cuántos \"hits\" hubo para cada usuario, es decir, cuántas de las recomendaciones coincidieron con un libro que le gustó\n",
        "test['hits'] = (\n",
        "    (test.book_title == test.rec_1).astype(int) +\n",
        "    (test.book_title == test.rec_2).astype(int) +\n",
        "    (test.book_title == test.rec_3).astype(int) +\n",
        "    (test.book_title == test.rec_4).astype(int) +\n",
        "    (test.book_title == test.rec_5).astype(int) +\n",
        "    (test.book_title == test.rec_6).astype(int) +\n",
        "    (test.book_title == test.rec_7).astype(int) +\n",
        "    (test.book_title == test.rec_8).astype(int) +\n",
        "    (test.book_title == test.rec_9).astype(int) +\n",
        "    (test.book_title == test.rec_10).astype(int)\n",
        ")\n",
        "\n",
        "# Agrupar por usuario y sumar los \"hits\" por usuario\n",
        "user_hits = test.groupby('user_id')['hits'].sum().reset_index()\n",
        "user_hits.sort_values(by = 'hits', ascending = False).head()\n"
      ],
      "metadata": {
        "id": "ukmLfZQw1En5"
      },
      "execution_count": null,
      "outputs": []
    },
    {
      "cell_type": "code",
      "source": [
        "# Calcular la precisión por usuario (número de hits dividido entre el número de recomendaciones)\n",
        "user_hits['precision'] = user_hits['hits'] /10  # número total de recomendaciones que diste\n",
        "\n",
        "# Calcular la precisión promedio para todos los usuarios\n",
        "precision = round(user_hits['precision'].mean() * 100, 1)\n",
        "print(f'Precision: {precision}%')"
      ],
      "metadata": {
        "id": "NTUvydlo1KKW"
      },
      "execution_count": null,
      "outputs": []
    },
    {
      "cell_type": "code",
      "source": [
        "# Visualización de la distribución de libros por usuario\n",
        "plt.figure(figsize=(8, 3))\n",
        "sns.histplot(user_hits['hits'], color='blue')\n",
        "plt.xlabel('Cantidad de libros que hicieron hit')\n",
        "plt.ylabel('Número de usuarios')\n",
        "plt.title('Distribución de la cantidad de libros que hicieron hit')\n",
        "plt.show()"
      ],
      "metadata": {
        "id": "g9InHHKR23dv"
      },
      "execution_count": null,
      "outputs": []
    },
    {
      "cell_type": "markdown",
      "source": [
        "### 6.4. Cálculo de Diversidad\n"
      ],
      "metadata": {
        "id": "ABfRUn9z3XSk"
      }
    },
    {
      "cell_type": "markdown",
      "source": [
        "La Diversidad Intra-Lista (ILD) mide cuán variadas son las recomendaciones dentro de una lista. Se utiliza una métrica de similitud para evaluar esto."
      ],
      "metadata": {
        "id": "84WbdFfL3kIF"
      }
    },
    {
      "cell_type": "code",
      "source": [
        "top10.book_title.tolist()"
      ],
      "metadata": {
        "id": "1Guz6RAQ4k5h"
      },
      "execution_count": null,
      "outputs": []
    },
    {
      "cell_type": "code",
      "source": [
        "books"
      ],
      "metadata": {
        "id": "tBSTTscp3jk2"
      },
      "execution_count": null,
      "outputs": []
    },
    {
      "cell_type": "code",
      "source": [
        "top10_titles"
      ],
      "metadata": {
        "collapsed": true,
        "id": "NduFjv2K5WeG"
      },
      "execution_count": null,
      "outputs": []
    },
    {
      "cell_type": "code",
      "source": [
        "# Suponiendo que tienes un DataFrame `df_unified` que incluye las características de los libros\n",
        "top10_titles = top10.book_title.tolist()\n",
        "\n",
        "# Filtrar los libros de la lista de recomendaciones top10 para obtener sus características\n",
        "recommended_books = books[books['book_title'].isin(top10_titles)][['book_title', 'book_author', 'year_of_publication', 'publisher']]\n",
        "recommended_books = recommended_books.drop_duplicates(subset = 'book_title', keep='first')\n",
        "recommended_books\n"
      ],
      "metadata": {
        "id": "iypThZMo3Wlw"
      },
      "execution_count": null,
      "outputs": []
    },
    {
      "cell_type": "code",
      "source": [
        "from sklearn.metrics.pairwise import cosine_similarity\n",
        "from sklearn.feature_extraction.text import CountVectorizer\n",
        "from sklearn.preprocessing import StandardScaler\n",
        "\n",
        "# 1. Convertir las características de texto a representaciones numéricas\n",
        "vectorizer_author = CountVectorizer()\n",
        "vectorizer_publisher = CountVectorizer()\n",
        "\n",
        "author_features = vectorizer_author.fit_transform(recommended_books['book_author']).toarray()\n",
        "publisher_features = vectorizer_publisher.fit_transform(recommended_books['publisher']).toarray()\n"
      ],
      "metadata": {
        "id": "oFgju4ZE5uYG"
      },
      "execution_count": 185,
      "outputs": []
    },
    {
      "cell_type": "code",
      "source": [
        "# 2. Calcular la antigüedad en años (2024 - year_of_publication)\n",
        "recommended_books['antiguedad'] = 2024 - recommended_books['year_of_publication']\n",
        "\n",
        "# Escalar la antigüedad para que esté en una escala comparable\n",
        "scaler = StandardScaler()\n",
        "antiguedad_features = scaler.fit_transform(recommended_books[['antiguedad']])\n"
      ],
      "metadata": {
        "id": "D6nHXsfx6aqI"
      },
      "execution_count": 187,
      "outputs": []
    },
    {
      "cell_type": "code",
      "source": [
        "# 3. Crear una matriz de características combinadas\n",
        "combined_features = np.hstack([author_features, antiguedad_features, publisher_features])\n"
      ],
      "metadata": {
        "id": "l5BgnbAH6gjY"
      },
      "execution_count": 188,
      "outputs": []
    },
    {
      "cell_type": "code",
      "source": [
        "# 4. Calcular la similitud coseno entre los libros en la lista de recomendaciones\n",
        "similarity_matrix = cosine_similarity(combined_features)"
      ],
      "metadata": {
        "id": "GUYK0RRU6jb5"
      },
      "execution_count": 196,
      "outputs": []
    },
    {
      "cell_type": "markdown",
      "source": [
        "#### Contexto de ILD:\n",
        "\n",
        "ILD (Intra-List Diversity) es una métrica que varía entre 0 y 1, donde:\n",
        "- 0 indica que todas las recomendaciones son muy similares entre sí.\n",
        "- 1 indica que todas las recomendaciones son completamente diferentes entre sí."
      ],
      "metadata": {
        "id": "9cDJpwmJ7K7C"
      }
    },
    {
      "cell_type": "code",
      "source": [
        "# 5. Calcular la Diversidad Intra-Lista (ILD)\n",
        "n_items = len(top10_titles)\n",
        "ild = 1 - np.sum(similarity_matrix) / (n_items * (n_items - 1))\n",
        "\n",
        "print(f\"Intra-List Diversity (ILD): {ild:.2f}\")"
      ],
      "metadata": {
        "id": "IyNOKld76nv_"
      },
      "execution_count": null,
      "outputs": []
    },
    {
      "cell_type": "markdown",
      "source": [
        "### Interpretación:\n",
        "\n",
        "ILD = 0.88 significa que la lista de recomendaciones es  diversa. La similitud promedio entre los ítems en la lista es baja, lo que indica que los libros recomendados tienen características bastante diferentes entre sí."
      ],
      "metadata": {
        "id": "nEocD7qh7VR6"
      }
    },
    {
      "cell_type": "markdown",
      "source": [
        "## 7. Semi-Personalización del Recomendador\n"
      ],
      "metadata": {
        "id": "9sdGpwZaGIQK"
      }
    },
    {
      "cell_type": "markdown",
      "source": [
        "En esta sección, vamos a introducir una semi-personalización del sistema de recomendación utilizando la variable de edad de los usuarios. Dividiremos a los usuarios en rangos de edad y recomendaremos libros populares dentro de cada grupo. Este enfoque permite ofrecer recomendaciones más relevantes sin requerir información detallada sobre cada usuario.\n"
      ],
      "metadata": {
        "id": "WazotcvmGIHf"
      }
    },
    {
      "cell_type": "markdown",
      "source": [
        "### 7.1. Discretización de la variable de edad\n"
      ],
      "metadata": {
        "id": "8MIUq3mo81Pb"
      }
    },
    {
      "cell_type": "code",
      "source": [
        "users[users.user_id.isin(train_user_ids)]"
      ],
      "metadata": {
        "id": "FiRTmubv9Jb7"
      },
      "execution_count": null,
      "outputs": []
    },
    {
      "cell_type": "code",
      "source": [
        "# Imputar valores NaN en 'age' con la mediana (o podrías usar la media, según lo prefieras)\n",
        "users['age'].fillna(users['age'].median(), inplace=True)\n",
        "\n",
        "# Vamos a agrupar las edades en cinco rangos utilizando KBinsDiscretizer.\n",
        "\n",
        "from sklearn.preprocessing import KBinsDiscretizer\n",
        "\n",
        "discretizer = KBinsDiscretizer(n_bins=5, encode='ordinal', strategy=\"quantile\")\n",
        "discretizer = discretizer.fit(np.array(users[users.user_id.isin(train_user_ids)]['age']).reshape(-1, 1))\n"
      ],
      "metadata": {
        "id": "WrhYCVR887bZ"
      },
      "execution_count": 221,
      "outputs": []
    },
    {
      "cell_type": "code",
      "source": [
        "# Aplicar la transformación a todo el conjunto de datos\n",
        "users['age_rango'] = discretizer.transform(np.array(users['age']).reshape(-1, 1))\n",
        "users.head()"
      ],
      "metadata": {
        "id": "YkGLcdK5-Wws"
      },
      "execution_count": null,
      "outputs": []
    },
    {
      "cell_type": "code",
      "source": [
        "# Asumiendo que discretizer ya ha sido ajustado y aplicado\n",
        "import numpy as np\n",
        "\n",
        "# Definir los límites de los bins (rangos de edad) basados en los cortes realizados por el discretizer\n",
        "bin_edges = discretizer.bin_edges_[0]\n",
        "\n",
        "# Crear las etiquetas de los rangos\n",
        "age_labels = [f\"{int(bin_edges[i])}-{int(bin_edges[i+1])-1}\" for i in range(len(bin_edges)-1)]\n",
        "\n",
        "# Asignar los valores discretizados a sus correspondientes etiquetas\n",
        "users['age_rango_desc'] = pd.cut(users['age'], bins=bin_edges, labels=age_labels, include_lowest=True, right=False)\n",
        "\n",
        "# Verificar la transformación\n",
        "users[['age', 'age_rango', 'age_rango_desc']].head()\n"
      ],
      "metadata": {
        "colab": {
          "base_uri": "https://localhost:8080/",
          "height": 206
        },
        "id": "QEbjz_x5_mol",
        "outputId": "72caa514-fe13-499e-bab1-7a58dbe460a7"
      },
      "execution_count": 223,
      "outputs": [
        {
          "output_type": "execute_result",
          "data": {
            "text/plain": [
              "    age  age_rango age_rango_desc\n",
              "0  32.0        2.0          32-41\n",
              "1  18.0        0.0           2-26\n",
              "2  32.0        2.0          32-41\n",
              "3  17.0        0.0           2-26\n",
              "4  32.0        2.0          32-41"
            ],
            "text/html": [
              "\n",
              "  <div id=\"df-fcb5e731-81dc-4523-b463-3b1c73bf827b\" class=\"colab-df-container\">\n",
              "    <div>\n",
              "<style scoped>\n",
              "    .dataframe tbody tr th:only-of-type {\n",
              "        vertical-align: middle;\n",
              "    }\n",
              "\n",
              "    .dataframe tbody tr th {\n",
              "        vertical-align: top;\n",
              "    }\n",
              "\n",
              "    .dataframe thead th {\n",
              "        text-align: right;\n",
              "    }\n",
              "</style>\n",
              "<table border=\"1\" class=\"dataframe\">\n",
              "  <thead>\n",
              "    <tr style=\"text-align: right;\">\n",
              "      <th></th>\n",
              "      <th>age</th>\n",
              "      <th>age_rango</th>\n",
              "      <th>age_rango_desc</th>\n",
              "    </tr>\n",
              "  </thead>\n",
              "  <tbody>\n",
              "    <tr>\n",
              "      <th>0</th>\n",
              "      <td>32.0</td>\n",
              "      <td>2.0</td>\n",
              "      <td>32-41</td>\n",
              "    </tr>\n",
              "    <tr>\n",
              "      <th>1</th>\n",
              "      <td>18.0</td>\n",
              "      <td>0.0</td>\n",
              "      <td>2-26</td>\n",
              "    </tr>\n",
              "    <tr>\n",
              "      <th>2</th>\n",
              "      <td>32.0</td>\n",
              "      <td>2.0</td>\n",
              "      <td>32-41</td>\n",
              "    </tr>\n",
              "    <tr>\n",
              "      <th>3</th>\n",
              "      <td>17.0</td>\n",
              "      <td>0.0</td>\n",
              "      <td>2-26</td>\n",
              "    </tr>\n",
              "    <tr>\n",
              "      <th>4</th>\n",
              "      <td>32.0</td>\n",
              "      <td>2.0</td>\n",
              "      <td>32-41</td>\n",
              "    </tr>\n",
              "  </tbody>\n",
              "</table>\n",
              "</div>\n",
              "    <div class=\"colab-df-buttons\">\n",
              "\n",
              "  <div class=\"colab-df-container\">\n",
              "    <button class=\"colab-df-convert\" onclick=\"convertToInteractive('df-fcb5e731-81dc-4523-b463-3b1c73bf827b')\"\n",
              "            title=\"Convert this dataframe to an interactive table.\"\n",
              "            style=\"display:none;\">\n",
              "\n",
              "  <svg xmlns=\"http://www.w3.org/2000/svg\" height=\"24px\" viewBox=\"0 -960 960 960\">\n",
              "    <path d=\"M120-120v-720h720v720H120Zm60-500h600v-160H180v160Zm220 220h160v-160H400v160Zm0 220h160v-160H400v160ZM180-400h160v-160H180v160Zm440 0h160v-160H620v160ZM180-180h160v-160H180v160Zm440 0h160v-160H620v160Z\"/>\n",
              "  </svg>\n",
              "    </button>\n",
              "\n",
              "  <style>\n",
              "    .colab-df-container {\n",
              "      display:flex;\n",
              "      gap: 12px;\n",
              "    }\n",
              "\n",
              "    .colab-df-convert {\n",
              "      background-color: #E8F0FE;\n",
              "      border: none;\n",
              "      border-radius: 50%;\n",
              "      cursor: pointer;\n",
              "      display: none;\n",
              "      fill: #1967D2;\n",
              "      height: 32px;\n",
              "      padding: 0 0 0 0;\n",
              "      width: 32px;\n",
              "    }\n",
              "\n",
              "    .colab-df-convert:hover {\n",
              "      background-color: #E2EBFA;\n",
              "      box-shadow: 0px 1px 2px rgba(60, 64, 67, 0.3), 0px 1px 3px 1px rgba(60, 64, 67, 0.15);\n",
              "      fill: #174EA6;\n",
              "    }\n",
              "\n",
              "    .colab-df-buttons div {\n",
              "      margin-bottom: 4px;\n",
              "    }\n",
              "\n",
              "    [theme=dark] .colab-df-convert {\n",
              "      background-color: #3B4455;\n",
              "      fill: #D2E3FC;\n",
              "    }\n",
              "\n",
              "    [theme=dark] .colab-df-convert:hover {\n",
              "      background-color: #434B5C;\n",
              "      box-shadow: 0px 1px 3px 1px rgba(0, 0, 0, 0.15);\n",
              "      filter: drop-shadow(0px 1px 2px rgba(0, 0, 0, 0.3));\n",
              "      fill: #FFFFFF;\n",
              "    }\n",
              "  </style>\n",
              "\n",
              "    <script>\n",
              "      const buttonEl =\n",
              "        document.querySelector('#df-fcb5e731-81dc-4523-b463-3b1c73bf827b button.colab-df-convert');\n",
              "      buttonEl.style.display =\n",
              "        google.colab.kernel.accessAllowed ? 'block' : 'none';\n",
              "\n",
              "      async function convertToInteractive(key) {\n",
              "        const element = document.querySelector('#df-fcb5e731-81dc-4523-b463-3b1c73bf827b');\n",
              "        const dataTable =\n",
              "          await google.colab.kernel.invokeFunction('convertToInteractive',\n",
              "                                                    [key], {});\n",
              "        if (!dataTable) return;\n",
              "\n",
              "        const docLinkHtml = 'Like what you see? Visit the ' +\n",
              "          '<a target=\"_blank\" href=https://colab.research.google.com/notebooks/data_table.ipynb>data table notebook</a>'\n",
              "          + ' to learn more about interactive tables.';\n",
              "        element.innerHTML = '';\n",
              "        dataTable['output_type'] = 'display_data';\n",
              "        await google.colab.output.renderOutput(dataTable, element);\n",
              "        const docLink = document.createElement('div');\n",
              "        docLink.innerHTML = docLinkHtml;\n",
              "        element.appendChild(docLink);\n",
              "      }\n",
              "    </script>\n",
              "  </div>\n",
              "\n",
              "\n",
              "<div id=\"df-c8fc0d99-e6c0-45ec-a323-da8105d42f0a\">\n",
              "  <button class=\"colab-df-quickchart\" onclick=\"quickchart('df-c8fc0d99-e6c0-45ec-a323-da8105d42f0a')\"\n",
              "            title=\"Suggest charts\"\n",
              "            style=\"display:none;\">\n",
              "\n",
              "<svg xmlns=\"http://www.w3.org/2000/svg\" height=\"24px\"viewBox=\"0 0 24 24\"\n",
              "     width=\"24px\">\n",
              "    <g>\n",
              "        <path d=\"M19 3H5c-1.1 0-2 .9-2 2v14c0 1.1.9 2 2 2h14c1.1 0 2-.9 2-2V5c0-1.1-.9-2-2-2zM9 17H7v-7h2v7zm4 0h-2V7h2v10zm4 0h-2v-4h2v4z\"/>\n",
              "    </g>\n",
              "</svg>\n",
              "  </button>\n",
              "\n",
              "<style>\n",
              "  .colab-df-quickchart {\n",
              "      --bg-color: #E8F0FE;\n",
              "      --fill-color: #1967D2;\n",
              "      --hover-bg-color: #E2EBFA;\n",
              "      --hover-fill-color: #174EA6;\n",
              "      --disabled-fill-color: #AAA;\n",
              "      --disabled-bg-color: #DDD;\n",
              "  }\n",
              "\n",
              "  [theme=dark] .colab-df-quickchart {\n",
              "      --bg-color: #3B4455;\n",
              "      --fill-color: #D2E3FC;\n",
              "      --hover-bg-color: #434B5C;\n",
              "      --hover-fill-color: #FFFFFF;\n",
              "      --disabled-bg-color: #3B4455;\n",
              "      --disabled-fill-color: #666;\n",
              "  }\n",
              "\n",
              "  .colab-df-quickchart {\n",
              "    background-color: var(--bg-color);\n",
              "    border: none;\n",
              "    border-radius: 50%;\n",
              "    cursor: pointer;\n",
              "    display: none;\n",
              "    fill: var(--fill-color);\n",
              "    height: 32px;\n",
              "    padding: 0;\n",
              "    width: 32px;\n",
              "  }\n",
              "\n",
              "  .colab-df-quickchart:hover {\n",
              "    background-color: var(--hover-bg-color);\n",
              "    box-shadow: 0 1px 2px rgba(60, 64, 67, 0.3), 0 1px 3px 1px rgba(60, 64, 67, 0.15);\n",
              "    fill: var(--button-hover-fill-color);\n",
              "  }\n",
              "\n",
              "  .colab-df-quickchart-complete:disabled,\n",
              "  .colab-df-quickchart-complete:disabled:hover {\n",
              "    background-color: var(--disabled-bg-color);\n",
              "    fill: var(--disabled-fill-color);\n",
              "    box-shadow: none;\n",
              "  }\n",
              "\n",
              "  .colab-df-spinner {\n",
              "    border: 2px solid var(--fill-color);\n",
              "    border-color: transparent;\n",
              "    border-bottom-color: var(--fill-color);\n",
              "    animation:\n",
              "      spin 1s steps(1) infinite;\n",
              "  }\n",
              "\n",
              "  @keyframes spin {\n",
              "    0% {\n",
              "      border-color: transparent;\n",
              "      border-bottom-color: var(--fill-color);\n",
              "      border-left-color: var(--fill-color);\n",
              "    }\n",
              "    20% {\n",
              "      border-color: transparent;\n",
              "      border-left-color: var(--fill-color);\n",
              "      border-top-color: var(--fill-color);\n",
              "    }\n",
              "    30% {\n",
              "      border-color: transparent;\n",
              "      border-left-color: var(--fill-color);\n",
              "      border-top-color: var(--fill-color);\n",
              "      border-right-color: var(--fill-color);\n",
              "    }\n",
              "    40% {\n",
              "      border-color: transparent;\n",
              "      border-right-color: var(--fill-color);\n",
              "      border-top-color: var(--fill-color);\n",
              "    }\n",
              "    60% {\n",
              "      border-color: transparent;\n",
              "      border-right-color: var(--fill-color);\n",
              "    }\n",
              "    80% {\n",
              "      border-color: transparent;\n",
              "      border-right-color: var(--fill-color);\n",
              "      border-bottom-color: var(--fill-color);\n",
              "    }\n",
              "    90% {\n",
              "      border-color: transparent;\n",
              "      border-bottom-color: var(--fill-color);\n",
              "    }\n",
              "  }\n",
              "</style>\n",
              "\n",
              "  <script>\n",
              "    async function quickchart(key) {\n",
              "      const quickchartButtonEl =\n",
              "        document.querySelector('#' + key + ' button');\n",
              "      quickchartButtonEl.disabled = true;  // To prevent multiple clicks.\n",
              "      quickchartButtonEl.classList.add('colab-df-spinner');\n",
              "      try {\n",
              "        const charts = await google.colab.kernel.invokeFunction(\n",
              "            'suggestCharts', [key], {});\n",
              "      } catch (error) {\n",
              "        console.error('Error during call to suggestCharts:', error);\n",
              "      }\n",
              "      quickchartButtonEl.classList.remove('colab-df-spinner');\n",
              "      quickchartButtonEl.classList.add('colab-df-quickchart-complete');\n",
              "    }\n",
              "    (() => {\n",
              "      let quickchartButtonEl =\n",
              "        document.querySelector('#df-c8fc0d99-e6c0-45ec-a323-da8105d42f0a button');\n",
              "      quickchartButtonEl.style.display =\n",
              "        google.colab.kernel.accessAllowed ? 'block' : 'none';\n",
              "    })();\n",
              "  </script>\n",
              "</div>\n",
              "\n",
              "    </div>\n",
              "  </div>\n"
            ],
            "application/vnd.google.colaboratory.intrinsic+json": {
              "type": "dataframe",
              "summary": "{\n  \"name\": \"users[['age', 'age_rango', 'age_rango_desc']]\",\n  \"rows\": 5,\n  \"fields\": [\n    {\n      \"column\": \"age\",\n      \"properties\": {\n        \"dtype\": \"number\",\n        \"std\": 7.9498427657407165,\n        \"min\": 17.0,\n        \"max\": 32.0,\n        \"num_unique_values\": 3,\n        \"samples\": [\n          32.0,\n          18.0,\n          17.0\n        ],\n        \"semantic_type\": \"\",\n        \"description\": \"\"\n      }\n    },\n    {\n      \"column\": \"age_rango\",\n      \"properties\": {\n        \"dtype\": \"number\",\n        \"std\": 1.0954451150103324,\n        \"min\": 0.0,\n        \"max\": 2.0,\n        \"num_unique_values\": 2,\n        \"samples\": [\n          0.0,\n          2.0\n        ],\n        \"semantic_type\": \"\",\n        \"description\": \"\"\n      }\n    },\n    {\n      \"column\": \"age_rango_desc\",\n      \"properties\": {\n        \"dtype\": \"category\",\n        \"num_unique_values\": 2,\n        \"samples\": [\n          \"2-26\",\n          \"32-41\"\n        ],\n        \"semantic_type\": \"\",\n        \"description\": \"\"\n      }\n    }\n  ]\n}"
            }
          },
          "metadata": {},
          "execution_count": 223
        }
      ]
    },
    {
      "cell_type": "code",
      "source": [
        "# Filtrar el DataFrame de entrenamiento para trabajar solo con los usuarios de train\n",
        "train = filtered_ratings_final[filtered_ratings_final['user_id'].isin(train_user_ids)]\n",
        "train = pd.merge(train, users[['user_id', 'age_rango', 'age_rango_desc']], on='user_id', how='left')\n",
        "\n",
        "# Calcular la popularidad de los libros dentro de cada rango de edad en el conjunto de entrenamiento\n",
        "most_popular_age = train.groupby(['book_title', 'age_rango', 'age_rango_desc'])[['isbn']].count().reset_index()\n",
        "most_popular_age.rename(columns={'isbn': 'popularity'}, inplace=True)\n",
        "most_popular_age.sort_values(by='popularity', ascending=False, inplace=True)\n"
      ],
      "metadata": {
        "id": "1zedJNDh8-Ol"
      },
      "execution_count": 227,
      "outputs": []
    },
    {
      "cell_type": "code",
      "source": [
        "# Mostrar los libros más populares en cada rango de edad\n",
        "for i in range(5):\n",
        "    print(f\"Top 5 libros para el rango de edad {i}:\")\n",
        "    print(most_popular_age[most_popular_age['age_rango'] == i].head(5), '\\n')\n"
      ],
      "metadata": {
        "id": "GSsQ-hnB_NfX"
      },
      "execution_count": null,
      "outputs": []
    },
    {
      "cell_type": "markdown",
      "source": [
        "### 7.3. Aplicar recomendaciones semi-personalizadas\n"
      ],
      "metadata": {
        "id": "OUOOK_kIAu8b"
      }
    },
    {
      "cell_type": "markdown",
      "source": [
        "Ahora, aplicaremos las recomendaciones basadas en el rango de edad del usuario.\n"
      ],
      "metadata": {
        "id": "eOmYYO8hAxz7"
      }
    },
    {
      "cell_type": "code",
      "source": [
        "# Incorporar el rango de edad al conjunto de prueba\n",
        "test = filtered_ratings_final[filtered_ratings_final['user_id'].isin(test_user_ids)]\n",
        "test = pd.merge(test, users[['user_id', 'age_rango', 'age_rango_desc']], on='user_id', how='left')"
      ],
      "metadata": {
        "id": "uA-PekkCA5sj"
      },
      "execution_count": 234,
      "outputs": []
    },
    {
      "cell_type": "code",
      "source": [
        "# Crear el DataFrame de recomendaciones semi-personalizadas basado en los libros más populares para cada rango de edad\n",
        "recom = pd.DataFrame({\n",
        "    'age_rango': [0, 1, 2, 3, 4],\n",
        "    'rec_1': [most_popular_age[most_popular_age.age_rango == i].book_title.tolist()[0] if len(most_popular_age[most_popular_age.age_rango == i].book_title.tolist()) > 0 else \"No disponible\" for i in range(5)],\n",
        "    'rec_2': [most_popular_age[most_popular_age.age_rango == i].book_title.tolist()[1] if len(most_popular_age[most_popular_age.age_rango == i].book_title.tolist()) > 1 else \"No disponible\" for i in range(5)],\n",
        "    'rec_3': [most_popular_age[most_popular_age.age_rango == i].book_title.tolist()[2] if len(most_popular_age[most_popular_age.age_rango == i].book_title.tolist()) > 2 else \"No disponible\" for i in range(5)],\n",
        "    'rec_4': [most_popular_age[most_popular_age.age_rango == i].book_title.tolist()[3] if len(most_popular_age[most_popular_age.age_rango == i].book_title.tolist()) > 3 else \"No disponible\" for i in range(5)],\n",
        "    'rec_5': [most_popular_age[most_popular_age.age_rango == i].book_title.tolist()[4] if len(most_popular_age[most_popular_age.age_rango == i].book_title.tolist()) > 4 else \"No disponible\" for i in range(5)]\n",
        "})\n",
        "\n",
        "# Fusionar las recomendaciones con el conjunto de prueba\n",
        "test = pd.merge(test, recom, on='age_rango', how='left')\n"
      ],
      "metadata": {
        "id": "9LplahvDBBOL"
      },
      "execution_count": 236,
      "outputs": []
    },
    {
      "cell_type": "code",
      "source": [
        "test.head()"
      ],
      "metadata": {
        "id": "kamJ-soPBbmC"
      },
      "execution_count": null,
      "outputs": []
    },
    {
      "cell_type": "markdown",
      "source": [
        "### 7.4. Evaluar el modelo semi-personalizado\n"
      ],
      "metadata": {
        "id": "tLqUZ_puBppq"
      }
    },
    {
      "cell_type": "markdown",
      "source": [
        "Evaluaremos la efectividad del sistema semi-personalizado utilizando las mismas métricas que antes.\n"
      ],
      "metadata": {
        "id": "QjqQHELABsHI"
      }
    },
    {
      "cell_type": "code",
      "source": [
        "# Hit Rate\n"
      ],
      "metadata": {
        "id": "yk82ypD_CUA_"
      },
      "execution_count": null,
      "outputs": []
    },
    {
      "cell_type": "code",
      "source": [
        "# Precisión\n",
        "\n",
        "\n",
        "\n"
      ],
      "metadata": {
        "id": "n7qOqu3rBpEY"
      },
      "execution_count": null,
      "outputs": []
    },
    {
      "cell_type": "code",
      "source": [
        "# Diversidad\n",
        "\n"
      ],
      "metadata": {
        "id": "aDUEtKJJCZPL"
      },
      "execution_count": null,
      "outputs": []
    },
    {
      "cell_type": "markdown",
      "source": [
        "## 8. Desafíos Adicionales\n"
      ],
      "metadata": {
        "id": "33DCNbgFCdRW"
      }
    },
    {
      "cell_type": "markdown",
      "source": [
        "#### Explorar Otros Ejes de Personalización\n",
        "\n",
        "Además de la edad, ¿qué otras variables demográficas podrías utilizar para personalizar las recomendaciones? Por ejemplo, ¿qué impacto tendría la ubicación geográfica en las recomendaciones?\n"
      ],
      "metadata": {
        "id": "NcdnAnXeChRO"
      }
    },
    {
      "cell_type": "markdown",
      "source": [
        "#### Evaluar el Efecto de la Personalización en la Diversidad\n",
        "¿Cómo afecta la personalización la diversidad de las recomendaciones? Intenta balancear la personalización con la diversidad y mide el impacto en la precisión y el hit rate.\n",
        "\n"
      ],
      "metadata": {
        "id": "yYE0U1_gCkvs"
      }
    },
    {
      "cell_type": "markdown",
      "source": [
        "## 9. Conclusiones"
      ],
      "metadata": {
        "id": "xxdKofvvDF5-"
      }
    },
    {
      "cell_type": "markdown",
      "source": [
        "- En este laboratorio, construimos un sistema de recomendación no personalizado utilizando el enfoque de ítems más populares (MPIR). Evaluamos la efectividad del sistema utilizando las métricas de Hit Rate, Precisión y Diversidad, y encontramos que si bien es un sistema sencillo de implementar, tiene limitaciones en cuanto a la personalización y la diversidad de recomendaciones.\n",
        "\n",
        "- Posteriormente, introducimos una semi-personalización basada en la edad de los usuarios, lo que mejoró ligeramente la relevancia de las recomendaciones para diferentes grupos demográficos. Este enfoque es un primer paso hacia sistemas de recomendación más sofisticados que pueden ofrecer recomendaciones más personalizadas y variadas.\n",
        "\n",
        "- Finalmente, propusimos algunos desafíos adicionales para que los estudiantes exploren más allá del laboratorio, incluyendo la implementación de un filtro colaborativo, la exploración de otros ejes de personalización y el análisis del balance entre personalización y diversidad.\n",
        "\n",
        "- Con este conocimiento, estarán mejor preparados para diseñar e implementar sistemas de recomendación que sean efectivos y relevantes para los usuarios, entendiendo las trade-offs y decisiones clave que deben tomarse en su construcción."
      ],
      "metadata": {
        "id": "zMHCeC_EC3bj"
      }
    },
    {
      "cell_type": "markdown",
      "source": [
        "---\n",
        "## Gracias por completar este laboratorio!"
      ],
      "metadata": {
        "id": "URHMuOXxDVQQ"
      }
    }
  ]
}