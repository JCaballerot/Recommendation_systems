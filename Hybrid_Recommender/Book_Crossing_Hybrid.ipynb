{
  "nbformat": 4,
  "nbformat_minor": 0,
  "metadata": {
    "colab": {
      "provenance": [],
      "machine_shape": "hm",
      "authorship_tag": "ABX9TyPHi9Co+E6BgzBjmmHAt9mC",
      "include_colab_link": true
    },
    "kernelspec": {
      "name": "python3",
      "display_name": "Python 3"
    },
    "language_info": {
      "name": "python"
    }
  },
  "cells": [
    {
      "cell_type": "markdown",
      "metadata": {
        "id": "view-in-github",
        "colab_type": "text"
      },
      "source": [
        "<a href=\"https://colab.research.google.com/github/JCaballerot/Recommender_Systems/blob/main/Hybrid_Recommender/Book_Crossing_Hybrid.ipynb\" target=\"_parent\"><img src=\"https://colab.research.google.com/assets/colab-badge.svg\" alt=\"Open In Colab\"/></a>"
      ]
    },
    {
      "cell_type": "markdown",
      "source": [
        "\n",
        "<h1 align=center><font size = 5> Hybrid\n",
        " Recommender</font></h1>\n",
        "\n",
        "---"
      ],
      "metadata": {
        "id": "xojo8Uolpezq"
      }
    },
    {
      "cell_type": "markdown",
      "source": [
        "<center>\n",
        "  <img src=\"https://storage.googleapis.com/kaggle-datasets-images/1661575/2726067/684ac0c4c14cb46d1047ccb620b45cac/dataset-cover.jpg?t=2021-10-21-03-18-09\" width=\"800\" height=\"300\">\n",
        "</center>\n"
      ],
      "metadata": {
        "id": "N8k0D4hUpQtd"
      }
    },
    {
      "cell_type": "markdown",
      "source": [
        "## Objetivo de este Notebook\n",
        "\n",
        "1. Cargar y preprocesar un Dataset.\n",
        "2. Realizar un sistema de recomendación basado en hybrid methods.\n",
        "3. Comprobar el performance del sistema."
      ],
      "metadata": {
        "id": "8FbV_eL8qMhx"
      }
    },
    {
      "cell_type": "markdown",
      "source": [
        "## Tabla de Contenidos\n",
        "\n",
        "<div class=\"alert alert-block alert-info\" style=\"margin-top: 20px\">\n",
        "\n",
        "<font size = 3>\n",
        "    \n",
        "1. <a href=\"#item31\">Contexto</a>  \n",
        "2. <a href=\"#item32\">Descargar y preparar el Dataset</a>  \n",
        "6. <a href=\"#item34\">Entrenamiento del modelo</a>  \n",
        "6. <a href=\"#item34\">Validación del modelo</a>  \n",
        "\n",
        "</font>\n",
        "</div>"
      ],
      "metadata": {
        "id": "fwc_GHBnvBdo"
      }
    },
    {
      "cell_type": "markdown",
      "source": [
        "### 1. Contexto"
      ],
      "metadata": {
        "id": "1ClPvzs6qk8D"
      }
    },
    {
      "cell_type": "markdown",
      "source": [
        "\n",
        "El conjunto de datos \"Book-Crossing\" (también conocido como BX) es una colección de datos relacionados con libros y reseñas de libros. Este conjunto de datos se centra en la interacción de los usuarios con libros y sus calificaciones, y es ampliamente utilizado en aplicaciones de sistemas de recomendación.\n"
      ],
      "metadata": {
        "id": "wOY_1u5Bq6Kz"
      }
    },
    {
      "cell_type": "markdown",
      "source": [
        "<b>Descripción de datos</b>\n",
        "\n",
        "\n",
        "El conjunto de datos Book-Crossing contiene información sobre:\n",
        "\n",
        "---"
      ],
      "metadata": {
        "id": "ZMj-OeUK3N4e"
      }
    },
    {
      "cell_type": "markdown",
      "source": [
        "\n",
        "<b>Usuarios (BX-Users):</b>\n",
        "\n",
        "Contiene la información del usuario. Los campos incluyen:\n",
        "\n",
        "* User-ID: Un identificador único para cada usuario.\n",
        "* Location: La ubicación del usuario.\n",
        "* Age: La edad del usuario.\n"
      ],
      "metadata": {
        "id": "Nus_rbKK3Rjb"
      }
    },
    {
      "cell_type": "markdown",
      "source": [
        "\n",
        "\n",
        "<b>Libros (BX-Books):</b>\n",
        "\n",
        "Contiene la información de los libros. Los campos incluyen:\n",
        "\n",
        "* ISBN: Número de ISBN del libro, que es un identificador único.\n",
        "* Book-Title: El título del libro.\n",
        "* Book-Author: El autor del libro.\n",
        "* Year-Of-Publication: El año de publicación del libro.\n",
        "* Publisher: El editor del libro.\n",
        "* Otras informaciones adicionales sobre los libros."
      ],
      "metadata": {
        "id": "8L9qQXEi3TXO"
      }
    },
    {
      "cell_type": "markdown",
      "source": [
        "\n",
        "\n",
        "\n",
        "<b>Evaluaciones (BX-Book-Ratings):</b>\n",
        "\n",
        "Contiene las evaluaciones de los libros. Los campos incluyen:\n",
        "\n",
        "* User-ID: El identificador del usuario que dio la evaluación.\n",
        "* ISBN: El ISBN del libro evaluado.\n",
        "* Book-Rating: La calificación del libro en una escala (por lo general, de 1 a 10).\n",
        "\n",
        "\n"
      ],
      "metadata": {
        "id": "uiYshhXFrHiC"
      }
    },
    {
      "cell_type": "markdown",
      "source": [
        "---\n",
        "\n",
        "\n",
        "\n",
        "<strong>Puede consultar este [link](https://www.kaggle.com/datasets/syedjaferk/book-crossing-dataset) para leer más sobre la fuente de datos Book Crossing.</strong>"
      ],
      "metadata": {
        "id": "g6DfXA293X-X"
      }
    },
    {
      "cell_type": "markdown",
      "source": [
        "### 2. Descargar y preparar Dataset"
      ],
      "metadata": {
        "id": "6XVvIx3sr_Q0"
      }
    },
    {
      "cell_type": "code",
      "source": [
        "# Download Book-Crossing Dataset\n",
        "!curl -o dataset.zip \"http://www2.informatik.uni-freiburg.de/~cziegler/BX/BX-CSV-Dump.zip\"\n",
        "!unzip dataset.zip\n",
        "!ls -la"
      ],
      "metadata": {
        "id": "rsPg7ZwxfHE4"
      },
      "execution_count": 810,
      "outputs": []
    },
    {
      "cell_type": "code",
      "source": [
        "!curl -L -o dataset.zip \"https://drive.google.com/uc?id=1P7_nW6mZAVgf7sDqdm3SaR9_ZaCOeyjI&export=download&authuser=0\"\n",
        "!unzip dataset.zip\n",
        "!ls -la"
      ],
      "metadata": {
        "id": "uLFm887BxpcI"
      },
      "execution_count": 810,
      "outputs": []
    },
    {
      "cell_type": "code",
      "execution_count": 466,
      "metadata": {
        "id": "sPs_w8bcU1bm"
      },
      "outputs": [],
      "source": [
        "# Principales librerías\n",
        "import pandas as pd\n",
        "import numpy as np\n",
        "\n",
        "import seaborn as sns\n",
        "import matplotlib.pyplot as plt\n",
        "\n",
        "import warnings\n",
        "warnings.filterwarnings(\"ignore\") # Turn off warnings\n"
      ]
    },
    {
      "cell_type": "code",
      "source": [
        "ratings = pd.read_csv(\"BX-Book-Ratings.csv\", sep=\";\", encoding=\"ISO-8859-1\")\n",
        "books   = pd.read_csv(\"BX-Books.csv\",        sep=\";\", encoding=\"ISO-8859-1\", error_bad_lines=False)\n",
        "users   = pd.read_csv(\"BX-Users.csv\",        sep=\";\", encoding=\"ISO-8859-1\")"
      ],
      "metadata": {
        "id": "w0HCRfqUXp9J"
      },
      "execution_count": 810,
      "outputs": []
    },
    {
      "cell_type": "code",
      "source": [
        "users.head()"
      ],
      "metadata": {
        "id": "ofXHH-qra7xZ"
      },
      "execution_count": 810,
      "outputs": []
    },
    {
      "cell_type": "code",
      "source": [
        "books.head()"
      ],
      "metadata": {
        "id": "oV10YeKpbCJ2"
      },
      "execution_count": 810,
      "outputs": []
    },
    {
      "cell_type": "markdown",
      "source": [
        "<b>Calificaciones explícitas</b>: Están expresadas en una escala del 1-10 (más alta) y representan una calificación explícita por parte del usuario.\n",
        "\n",
        "<b>Calificaciones implícitas</b>: Son expresadas por un 0, indicando que no hay una calificación explícita. En el contexto de este dataset, una calificación de 0 indica una interacción implícita con el libro (por ejemplo, el usuario lo compró o leyó), pero no proporciona una calificación explícita del contenido."
      ],
      "metadata": {
        "id": "5Cr1IT5mxjw0"
      }
    },
    {
      "cell_type": "code",
      "source": [
        "ratings.head()"
      ],
      "metadata": {
        "id": "HwBd4qRTbLrq"
      },
      "execution_count": 810,
      "outputs": []
    },
    {
      "cell_type": "code",
      "source": [
        "print(\"  Users: {} \\n  Books: {}\\n  Ratings: {}\".format(len(users), len(books), len(ratings)))\n"
      ],
      "metadata": {
        "id": "otyfiUUlbRhj",
        "outputId": "18ecfc8f-cac6-40d6-884a-d9017bfc1b34",
        "colab": {
          "base_uri": "https://localhost:8080/"
        }
      },
      "execution_count": 471,
      "outputs": [
        {
          "output_type": "stream",
          "name": "stdout",
          "text": [
            "  Users: 278858 \n",
            "  Books: 271360\n",
            "  Ratings: 1149780\n"
          ]
        }
      ]
    },
    {
      "cell_type": "code",
      "source": [
        "users.columns = users.columns.str.lower().str.replace('-', '_')\n",
        "books.columns = books.columns.str.lower().str.replace('-', '_')\n",
        "ratings.columns = ratings.columns.str.lower().str.replace('-', '_')"
      ],
      "metadata": {
        "id": "SAjQpxQpbXFh"
      },
      "execution_count": 472,
      "outputs": []
    },
    {
      "cell_type": "markdown",
      "source": [
        "### 3. Uniendo data"
      ],
      "metadata": {
        "id": "zb9J_YnLbzf5"
      }
    },
    {
      "cell_type": "code",
      "source": [
        "# Analizaremos únicamente los datos explicitos del usuario-item\n",
        "ratings = ratings[ratings.book_rating > 0]"
      ],
      "metadata": {
        "id": "aIJGBWmQx_gs"
      },
      "execution_count": 473,
      "outputs": []
    },
    {
      "cell_type": "code",
      "source": [
        "ratings.head()"
      ],
      "metadata": {
        "id": "f616oIhnzlti"
      },
      "execution_count": 810,
      "outputs": []
    },
    {
      "cell_type": "code",
      "source": [
        "# Cruzamos las bases de datos para  obtener una tabla única\n",
        "\n",
        "data = pd.merge(ratings, users, on = 'user_id', how = 'left')\n",
        "data = pd.merge(data,    books, on = 'isbn', how = 'left')\n",
        "data.drop(columns = ['image_url_s', 'image_url_m', 'image_url_l'], inplace = True)\n",
        "\n",
        "data.head()"
      ],
      "metadata": {
        "id": "g8Iium9Mbf9P"
      },
      "execution_count": 810,
      "outputs": []
    },
    {
      "cell_type": "code",
      "source": [
        "# Estilo de Seaborn\n",
        "sns.set(style=\"whitegrid\")\n",
        "# figura y eje\n",
        "plt.figure(figsize=(6, 3))\n",
        "sns.histplot(data.book_rating, bins=30, kde=False, color=\"skyblue\")"
      ],
      "metadata": {
        "id": "eBmwrCvnWShs"
      },
      "execution_count": 810,
      "outputs": []
    },
    {
      "cell_type": "code",
      "source": [
        "#tratando información del año de publicación\n",
        "data.year_of_publication = pd.to_numeric(data.year_of_publication, errors='coerce')\n"
      ],
      "metadata": {
        "id": "r-HbJtArMvRV"
      },
      "execution_count": 477,
      "outputs": []
    },
    {
      "cell_type": "code",
      "source": [
        "# Ejemplo de remoción de outliers\n",
        "lower_threshold = 1964\n",
        "upper_threshold = 2004\n",
        "\n",
        "data = data[(data['year_of_publication'] >= lower_threshold) & (data['year_of_publication'] <= upper_threshold)]\n",
        "data.year_of_publication = data.year_of_publication.astype(int)"
      ],
      "metadata": {
        "id": "B3OvB-1zMvKK"
      },
      "execution_count": 478,
      "outputs": []
    },
    {
      "cell_type": "code",
      "source": [
        "#Creando antiguedad del libro\n",
        "data['antiguedad'] = 2008 - data.year_of_publication"
      ],
      "metadata": {
        "id": "y0gMgeFpOk8J"
      },
      "execution_count": 479,
      "outputs": []
    },
    {
      "cell_type": "code",
      "source": [
        "# Estilo de Seaborn\n",
        "sns.set(style=\"whitegrid\")\n",
        "\n",
        "# figura y eje\n",
        "plt.figure(figsize=(6, 3))\n",
        "\n",
        "# histograma\n",
        "sns.histplot(data.antiguedad, bins=30, kde=False, color=\"skyblue\")\n",
        "\n",
        "# título y etiquetas a los ejes\n",
        "plt.title('Distribución de antiguedad', fontsize=12)\n",
        "plt.xlabel('Antiguedad', fontsize=10)\n",
        "plt.ylabel('Frecuencia', fontsize=10)\n",
        "\n",
        "# Muestra el histograma\n",
        "plt.show()"
      ],
      "metadata": {
        "id": "GA3MStOtO8SR"
      },
      "execution_count": 810,
      "outputs": []
    },
    {
      "cell_type": "code",
      "source": [
        "books_list = data.groupby('book_title')['user_id'].count().reset_index()\n",
        "books_list.sort_values(by = 'user_id', ascending = False, inplace = True)\n",
        "\n",
        "print(f\"{len(books_list)} libros diferentes, nos quedaremos con los más populares para no saturar nuestro Recsys\")"
      ],
      "metadata": {
        "id": "KCnv9QBMOOGR",
        "outputId": "15b7322f-70a9-493e-c065-c1636e1dc39a",
        "colab": {
          "base_uri": "https://localhost:8080/"
        }
      },
      "execution_count": 481,
      "outputs": [
        {
          "output_type": "stream",
          "name": "stdout",
          "text": [
            "132690 libros diferentes, nos quedaremos con los más populares para no saturar nuestro Recsys\n"
          ]
        }
      ]
    },
    {
      "cell_type": "code",
      "source": [
        "books_list"
      ],
      "metadata": {
        "id": "YzYZp9fm1NSz"
      },
      "execution_count": 810,
      "outputs": []
    },
    {
      "cell_type": "code",
      "source": [
        "books_list[:500]"
      ],
      "metadata": {
        "id": "przjH9oB1sb5"
      },
      "execution_count": 810,
      "outputs": []
    },
    {
      "cell_type": "code",
      "source": [
        "# Calculamos los libros más populares\n",
        "pop_books = books_list[:500].book_title.tolist()"
      ],
      "metadata": {
        "id": "7jfQhOlWQ9Np"
      },
      "execution_count": 484,
      "outputs": []
    },
    {
      "cell_type": "code",
      "source": [
        "data_v2 = data[data.book_title.isin(pop_books)]"
      ],
      "metadata": {
        "id": "3haC2IRGVo41"
      },
      "execution_count": 485,
      "outputs": []
    },
    {
      "cell_type": "code",
      "source": [
        "data_v2.head()"
      ],
      "metadata": {
        "id": "gyWtyq32XSsS"
      },
      "execution_count": 810,
      "outputs": []
    },
    {
      "cell_type": "markdown",
      "source": [
        "Dicotomizaremos la variable objetivo para que el modelo aprenda la probabilidad de que el cliente tenga afinidad con el libro. Esta estrategia es bastante utilizada en las aplicaciones de Recsys pero no olvidemos que también se puede apuntar a predecir directamente el rating del cliente."
      ],
      "metadata": {
        "id": "QfszeJEtXgMA"
      }
    },
    {
      "cell_type": "code",
      "source": [
        "data_v2['target'] = data_v2.book_rating.apply(lambda x: 1 if x > 7 else 0)"
      ],
      "metadata": {
        "id": "BM8LFanNX992"
      },
      "execution_count": 487,
      "outputs": []
    },
    {
      "cell_type": "code",
      "source": [
        "data_v2.head()"
      ],
      "metadata": {
        "id": "33FdYMRMYmx_"
      },
      "execution_count": 810,
      "outputs": []
    },
    {
      "cell_type": "code",
      "source": [
        "# figura y eje\n",
        "plt.figure(figsize=(6, 3))\n",
        "# Analizando el target\n",
        "sns.countplot(x='target', data = data_v2, palette = 'hls')\n",
        "plt.title('¿La data presenta desbalance?', fontsize=12)\n"
      ],
      "metadata": {
        "id": "TIr_nR-SYsd3"
      },
      "execution_count": 810,
      "outputs": []
    },
    {
      "cell_type": "markdown",
      "source": [
        "### 4. Muestreo de datos"
      ],
      "metadata": {
        "id": "Y_mZc6VWa8Ct"
      }
    },
    {
      "cell_type": "code",
      "source": [
        "# Muestreo de data\n",
        "from sklearn.model_selection import train_test_split\n",
        "\n",
        "train, test = train_test_split(data_v2,\n",
        "                               stratify = data_v2.target, # Recuerda estratificar para evitar sesgos durante el muestreo\n",
        "                               train_size = 0.6,\n",
        "                               random_state = 123)\n",
        "\n",
        "watch, test = train_test_split(test,\n",
        "                               stratify = test.target, # Recuerda estratificar para evitar sesgos durante el muestreo\n",
        "                               train_size = 0.5,\n",
        "                               random_state = 123)\n",
        "\n",
        "# El muestreo puede hacerse por cliente o por enmascaramiento como en anteriores ejercicios."
      ],
      "metadata": {
        "id": "7rrZaiZra-wW"
      },
      "execution_count": 490,
      "outputs": []
    },
    {
      "cell_type": "markdown",
      "source": [
        "# Enfoque Content-Based"
      ],
      "metadata": {
        "id": "ZiPrg77x9LSo"
      }
    },
    {
      "cell_type": "markdown",
      "source": [
        "### 5. Tratamiento de variables"
      ],
      "metadata": {
        "id": "ZCUCh6M-an1U"
      }
    },
    {
      "cell_type": "code",
      "source": [],
      "metadata": {
        "id": "bYSLcbRS9PTT"
      },
      "execution_count": 490,
      "outputs": []
    },
    {
      "cell_type": "markdown",
      "source": [
        "Variable de locacion"
      ],
      "metadata": {
        "id": "ONx84fV3dUzP"
      }
    },
    {
      "cell_type": "code",
      "source": [
        "train.head()"
      ],
      "metadata": {
        "id": "wzWxR2NIasru"
      },
      "execution_count": 809,
      "outputs": []
    },
    {
      "cell_type": "code",
      "source": [
        "temp = train.groupby('location')['user_id'].count().reset_index()\n",
        "temp.sort_values(by = 'user_id', ascending = False)"
      ],
      "metadata": {
        "id": "Mk-uwe2Xc2DC"
      },
      "execution_count": 809,
      "outputs": []
    },
    {
      "cell_type": "code",
      "source": [
        "# Función para extraer los n últimos elementos y unirlos con ','\n",
        "def extract_last_n(location, n):\n",
        "    parts = location.split(', ')\n",
        "    return ', '.join(parts[-n:])\n",
        "\n",
        "# Generar agregaciones\n",
        "train['location_level2'] = train['location'].apply(lambda x: extract_last_n(x, 2))\n",
        "train['location_level3'] = train['location'].apply(lambda x: extract_last_n(x, 1))\n",
        "\n",
        "test['location_level2'] = test['location'].apply(lambda x: extract_last_n(x, 2))\n",
        "test['location_level3'] = test['location'].apply(lambda x: extract_last_n(x, 1))\n",
        "\n",
        "watch['location_level2'] = watch['location'].apply(lambda x: extract_last_n(x, 2))\n",
        "watch['location_level3'] = watch['location'].apply(lambda x: extract_last_n(x, 1))"
      ],
      "metadata": {
        "id": "i-d3XIhLdzd4"
      },
      "execution_count": 493,
      "outputs": []
    },
    {
      "cell_type": "code",
      "source": [
        "train.head()"
      ],
      "metadata": {
        "id": "R4gUmO_geQ0p"
      },
      "execution_count": 809,
      "outputs": []
    },
    {
      "cell_type": "code",
      "source": [
        "temp = train.groupby('location_level2')['user_id'].count().reset_index()\n",
        "temp = temp[temp.user_id > 30]\n",
        "temp.sort_values(by = 'user_id', ascending = False)"
      ],
      "metadata": {
        "id": "KjBwAibreVNo"
      },
      "execution_count": 809,
      "outputs": []
    },
    {
      "cell_type": "code",
      "source": [
        "temp = train.groupby('location_level3')['user_id'].count().reset_index()\n",
        "temp = temp[temp.user_id > 30]\n",
        "temp.sort_values(by = 'user_id', ascending = False)"
      ],
      "metadata": {
        "id": "EcIdtOLDfQ9V"
      },
      "execution_count": 809,
      "outputs": []
    },
    {
      "cell_type": "code",
      "source": [
        "# Creando variable mixta de locacion\n",
        "train['location_f'] = train.apply(lambda row: row['location_level2'] if row['location_level3'] == 'usa' else row['location_level3'], axis=1)\n",
        "test['location_f']  = test.apply(lambda row: row['location_level2'] if row['location_level3'] == 'usa' else row['location_level3'], axis=1)\n",
        "watch['location_f'] = watch.apply(lambda row: row['location_level2'] if row['location_level3'] == 'usa' else row['location_level3'], axis=1)\n"
      ],
      "metadata": {
        "id": "XSWDcK2-f_eO"
      },
      "execution_count": 497,
      "outputs": []
    },
    {
      "cell_type": "code",
      "source": [
        "train.head()"
      ],
      "metadata": {
        "id": "iqiMHdVbi8Bp"
      },
      "execution_count": 809,
      "outputs": []
    },
    {
      "cell_type": "markdown",
      "source": [
        "**Encoding**\n",
        "\n",
        "El encoding de variables categóricas convierte las categorías de texto en números de una manera que puede ser utilizada de manera eficiente por los algoritmos de machine learning.\n"
      ],
      "metadata": {
        "id": "a8DJYF1vfrCS"
      }
    },
    {
      "cell_type": "code",
      "source": [
        "train.head()"
      ],
      "metadata": {
        "id": "h8_xO_cMfrgU"
      },
      "execution_count": 809,
      "outputs": []
    },
    {
      "cell_type": "code",
      "source": [
        "catergory_features = ['book_title', 'book_author', 'publisher', 'location_f']"
      ],
      "metadata": {
        "id": "_sttbtK7k6gi"
      },
      "execution_count": 500,
      "outputs": []
    },
    {
      "cell_type": "code",
      "source": [
        "%%capture\n",
        "!pip3 install category_encoders"
      ],
      "metadata": {
        "id": "tRWATpUfjxhw"
      },
      "execution_count": 501,
      "outputs": []
    },
    {
      "cell_type": "code",
      "source": [
        "# Aplicando category encoders\n",
        "from category_encoders import TargetEncoder\n",
        "\n",
        "encoder = TargetEncoder(handle_unknown = 'infrequent_if_exist',\n",
        "                        handle_missing = 'value',\n",
        "                        min_samples_leaf = 30)\n",
        "\n",
        "encoder.fit(train[catergory_features].astype('category'), train['target'])\n"
      ],
      "metadata": {
        "id": "oafM9sH8kzcI",
        "outputId": "c6692073-04fd-4cfd-905d-0ae9402dc62d",
        "colab": {
          "base_uri": "https://localhost:8080/",
          "height": 92
        }
      },
      "execution_count": 502,
      "outputs": [
        {
          "output_type": "execute_result",
          "data": {
            "text/plain": [
              "TargetEncoder(cols=['book_title', 'book_author', 'publisher', 'location_f'],\n",
              "              handle_unknown='infrequent_if_exist', min_samples_leaf=30)"
            ],
            "text/html": [
              "<style>#sk-container-id-23 {color: black;background-color: white;}#sk-container-id-23 pre{padding: 0;}#sk-container-id-23 div.sk-toggleable {background-color: white;}#sk-container-id-23 label.sk-toggleable__label {cursor: pointer;display: block;width: 100%;margin-bottom: 0;padding: 0.3em;box-sizing: border-box;text-align: center;}#sk-container-id-23 label.sk-toggleable__label-arrow:before {content: \"▸\";float: left;margin-right: 0.25em;color: #696969;}#sk-container-id-23 label.sk-toggleable__label-arrow:hover:before {color: black;}#sk-container-id-23 div.sk-estimator:hover label.sk-toggleable__label-arrow:before {color: black;}#sk-container-id-23 div.sk-toggleable__content {max-height: 0;max-width: 0;overflow: hidden;text-align: left;background-color: #f0f8ff;}#sk-container-id-23 div.sk-toggleable__content pre {margin: 0.2em;color: black;border-radius: 0.25em;background-color: #f0f8ff;}#sk-container-id-23 input.sk-toggleable__control:checked~div.sk-toggleable__content {max-height: 200px;max-width: 100%;overflow: auto;}#sk-container-id-23 input.sk-toggleable__control:checked~label.sk-toggleable__label-arrow:before {content: \"▾\";}#sk-container-id-23 div.sk-estimator input.sk-toggleable__control:checked~label.sk-toggleable__label {background-color: #d4ebff;}#sk-container-id-23 div.sk-label input.sk-toggleable__control:checked~label.sk-toggleable__label {background-color: #d4ebff;}#sk-container-id-23 input.sk-hidden--visually {border: 0;clip: rect(1px 1px 1px 1px);clip: rect(1px, 1px, 1px, 1px);height: 1px;margin: -1px;overflow: hidden;padding: 0;position: absolute;width: 1px;}#sk-container-id-23 div.sk-estimator {font-family: monospace;background-color: #f0f8ff;border: 1px dotted black;border-radius: 0.25em;box-sizing: border-box;margin-bottom: 0.5em;}#sk-container-id-23 div.sk-estimator:hover {background-color: #d4ebff;}#sk-container-id-23 div.sk-parallel-item::after {content: \"\";width: 100%;border-bottom: 1px solid gray;flex-grow: 1;}#sk-container-id-23 div.sk-label:hover label.sk-toggleable__label {background-color: #d4ebff;}#sk-container-id-23 div.sk-serial::before {content: \"\";position: absolute;border-left: 1px solid gray;box-sizing: border-box;top: 0;bottom: 0;left: 50%;z-index: 0;}#sk-container-id-23 div.sk-serial {display: flex;flex-direction: column;align-items: center;background-color: white;padding-right: 0.2em;padding-left: 0.2em;position: relative;}#sk-container-id-23 div.sk-item {position: relative;z-index: 1;}#sk-container-id-23 div.sk-parallel {display: flex;align-items: stretch;justify-content: center;background-color: white;position: relative;}#sk-container-id-23 div.sk-item::before, #sk-container-id-23 div.sk-parallel-item::before {content: \"\";position: absolute;border-left: 1px solid gray;box-sizing: border-box;top: 0;bottom: 0;left: 50%;z-index: -1;}#sk-container-id-23 div.sk-parallel-item {display: flex;flex-direction: column;z-index: 1;position: relative;background-color: white;}#sk-container-id-23 div.sk-parallel-item:first-child::after {align-self: flex-end;width: 50%;}#sk-container-id-23 div.sk-parallel-item:last-child::after {align-self: flex-start;width: 50%;}#sk-container-id-23 div.sk-parallel-item:only-child::after {width: 0;}#sk-container-id-23 div.sk-dashed-wrapped {border: 1px dashed gray;margin: 0 0.4em 0.5em 0.4em;box-sizing: border-box;padding-bottom: 0.4em;background-color: white;}#sk-container-id-23 div.sk-label label {font-family: monospace;font-weight: bold;display: inline-block;line-height: 1.2em;}#sk-container-id-23 div.sk-label-container {text-align: center;}#sk-container-id-23 div.sk-container {/* jupyter's `normalize.less` sets `[hidden] { display: none; }` but bootstrap.min.css set `[hidden] { display: none !important; }` so we also need the `!important` here to be able to override the default hidden behavior on the sphinx rendered scikit-learn.org. See: https://github.com/scikit-learn/scikit-learn/issues/21755 */display: inline-block !important;position: relative;}#sk-container-id-23 div.sk-text-repr-fallback {display: none;}</style><div id=\"sk-container-id-23\" class=\"sk-top-container\"><div class=\"sk-text-repr-fallback\"><pre>TargetEncoder(cols=[&#x27;book_title&#x27;, &#x27;book_author&#x27;, &#x27;publisher&#x27;, &#x27;location_f&#x27;],\n",
              "              handle_unknown=&#x27;infrequent_if_exist&#x27;, min_samples_leaf=30)</pre><b>In a Jupyter environment, please rerun this cell to show the HTML representation or trust the notebook. <br />On GitHub, the HTML representation is unable to render, please try loading this page with nbviewer.org.</b></div><div class=\"sk-container\" hidden><div class=\"sk-item\"><div class=\"sk-estimator sk-toggleable\"><input class=\"sk-toggleable__control sk-hidden--visually\" id=\"sk-estimator-id-33\" type=\"checkbox\" checked><label for=\"sk-estimator-id-33\" class=\"sk-toggleable__label sk-toggleable__label-arrow\">TargetEncoder</label><div class=\"sk-toggleable__content\"><pre>TargetEncoder(cols=[&#x27;book_title&#x27;, &#x27;book_author&#x27;, &#x27;publisher&#x27;, &#x27;location_f&#x27;],\n",
              "              handle_unknown=&#x27;infrequent_if_exist&#x27;, min_samples_leaf=30)</pre></div></div></div></div></div>"
            ]
          },
          "metadata": {},
          "execution_count": 502
        }
      ]
    },
    {
      "cell_type": "code",
      "source": [
        "# Aplicando transformaciones sobre  variables\n",
        "\n",
        "train[[x + '_coded' for x in catergory_features]] = encoder.transform(train[catergory_features].astype('category'))\n",
        "test[[x + '_coded' for x in catergory_features]]  = encoder.transform(test[catergory_features].astype('category'))\n",
        "watch[[x + '_coded' for x in catergory_features]] = encoder.transform(watch[catergory_features].astype('category'))\n"
      ],
      "metadata": {
        "id": "SCzt_krYljOu"
      },
      "execution_count": 503,
      "outputs": []
    },
    {
      "cell_type": "code",
      "source": [
        "train.head()"
      ],
      "metadata": {
        "id": "Z0MaRpyGmXe7"
      },
      "execution_count": 809,
      "outputs": []
    },
    {
      "cell_type": "markdown",
      "source": [
        "### 6. XGBoost\n",
        "\n",
        "\n"
      ],
      "metadata": {
        "id": "TDnRZ9Ywb293"
      }
    },
    {
      "cell_type": "code",
      "source": [
        "import xgboost as xgb\n",
        "from sklearn.metrics import *"
      ],
      "metadata": {
        "id": "h-aApvRYmtjb"
      },
      "execution_count": 505,
      "outputs": []
    },
    {
      "cell_type": "code",
      "source": [
        "features = ['age', 'antiguedad', 'book_title_coded', 'book_author_coded', 'publisher_coded', 'location_f_coded']"
      ],
      "metadata": {
        "id": "ofVn4FclnFKF"
      },
      "execution_count": 506,
      "outputs": []
    },
    {
      "cell_type": "code",
      "source": [
        "# Definimos los parámetros para el Grid Search\n",
        "\n",
        "param_grid = {'objective': ['binary:logistic'],\n",
        "              'booster' : ['gbtree'],\n",
        "              'learning_rate': [0.01, 0.05, 0.1],\n",
        "              'max_depth': [3, 5, 7],\n",
        "              'colsample_bytree': [0.7, 1],\n",
        "              'subsample': [0.7, 1]}\n"
      ],
      "metadata": {
        "id": "4bnCIvKHovH8"
      },
      "execution_count": 507,
      "outputs": []
    },
    {
      "cell_type": "code",
      "source": [
        "%%time\n",
        "from sklearn.model_selection import GridSearchCV\n",
        "\n",
        "# Crear clasificador\n",
        "xgBoost = xgb.XGBClassifier(use_label_encoder=False, n_estimators = 500)\n",
        "\n",
        "\n",
        "# Crear objeto GridSearchCV\n",
        "grid_search = GridSearchCV(xgBoost,\n",
        "                           param_grid,\n",
        "                           scoring = make_scorer(auc),\n",
        "                           cv = 3,  # Número de folds en la validación cruzada\n",
        "                           verbose = 2,  # Verbosidad del output\n",
        "                           n_jobs = -1  # Uso de todos los núcleos disponibles\n",
        "                          )\n",
        "\n",
        "# Realizar búsqueda de parámetros\n",
        "grid_search.fit(train[features],\n",
        "                train.target,\n",
        "                early_stopping_rounds = 10,\n",
        "                eval_metric = \"auc\",\n",
        "                eval_set=[(watch[features], watch.target)],\n",
        "                verbose = True)\n",
        "\n"
      ],
      "metadata": {
        "id": "yIGOyCIbqOfl"
      },
      "execution_count": 809,
      "outputs": []
    },
    {
      "cell_type": "code",
      "source": [
        "# Obtener el mejor modelo\n",
        "best_model = grid_search.best_estimator_\n",
        "\n",
        "# Si deseas, también puedes extraer y visualizar los mejores parámetros encontrados\n",
        "best_params = grid_search.best_params_\n",
        "print(f\"Best parameters found: {best_params}\")\n"
      ],
      "metadata": {
        "id": "2CzWrOv_zIw4",
        "outputId": "57ed008d-5032-4b1d-ec88-e19d2a9866df",
        "colab": {
          "base_uri": "https://localhost:8080/"
        }
      },
      "execution_count": 509,
      "outputs": [
        {
          "output_type": "stream",
          "name": "stdout",
          "text": [
            "Best parameters found: {'booster': 'gbtree', 'colsample_bytree': 0.7, 'learning_rate': 0.01, 'max_depth': 3, 'objective': 'binary:logistic', 'subsample': 0.7}\n"
          ]
        }
      ]
    },
    {
      "cell_type": "code",
      "source": [
        "%%capture\n",
        "!pip install --upgrade xgboost"
      ],
      "metadata": {
        "id": "zRPFYX2cF8jh"
      },
      "execution_count": 510,
      "outputs": []
    },
    {
      "cell_type": "code",
      "source": [
        "# Entrenando el modelo final\n",
        "\n",
        "xgBoost = xgb.XGBClassifier(use_label_encoder=False,\n",
        "                            n_estimators = 500, **best_params)\n",
        "\n",
        "xgBoost.fit(train[features],\n",
        "            train.target,\n",
        "            early_stopping_rounds=10,\n",
        "            eval_metric=\"auc\",\n",
        "            eval_set=[(train[features], train.target), (watch[features], watch.target)],\n",
        "            verbose=True)\n",
        "\n",
        "\n",
        "# Extraer los resultados de evaluación\n",
        "results = xgBoost.evals_result()\n"
      ],
      "metadata": {
        "id": "_oTNHTlIuB9b"
      },
      "execution_count": 809,
      "outputs": []
    },
    {
      "cell_type": "code",
      "source": [
        "epochs = len(results['validation_0']['auc'])\n",
        "x_axis = range(0, epochs)\n",
        "\n",
        "# Ajusta el tamaño\n",
        "fig, ax = plt.subplots(figsize=(8, 4))\n",
        "\n",
        "ax.plot(x_axis, results['validation_0']['auc'], label='Train')\n",
        "ax.plot(x_axis, results['validation_1']['auc'], label='Watch')\n",
        "\n",
        "ax.set_ylim([0.6, 0.7])  # Para limitar la cantidad de epochs\n",
        "\n",
        "ax.legend()\n",
        "plt.ylabel('AUC')\n",
        "plt.title('XGBoost AUC')\n",
        "plt.show()"
      ],
      "metadata": {
        "id": "vPOED4-UFTaE"
      },
      "execution_count": 809,
      "outputs": []
    },
    {
      "cell_type": "code",
      "source": [
        "# Definir tamaño\n",
        "fig, ax = plt.subplots(figsize=(5, 3))\n",
        "\n",
        "# Graficar la importancia de las variables\n",
        "xgb.plot_importance(xgBoost, importance_type=\"total_gain\", ax=ax, title=\"Feature Importance (Gain)\", show_values=False)\n",
        "\n",
        "# Mostrar el gráfico\n",
        "plt.show()"
      ],
      "metadata": {
        "id": "D-KNXdNp8KqK"
      },
      "execution_count": 809,
      "outputs": []
    },
    {
      "cell_type": "markdown",
      "source": [
        "### 7. Evaluación del modelo"
      ],
      "metadata": {
        "id": "wy8C8qLz0061"
      }
    },
    {
      "cell_type": "code",
      "source": [
        "from scipy.stats import ks_2samp\n",
        "\n",
        "# Definir métricas adicionales\n",
        "def gini(y_true, y_score):\n",
        "    auc = roc_auc_score(y_true, y_score)\n",
        "    return 2*auc - 1\n",
        "\n",
        "def ks_statistic(y_true, y_score):\n",
        "    return ks_2samp(y_score[y_true == 1], y_score[y_true == 0]).statistic"
      ],
      "metadata": {
        "id": "NvmeRX165N5K"
      },
      "execution_count": 514,
      "outputs": []
    },
    {
      "cell_type": "code",
      "source": [
        "# predicción del modelo\n",
        "train['prediction_xgboost'] = xgBoost.predict_proba(train[features])[:, 1]\n",
        "test['prediction_xgboost']  = xgBoost.predict_proba(test[features])[:, 1]\n",
        "watch['prediction_xgboost'] = xgBoost.predict_proba(watch[features])[:, 1]\n"
      ],
      "metadata": {
        "id": "hop8YtxW3_LO"
      },
      "execution_count": 515,
      "outputs": []
    },
    {
      "cell_type": "code",
      "source": [
        "\n",
        "def model_eval_metrics(prediction = 'prediction'):\n",
        "  results = pd.DataFrame(columns=['Metric', 'Train', 'Test', 'Watch'])\n",
        "\n",
        "  metrics = [\n",
        "      (\"Accuracy\", accuracy_score),\n",
        "      (\"Precision\", precision_score),\n",
        "      (\"Recall\", recall_score),\n",
        "      (\"F1 Score\", f1_score),\n",
        "      (\"AUC-ROC\", roc_auc_score),\n",
        "      (\"Gini\", roc_auc_score),\n",
        "      (\"KS Statistic\", ks_statistic),\n",
        "      (\"Jaccard\", jaccard_score)\n",
        "  ]\n",
        "\n",
        "  for metric_name, metric_func in metrics:\n",
        "      if metric_name in [\"KS Statistic\", \"AUC-ROC\"]:  # Si la métrica requiere probabilidades\n",
        "          train_score = metric_func(train['target'], train[prediction])\n",
        "          test_score = metric_func(test['target'], test[prediction])\n",
        "          watch_score = metric_func(watch['target'], watch[prediction])\n",
        "\n",
        "      elif metric_name in [\"Gini\"]:\n",
        "          train_score = roc_auc_score(train['target'], train[prediction])*2-1\n",
        "          test_score = roc_auc_score(test['target'], test[prediction])*2-1\n",
        "          watch_score = roc_auc_score(watch['target'], watch[prediction])*2-1\n",
        "\n",
        "      else:  # Si la métrica se aplica a etiquetas\n",
        "          train_score = metric_func(train['target'], train[prediction].apply(lambda x: 1 if x > 0.5 else 0))\n",
        "          test_score = metric_func(test['target'],   test[prediction].apply(lambda x: 1 if x > 0.5 else 0))\n",
        "          watch_score = metric_func(watch['target'], watch[prediction].apply(lambda x: 1 if x > 0.5 else 0))\n",
        "\n",
        "      results = results.append({\n",
        "          'Metric': metric_name,\n",
        "          'Train': train_score,\n",
        "          'Test': test_score,\n",
        "          'Watch': watch_score\n",
        "      }, ignore_index=True)\n",
        "\n",
        "\n",
        "  pd.set_option('display.float_format', '{:.2f}'.format)\n",
        "\n",
        "  #results[results.Metric == 'Gini'] = results[results.Metric == 'Gini']*2-1\n",
        "  # Mostrar los resultados\n",
        "  return results"
      ],
      "metadata": {
        "id": "-rTzBlCS39vL"
      },
      "execution_count": 579,
      "outputs": []
    },
    {
      "cell_type": "code",
      "source": [
        "XGBoost_Results = model_eval_metrics(prediction = 'prediction_xgboost')\n",
        "XGBoost_Results"
      ],
      "metadata": {
        "id": "2ceUNwS-pIsC"
      },
      "execution_count": 809,
      "outputs": []
    },
    {
      "cell_type": "markdown",
      "source": [
        "### 8. ANN"
      ],
      "metadata": {
        "id": "lskKWGpwvQoB"
      }
    },
    {
      "cell_type": "code",
      "source": [
        "import tensorflow as tf\n",
        "from tensorflow import keras\n",
        "from sklearn.preprocessing import StandardScaler\n"
      ],
      "metadata": {
        "id": "aW8168rQvUnQ"
      },
      "execution_count": 582,
      "outputs": []
    },
    {
      "cell_type": "code",
      "source": [
        "# Estandarización\n",
        "\n",
        "scaler = StandardScaler()\n",
        "train_std = scaler.fit_transform(train[features].fillna(0))\n",
        "watch_std  = scaler.transform(watch[features].fillna(0))\n",
        "test_std  = scaler.transform(test[features].fillna(0))\n"
      ],
      "metadata": {
        "id": "9W9kaoOwvw3c"
      },
      "execution_count": 583,
      "outputs": []
    },
    {
      "cell_type": "code",
      "source": [
        "# Arquitectura de la red\n",
        "tf.random.set_seed(123)\n",
        "\n",
        "model = keras.Sequential([\n",
        "    keras.layers.Dense(64, activation='relu', kernel_initializer='glorot_uniform', input_shape=(train_std.shape[1],)),\n",
        "    #keras.layers.Dropout(0.5),  # Capa de dropout\n",
        "    keras.layers.Dense(32, activation='relu'),\n",
        "    keras.layers.Dense(16, activation='relu'),\n",
        "    keras.layers.Dense(8,  activation='relu'),\n",
        "    keras.layers.Dense(1, activation='sigmoid')\n",
        "])\n"
      ],
      "metadata": {
        "id": "Ej4IT-iUwbB9"
      },
      "execution_count": 584,
      "outputs": []
    },
    {
      "cell_type": "code",
      "source": [
        "# Compilar el modelo\n",
        "#optimizer = keras.optimizers.Adam(learning_rate=0.01)  # Ajusta la tasa de aprendizaje según sea necesario\n",
        "optimizer = keras.optimizers.Adagrad(learning_rate = 0.05)\n",
        "\n",
        "model.compile(optimizer=optimizer, loss='binary_crossentropy', metrics=['accuracy'])\n"
      ],
      "metadata": {
        "id": "Nk78j7MDwoRI"
      },
      "execution_count": 585,
      "outputs": []
    },
    {
      "cell_type": "code",
      "source": [
        "\n",
        "early_stopping = keras.callbacks.EarlyStopping(monitor='val_loss', patience=10, restore_best_weights=True)\n",
        "reduce_lr = keras.callbacks.ReduceLROnPlateau(monitor='val_loss', factor=0.5, patience=5, min_lr=0.0001)\n",
        "\n",
        "# Entrenar el modelo con Early Stopping y reducción de la tasa de aprendizaje\n",
        "history = model.fit(train_std, train.target, epochs=100, batch_size=64, validation_data=(watch_std, watch.target), verbose=1,\n",
        "                    callbacks=[early_stopping, reduce_lr])\n"
      ],
      "metadata": {
        "id": "6S_6difpwpKM"
      },
      "execution_count": 809,
      "outputs": []
    },
    {
      "cell_type": "code",
      "source": [
        "# predicción del modelo\n",
        "train['prediction_rna'] = model.predict(scaler.transform(train[features].fillna(0)))\n",
        "test['prediction_rna']  = model.predict(scaler.transform(test[features].fillna(0)))\n",
        "watch['prediction_rna'] = model.predict(scaler.transform(watch[features].fillna(0)))\n"
      ],
      "metadata": {
        "id": "POPUNhTlyHkv"
      },
      "execution_count": 809,
      "outputs": []
    },
    {
      "cell_type": "code",
      "source": [
        "ANN_Results = model_eval_metrics(prediction = 'prediction_rna')\n",
        "ANN_Results\n"
      ],
      "metadata": {
        "id": "OlNd4gYL294a"
      },
      "execution_count": 809,
      "outputs": []
    },
    {
      "cell_type": "markdown",
      "source": [
        "# Enfoque Collaborative Filtering"
      ],
      "metadata": {
        "id": "xqmpOAJZ9adi"
      }
    },
    {
      "cell_type": "markdown",
      "source": [
        "### 9. K-Nearest Neighbors"
      ],
      "metadata": {
        "id": "6DDT2XeS9dt4"
      }
    },
    {
      "cell_type": "code",
      "source": [
        "from sklearn.neighbors import KNeighborsClassifier\n",
        "\n",
        "# Crear un objeto KNeighborsClassifier\n",
        "knn = KNeighborsClassifier(n_neighbors = 100)\n",
        "knn.fit(train_std, train.target)\n"
      ],
      "metadata": {
        "id": "mvCUwSQmrk1j",
        "outputId": "90d824d4-0372-49d3-a615-d9206296f335",
        "colab": {
          "base_uri": "https://localhost:8080/",
          "height": 75
        }
      },
      "execution_count": 683,
      "outputs": [
        {
          "output_type": "execute_result",
          "data": {
            "text/plain": [
              "KNeighborsClassifier(n_neighbors=100)"
            ],
            "text/html": [
              "<style>#sk-container-id-39 {color: black;background-color: white;}#sk-container-id-39 pre{padding: 0;}#sk-container-id-39 div.sk-toggleable {background-color: white;}#sk-container-id-39 label.sk-toggleable__label {cursor: pointer;display: block;width: 100%;margin-bottom: 0;padding: 0.3em;box-sizing: border-box;text-align: center;}#sk-container-id-39 label.sk-toggleable__label-arrow:before {content: \"▸\";float: left;margin-right: 0.25em;color: #696969;}#sk-container-id-39 label.sk-toggleable__label-arrow:hover:before {color: black;}#sk-container-id-39 div.sk-estimator:hover label.sk-toggleable__label-arrow:before {color: black;}#sk-container-id-39 div.sk-toggleable__content {max-height: 0;max-width: 0;overflow: hidden;text-align: left;background-color: #f0f8ff;}#sk-container-id-39 div.sk-toggleable__content pre {margin: 0.2em;color: black;border-radius: 0.25em;background-color: #f0f8ff;}#sk-container-id-39 input.sk-toggleable__control:checked~div.sk-toggleable__content {max-height: 200px;max-width: 100%;overflow: auto;}#sk-container-id-39 input.sk-toggleable__control:checked~label.sk-toggleable__label-arrow:before {content: \"▾\";}#sk-container-id-39 div.sk-estimator input.sk-toggleable__control:checked~label.sk-toggleable__label {background-color: #d4ebff;}#sk-container-id-39 div.sk-label input.sk-toggleable__control:checked~label.sk-toggleable__label {background-color: #d4ebff;}#sk-container-id-39 input.sk-hidden--visually {border: 0;clip: rect(1px 1px 1px 1px);clip: rect(1px, 1px, 1px, 1px);height: 1px;margin: -1px;overflow: hidden;padding: 0;position: absolute;width: 1px;}#sk-container-id-39 div.sk-estimator {font-family: monospace;background-color: #f0f8ff;border: 1px dotted black;border-radius: 0.25em;box-sizing: border-box;margin-bottom: 0.5em;}#sk-container-id-39 div.sk-estimator:hover {background-color: #d4ebff;}#sk-container-id-39 div.sk-parallel-item::after {content: \"\";width: 100%;border-bottom: 1px solid gray;flex-grow: 1;}#sk-container-id-39 div.sk-label:hover label.sk-toggleable__label {background-color: #d4ebff;}#sk-container-id-39 div.sk-serial::before {content: \"\";position: absolute;border-left: 1px solid gray;box-sizing: border-box;top: 0;bottom: 0;left: 50%;z-index: 0;}#sk-container-id-39 div.sk-serial {display: flex;flex-direction: column;align-items: center;background-color: white;padding-right: 0.2em;padding-left: 0.2em;position: relative;}#sk-container-id-39 div.sk-item {position: relative;z-index: 1;}#sk-container-id-39 div.sk-parallel {display: flex;align-items: stretch;justify-content: center;background-color: white;position: relative;}#sk-container-id-39 div.sk-item::before, #sk-container-id-39 div.sk-parallel-item::before {content: \"\";position: absolute;border-left: 1px solid gray;box-sizing: border-box;top: 0;bottom: 0;left: 50%;z-index: -1;}#sk-container-id-39 div.sk-parallel-item {display: flex;flex-direction: column;z-index: 1;position: relative;background-color: white;}#sk-container-id-39 div.sk-parallel-item:first-child::after {align-self: flex-end;width: 50%;}#sk-container-id-39 div.sk-parallel-item:last-child::after {align-self: flex-start;width: 50%;}#sk-container-id-39 div.sk-parallel-item:only-child::after {width: 0;}#sk-container-id-39 div.sk-dashed-wrapped {border: 1px dashed gray;margin: 0 0.4em 0.5em 0.4em;box-sizing: border-box;padding-bottom: 0.4em;background-color: white;}#sk-container-id-39 div.sk-label label {font-family: monospace;font-weight: bold;display: inline-block;line-height: 1.2em;}#sk-container-id-39 div.sk-label-container {text-align: center;}#sk-container-id-39 div.sk-container {/* jupyter's `normalize.less` sets `[hidden] { display: none; }` but bootstrap.min.css set `[hidden] { display: none !important; }` so we also need the `!important` here to be able to override the default hidden behavior on the sphinx rendered scikit-learn.org. See: https://github.com/scikit-learn/scikit-learn/issues/21755 */display: inline-block !important;position: relative;}#sk-container-id-39 div.sk-text-repr-fallback {display: none;}</style><div id=\"sk-container-id-39\" class=\"sk-top-container\"><div class=\"sk-text-repr-fallback\"><pre>KNeighborsClassifier(n_neighbors=100)</pre><b>In a Jupyter environment, please rerun this cell to show the HTML representation or trust the notebook. <br />On GitHub, the HTML representation is unable to render, please try loading this page with nbviewer.org.</b></div><div class=\"sk-container\" hidden><div class=\"sk-item\"><div class=\"sk-estimator sk-toggleable\"><input class=\"sk-toggleable__control sk-hidden--visually\" id=\"sk-estimator-id-51\" type=\"checkbox\" checked><label for=\"sk-estimator-id-51\" class=\"sk-toggleable__label sk-toggleable__label-arrow\">KNeighborsClassifier</label><div class=\"sk-toggleable__content\"><pre>KNeighborsClassifier(n_neighbors=100)</pre></div></div></div></div></div>"
            ]
          },
          "metadata": {},
          "execution_count": 683
        }
      ]
    },
    {
      "cell_type": "code",
      "source": [
        "# predicción del modelo\n",
        "train['prediction_knn'] = knn.predict_proba(scaler.transform(train_std))[:, 1]\n",
        "test['prediction_knn']  = knn.predict_proba(scaler.transform(test_std))[:, 1]\n",
        "watch['prediction_knn'] = knn.predict_proba(scaler.transform(watch_std))[:, 1]"
      ],
      "metadata": {
        "id": "0Hz3wckqsBR5"
      },
      "execution_count": 684,
      "outputs": []
    },
    {
      "cell_type": "code",
      "source": [
        "KNN_Results = model_eval_metrics(prediction = 'prediction_knn')\n",
        "KNN_Results\n"
      ],
      "metadata": {
        "id": "GAu9ECsfPHS7"
      },
      "execution_count": 809,
      "outputs": []
    },
    {
      "cell_type": "markdown",
      "source": [
        "### 9. Métodos de ensamble"
      ],
      "metadata": {
        "id": "pFloUNYw3rW3"
      }
    },
    {
      "cell_type": "markdown",
      "source": [
        " <b> Output Fusion </b>"
      ],
      "metadata": {
        "id": "bBnV1dq93usV"
      }
    },
    {
      "cell_type": "code",
      "source": [
        "test[['prediction_xgboost', 'prediction_rna', 'prediction_knn']].head()"
      ],
      "metadata": {
        "id": "5fPeIBS7IkAg"
      },
      "execution_count": 809,
      "outputs": []
    },
    {
      "cell_type": "code",
      "source": [
        "#train['prediction_output_fusion'] = (train.prediction_xgboost + train.prediction_rna)/2\n",
        "#test['prediction_output_fusion']  = (test.prediction_xgboost + test.prediction_rna)/2\n",
        "#watch['prediction_output_fusion'] = (watch.prediction_xgboost + watch.prediction_rna)/2\n",
        "\n",
        "train['prediction_output_fusion'] = 3/(1/train.prediction_xgboost + 1/train.prediction_rna + 1/train.prediction_knn)\n",
        "test['prediction_output_fusion']  = 3/(1/test.prediction_xgboost  + 1/test.prediction_rna + 1/test.prediction_knn)\n",
        "watch['prediction_output_fusion'] = 3/(1/watch.prediction_xgboost + 1/watch.prediction_rna + 1/watch.prediction_knn)"
      ],
      "metadata": {
        "id": "TPWe_4ErIta6"
      },
      "execution_count": 689,
      "outputs": []
    },
    {
      "cell_type": "code",
      "source": [
        "output_fusion_Results = model_eval_metrics(prediction = 'prediction_output_fusion')\n",
        "output_fusion_Results"
      ],
      "metadata": {
        "id": "hISiC2a8JUYU"
      },
      "execution_count": 809,
      "outputs": []
    },
    {
      "cell_type": "code",
      "source": [
        "XGBoost_Results"
      ],
      "metadata": {
        "id": "ZhNT0qOSrrgc"
      },
      "execution_count": 809,
      "outputs": []
    },
    {
      "cell_type": "code",
      "source": [
        "results_ANN"
      ],
      "metadata": {
        "id": "ZE4VYfmxJ5-S"
      },
      "execution_count": 809,
      "outputs": []
    },
    {
      "cell_type": "code",
      "source": [
        "KNN_Results"
      ],
      "metadata": {
        "id": "1sslQ4gjtpIM"
      },
      "execution_count": 809,
      "outputs": []
    },
    {
      "cell_type": "markdown",
      "source": [
        " <b> Weighted ensemble recommender </b>"
      ],
      "metadata": {
        "id": "l8_GDpI53vIR"
      }
    },
    {
      "cell_type": "code",
      "source": [
        "\n",
        "train['prediction_weighted_ensemble'] = (0.27*train.prediction_xgboost + 0.28*train.prediction_rna + 0.19*train.prediction_knn)/(0.27 + 0.28 + 0.19)\n",
        "test['prediction_weighted_ensemble']  = (0.27*test.prediction_xgboost  + 0.28*test.prediction_rna  + 0.19*test.prediction_knn)/(0.27 + 0.28 + 0.19)\n",
        "watch['prediction_weighted_ensemble'] = (0.27*watch.prediction_xgboost + 0.28*watch.prediction_rna + 0.19*watch.prediction_knn)/(0.27 + 0.28 + 0.19)\n"
      ],
      "metadata": {
        "id": "VvJ84iiLzCjS"
      },
      "execution_count": 697,
      "outputs": []
    },
    {
      "cell_type": "code",
      "source": [
        "weighted_ensemble_Results = model_eval_metrics(prediction = 'prediction_weighted_ensemble')\n",
        "weighted_ensemble_Results"
      ],
      "metadata": {
        "id": "RKO7SEATzuTW"
      },
      "execution_count": 809,
      "outputs": []
    },
    {
      "cell_type": "markdown",
      "source": [
        " <b> Weighted ensemble recommender (Linear Regressor) </b>"
      ],
      "metadata": {
        "id": "doTcqayn0kqP"
      }
    },
    {
      "cell_type": "code",
      "source": [
        "import statsmodels.api as sm\n",
        "\n",
        "# Fit and summarize OLS model\n",
        "mod = sm.Logit(train.target, sm.add_constant(train[['prediction_xgboost', 'prediction_rna', 'prediction_knn']]))\n",
        "res = mod.fit()\n",
        "print(res.summary())\n"
      ],
      "metadata": {
        "id": "myyIETZl0hnU"
      },
      "execution_count": 809,
      "outputs": []
    },
    {
      "cell_type": "code",
      "source": [
        "train['prediction_linear_ensemble'] = ( 1.8720*train.prediction_xgboost + 4.5743*train.prediction_rna -3.5027)\n",
        "test['prediction_linear_ensemble']  = ( 1.8720*test.prediction_xgboost + 4.5743*test.prediction_rna -3.5027)\n",
        "watch['prediction_linear_ensemble'] = ( 1.8720*watch.prediction_xgboost + 4.5743*watch.prediction_rna -3.5027)\n"
      ],
      "metadata": {
        "id": "wIJXhjYlno3A"
      },
      "execution_count": 240,
      "outputs": []
    },
    {
      "cell_type": "code",
      "source": [
        "weighted_ensemble_Results = model_eval_metrics(prediction = 'prediction_linear_ensemble')\n",
        "weighted_ensemble_Results"
      ],
      "metadata": {
        "id": "2i0c3yUPvCI2"
      },
      "execution_count": 809,
      "outputs": []
    },
    {
      "cell_type": "markdown",
      "source": [
        "### 10. Métodos Meta-Level"
      ],
      "metadata": {
        "id": "7BAZYYwkvRwY"
      }
    },
    {
      "cell_type": "markdown",
      "source": [
        "<b> Staking methods </b>"
      ],
      "metadata": {
        "id": "8v4iYwAd3vfu"
      }
    },
    {
      "cell_type": "markdown",
      "source": [
        "Random Forest"
      ],
      "metadata": {
        "id": "JZTu7uxBuIoR"
      }
    },
    {
      "cell_type": "code",
      "source": [
        "from sklearn.ensemble import RandomForestClassifier\n",
        "\n",
        "rfc = RandomForestClassifier(n_estimators = 100,\n",
        "                             max_depth = 6,\n",
        "                             min_samples_leaf = 0.05,\n",
        "                             oob_score = True,\n",
        "                             verbose = 1,\n",
        "                             n_jobs = 12,\n",
        "                             random_state = 123)\n",
        "\n"
      ],
      "metadata": {
        "id": "1kVVhVi7uINe"
      },
      "execution_count": 728,
      "outputs": []
    },
    {
      "cell_type": "code",
      "source": [
        "%%time\n",
        "rfc = rfc.fit(train[['prediction_xgboost', 'prediction_rna', 'prediction_knn']], train.target)\n"
      ],
      "metadata": {
        "id": "qzsprcx5wi3y"
      },
      "execution_count": 809,
      "outputs": []
    },
    {
      "cell_type": "code",
      "source": [
        "importances = pd.DataFrame({'features' : ['prediction_xgboost', 'prediction_rna', 'prediction_knn'],\n",
        "                            'importance' : rfc.feature_importances_}).sort_values('importance', ascending = False)\n",
        "\n",
        "importances.loc[importances.importance > 0]"
      ],
      "metadata": {
        "id": "VIlB9LbZw3b9"
      },
      "execution_count": 809,
      "outputs": []
    },
    {
      "cell_type": "code",
      "source": [
        "# Obtener las probabilidades predichas\n",
        "train['prediction_stacking_rfc'] = rfc.predict_proba(train[['prediction_xgboost', 'prediction_rna', 'prediction_knn']])[:, 1]\n",
        "watch['prediction_stacking_rfc'] = rfc.predict_proba(watch[['prediction_xgboost', 'prediction_rna', 'prediction_knn']])[:, 1]\n",
        "test['prediction_stacking_rfc']  = rfc.predict_proba(test[['prediction_xgboost', 'prediction_rna', 'prediction_knn']])[:, 1]\n"
      ],
      "metadata": {
        "id": "f9V3WvsuxIl-"
      },
      "execution_count": 809,
      "outputs": []
    },
    {
      "cell_type": "code",
      "source": [
        "stacking_rfc_Results = model_eval_metrics(prediction = 'prediction_stacking_rfc')\n",
        "stacking_rfc_Results"
      ],
      "metadata": {
        "id": "t9YduTz3xT38"
      },
      "execution_count": 809,
      "outputs": []
    },
    {
      "cell_type": "markdown",
      "source": [
        "XGBoost"
      ],
      "metadata": {
        "id": "-tNK0KJcv5kA"
      }
    },
    {
      "cell_type": "code",
      "source": [
        "param_grid = {\n",
        "    'objective': ['binary:logistic'],\n",
        "    'booster': ['gbtree'],\n",
        "    'learning_rate': [0.1, 0.05],\n",
        "    'max_depth': [4, 5, 6, 7, 8],\n",
        "\n",
        "    'colsample_bytree': [0.5, 0.7, 0.9, 1],\n",
        "    'subsample': [0.5, 0.7, 0.9, 1],\n",
        "    'min_child_weight': [0.05, 30, 100],\n",
        "\n",
        "    'gamma': [0, 0.2, 0.4],\n",
        "\n",
        "    'eval_metric': [\"auc\"],\n",
        "    'random_state' : [123]}\n",
        "\n",
        "\n",
        "from sklearn.model_selection import GridSearchCV\n",
        "from sklearn.metrics import make_scorer, roc_auc_score\n",
        "\n",
        "xgBoost = xgb.XGBClassifier(n_estimators = 500)\n",
        "\n",
        "grid_search = GridSearchCV(\n",
        "    xgBoost,\n",
        "    param_grid,\n",
        "    scoring=make_scorer(roc_auc_score),  # Asegúrate de que es roc_auc_score\n",
        "    cv = 3,  # Considera aumentar el número de folds\n",
        "    n_jobs=-1,\n",
        "    return_train_score=True\n",
        ")\n",
        "\n",
        "# Fit grid_search sin eval_set\n",
        "grid_search.fit(train[['prediction_xgboost', 'prediction_rna', 'prediction_knn']], train.target,\n",
        "                early_stopping_rounds = 10,\n",
        "                eval_set=[(watch[['prediction_xgboost', 'prediction_rna', 'prediction_knn']], watch.target)],verbose=True)\n"
      ],
      "metadata": {
        "id": "rkWjtr5X4L1A"
      },
      "execution_count": 809,
      "outputs": []
    },
    {
      "cell_type": "code",
      "source": [
        "# Obtener el mejor modelo\n",
        "best_model = grid_search.best_estimator_\n",
        "\n",
        "# Si deseas, también puedes extraer y visualizar los mejores parámetros encontrados\n",
        "best_params = grid_search.best_params_\n",
        "print(f\"Best parameters found: {best_params}\")"
      ],
      "metadata": {
        "id": "xp1NZjYK2wtx"
      },
      "execution_count": 809,
      "outputs": []
    },
    {
      "cell_type": "code",
      "source": [
        "results = pd.DataFrame(grid_search.cv_results_)\n",
        "selected_columns = [col for col in results.columns if 'param_' in col] + ['mean_train_score', 'mean_test_score']\n",
        "final_results = results[selected_columns]\n",
        "final_results.rename(columns={'mean_train_score': 'AUC_Train', 'mean_test_score': 'AUC_Test'}, inplace=True)\n",
        "final_results = final_results[final_results.AUC_Test > 0].sort_values(by = 'AUC_Test', ascending = False)"
      ],
      "metadata": {
        "id": "UT68ToL2208k"
      },
      "execution_count": 703,
      "outputs": []
    },
    {
      "cell_type": "code",
      "source": [
        "final_results.head()"
      ],
      "metadata": {
        "id": "lMpffKGB2348"
      },
      "execution_count": 809,
      "outputs": []
    },
    {
      "cell_type": "code",
      "source": [
        "import xgboost as xgb\n",
        "\n",
        "# Definir los parámetros de XGBoost\n",
        "params = {'objective': 'binary:logistic',\n",
        "          'booster': 'gbtree',\n",
        "\n",
        "          'max_depth': 6,\n",
        "          'colsample_bytree' : 0.7,\n",
        "          'subsample': 0.7,\n",
        "          'eval_metric': 'auc',\n",
        "          'min_child_weight': 0.05,\n",
        "\n",
        "          'gamma': 0.4,\n",
        "          'learning_rate': 0.05}"
      ],
      "metadata": {
        "id": "yYfsnch226bc"
      },
      "execution_count": 710,
      "outputs": []
    },
    {
      "cell_type": "code",
      "source": [
        "# Entrenando el modelo final\n",
        "\n",
        "xgBoost = xgb.XGBClassifier(n_estimators = 500, **params)\n",
        "\n",
        "xgBoost.fit(train[['prediction_xgboost', 'prediction_rna', 'prediction_knn']],\n",
        "            train.target,\n",
        "            early_stopping_rounds = 10,\n",
        "            eval_set = [(train[['prediction_xgboost', 'prediction_rna', 'prediction_knn']], train.target),\n",
        "                        (watch[['prediction_xgboost', 'prediction_rna', 'prediction_knn']], watch.target)],\n",
        "            verbose = True)\n",
        "\n",
        "\n",
        "# Extraer los resultados de evaluación\n",
        "results = xgBoost.evals_result()\n"
      ],
      "metadata": {
        "id": "99h7wwVY3SqZ"
      },
      "execution_count": 809,
      "outputs": []
    },
    {
      "cell_type": "code",
      "source": [
        "# Obtener las probabilidades predichas\n",
        "train['prediction_stacking_xgboost'] = xgBoost.predict_proba(train[['prediction_xgboost', 'prediction_rna', 'prediction_knn']])[:, 1]\n",
        "watch['prediction_stacking_xgboost'] = xgBoost.predict_proba(watch[['prediction_xgboost', 'prediction_rna', 'prediction_knn']])[:, 1]\n",
        "test['prediction_stacking_xgboost']  = xgBoost.predict_proba(test[['prediction_xgboost', 'prediction_rna', 'prediction_knn']])[:, 1]\n"
      ],
      "metadata": {
        "id": "Rcg8Nftg3p4x"
      },
      "execution_count": 712,
      "outputs": []
    },
    {
      "cell_type": "code",
      "source": [
        "stacking_xgboost_Results = model_eval_metrics(prediction = 'prediction_stacking_xgboost')\n",
        "stacking_xgboost_Results"
      ],
      "metadata": {
        "id": "j5_DjozP4htK"
      },
      "execution_count": 809,
      "outputs": []
    },
    {
      "cell_type": "code",
      "source": [
        "%%capture\n",
        "!pip3 install shap"
      ],
      "metadata": {
        "id": "oj4ihhAi6tT7"
      },
      "execution_count": 280,
      "outputs": []
    },
    {
      "cell_type": "code",
      "source": [
        "import shap\n",
        "\n",
        "explainer = shap.Explainer(xgBoost,\n",
        "                           train[['prediction_xgboost', 'prediction_rna', 'prediction_knn']],\n",
        "                           feature_names = ['prediction_xgboost', 'prediction_rna', 'prediction_knn'])\n",
        "\n",
        "shap_values = explainer(train[['prediction_xgboost', 'prediction_rna', 'prediction_knn']])"
      ],
      "metadata": {
        "id": "ThVTu1pk6aVX"
      },
      "execution_count": 716,
      "outputs": []
    },
    {
      "cell_type": "code",
      "source": [
        "shap.plots.scatter(shap_values[:, \"prediction_xgboost\"])"
      ],
      "metadata": {
        "id": "OWL14f0t6muR"
      },
      "execution_count": 809,
      "outputs": []
    },
    {
      "cell_type": "code",
      "source": [
        "shap.plots.scatter(shap_values[:, \"prediction_rna\"])"
      ],
      "metadata": {
        "id": "9xiNUJSt632z"
      },
      "execution_count": 809,
      "outputs": []
    },
    {
      "cell_type": "code",
      "source": [
        "shap.plots.scatter(shap_values[:, \"prediction_knn\"])"
      ],
      "metadata": {
        "id": "1wnt3vqHvX6-"
      },
      "execution_count": 809,
      "outputs": []
    },
    {
      "cell_type": "code",
      "source": [
        "# Crear el gráfico de resumen de SHAP\n",
        "shap.summary_plot(shap_values, test[['prediction_xgboost', 'prediction_rna', 'prediction_knn']], plot_type=\"bar\")"
      ],
      "metadata": {
        "id": "2qcvhaAB7AQD"
      },
      "execution_count": 809,
      "outputs": []
    },
    {
      "cell_type": "code",
      "source": [
        "shap.summary_plot(shap_values,\n",
        "                  train[['prediction_xgboost', 'prediction_rna', 'prediction_knn']],\n",
        "                  feature_names=['prediction_xgboost', 'prediction_rna', 'prediction_knn'])\n"
      ],
      "metadata": {
        "id": "hkNPl0PTv85T"
      },
      "execution_count": 809,
      "outputs": []
    },
    {
      "cell_type": "markdown",
      "source": [
        "### 11. Método de switching"
      ],
      "metadata": {
        "id": "thVj5krmy-aF"
      }
    },
    {
      "cell_type": "markdown",
      "source": [
        "Clustering"
      ],
      "metadata": {
        "id": "-A8777v891H1"
      }
    },
    {
      "cell_type": "code",
      "source": [
        "from sklearn.cluster import KMeans\n"
      ],
      "metadata": {
        "id": "jS81ARRwz1lA"
      },
      "execution_count": 736,
      "outputs": []
    },
    {
      "cell_type": "code",
      "source": [
        "# Probando diferentes tamaños para k (número de clusters)\n",
        "\n",
        "inertia = []\n",
        "for n in range(1 , 11):\n",
        "    algorithm = (KMeans(n_clusters = n ,\n",
        "                        init = 'k-means++',\n",
        "                        n_init = 10,\n",
        "                        max_iter=300,\n",
        "                        tol = 0.0001,\n",
        "                        random_state= 123 ,\n",
        "                        algorithm='elkan') )\n",
        "\n",
        "    algorithm.fit(train_std)\n",
        "    inertia.append(algorithm.inertia_)\n"
      ],
      "metadata": {
        "id": "sIzo7S13z5eZ"
      },
      "execution_count": 739,
      "outputs": []
    },
    {
      "cell_type": "markdown",
      "source": [
        "**Indicador de Inercia**\n",
        "\n",
        "El índice de inercia mide que tan bien esta definido un clustering, a menor sea el valor mejor para nuestros resultados. Esta sujeto a la escala de nuestros datos."
      ],
      "metadata": {
        "id": "TbH8tbzF0Kxf"
      }
    },
    {
      "cell_type": "markdown",
      "source": [
        "<img src=\"https://miro.medium.com/v2/resize:fit:822/1*5yf86FgujYyctqkku2M-Kg.png\" alt=\"HTML5 Icon\" width= 200 height=150>\n"
      ],
      "metadata": {
        "id": "UXQciIyv0NhV"
      }
    },
    {
      "cell_type": "code",
      "source": [
        "# Gráfico de codo\n",
        "\n",
        "plt.figure(1 , figsize = (8 ,4))\n",
        "plt.plot(np.arange(1 , 11) , inertia , 'o')\n",
        "plt.plot(np.arange(1 , 11) , inertia , '-' , alpha = 0.5)\n",
        "plt.xlabel('Number of Clusters') , plt.ylabel('Inertia')\n",
        "plt.show()"
      ],
      "metadata": {
        "id": "1hcjPYs-znrj"
      },
      "execution_count": 809,
      "outputs": []
    },
    {
      "cell_type": "code",
      "source": [
        "# Modelo de clustering final\n",
        "\n",
        "algorithm = (KMeans(n_clusters = 5 ,init='k-means++', n_init = 10 , max_iter=300,\n",
        "                        tol=0.0001,  random_state= 111  , algorithm='elkan') )\n",
        "algorithm.fit(train_std)\n",
        "labels1 = algorithm.labels_\n",
        "centroids1 = algorithm.cluster_centers_"
      ],
      "metadata": {
        "id": "5NmbEZ5l0fPy"
      },
      "execution_count": 741,
      "outputs": []
    },
    {
      "cell_type": "code",
      "source": [
        "train['cluster_pred'] = algorithm.predict(train_std)\n",
        "test['cluster_pred'] = algorithm.predict(test_std)\n",
        "watch['cluster_pred'] = algorithm.predict(watch_std)"
      ],
      "metadata": {
        "id": "m1W93b-a0oKD"
      },
      "execution_count": 742,
      "outputs": []
    },
    {
      "cell_type": "code",
      "source": [
        "#PCA\n",
        "from sklearn.decomposition import PCA\n",
        "\n",
        "pca = PCA(n_components = 2) #\n",
        "pca = pca.fit(train_std)"
      ],
      "metadata": {
        "id": "CsS3-dDM06BP"
      },
      "execution_count": 743,
      "outputs": []
    },
    {
      "cell_type": "code",
      "source": [
        "train[['component1', 'component2']] = pca.transform(train_std)\n",
        "test[['component1', 'component2']] = pca.transform(test_std)\n",
        "watch[['component1', 'component2']] = pca.transform(watch_std)\n"
      ],
      "metadata": {
        "id": "6xKZFxDu0_Js"
      },
      "execution_count": 744,
      "outputs": []
    },
    {
      "cell_type": "code",
      "source": [
        "# Configuración de scatterplot k-means\n",
        "\n",
        "h = 0.02\n",
        "x_min, x_max = pca.transform(train_std)[:, 0].min() - 1, pca.transform(train_std)[:, 0].max() + 1\n",
        "y_min, y_max = pca.transform(train_std)[:, 1].min() - 1, pca.transform(train_std)[:, 1].max() + 1\n",
        "xx, yy = np.meshgrid(np.arange(x_min, x_max, h), np.arange(y_min, y_max, h))\n",
        "Z2 = algorithm.predict(train_std)"
      ],
      "metadata": {
        "id": "OfRa7fXp1Rfa"
      },
      "execution_count": 746,
      "outputs": []
    },
    {
      "cell_type": "code",
      "source": [
        "# Scatterplot k-means\n",
        "\n",
        "plt.figure(1 , figsize = (12 , 5) )\n",
        "plt.scatter( x = 'component1' ,y = 'component2' , data = train , c = train.cluster_pred, s = 20)\n",
        "plt.ylabel('principalComponents') , plt.xlabel('principalComponents')\n",
        "plt.show()"
      ],
      "metadata": {
        "id": "3jJZmD1G1f7g"
      },
      "execution_count": 809,
      "outputs": []
    },
    {
      "cell_type": "code",
      "source": [
        "# Calcular el error cuadrático para cada modelo en cada fila\n",
        "train['error_xgboost'] = (train['prediction_xgboost'] - train['target']) ** 2\n",
        "train['error_rna'] = (train['prediction_rna'] - train['target']) ** 2\n",
        "train['error_knn'] = (train['prediction_knn'] - train['target']) ** 2\n",
        "\n",
        "# Agrupar por la etiqueta de cluster y calcular el error medio\n",
        "error_promedio_por_cluster = train.groupby('cluster_pred').agg({\n",
        "    'error_xgboost': 'mean',\n",
        "    'error_rna': 'mean',\n",
        "    'error_knn': 'mean'\n",
        "}).reset_index()\n",
        "\n",
        "error_promedio_por_cluster"
      ],
      "metadata": {
        "id": "a5bvkbNl10jL"
      },
      "execution_count": 809,
      "outputs": []
    },
    {
      "cell_type": "code",
      "source": [
        "\n",
        "def switching_prediction(row):\n",
        "    if row['cluster_pred'] in [0, 1, 2]:\n",
        "        return row['prediction_rna']\n",
        "    elif row['cluster_pred'] == 3:\n",
        "        return row['prediction_xgboost']\n",
        "    elif row['cluster_pred'] == 4:\n",
        "        return row['prediction_knn']\n",
        "\n",
        "train['switching_prediction'] = train.apply(switching_prediction, axis=1)\n",
        "test['switching_prediction'] = test.apply(switching_prediction, axis=1)\n",
        "watch['switching_prediction'] = watch.apply(switching_prediction, axis=1)\n",
        "\n"
      ],
      "metadata": {
        "id": "8V24eLOY23B1"
      },
      "execution_count": 763,
      "outputs": []
    },
    {
      "cell_type": "code",
      "source": [
        "switching_Results = model_eval_metrics(prediction = 'switching_prediction')\n",
        "switching_Results\n"
      ],
      "metadata": {
        "id": "Y0_o5OCr9hDB"
      },
      "execution_count": 809,
      "outputs": []
    },
    {
      "cell_type": "markdown",
      "source": [
        "Decision Trees"
      ],
      "metadata": {
        "id": "fZ3k0q3j93DN"
      }
    },
    {
      "cell_type": "code",
      "source": [
        "\n",
        "from sklearn.tree import DecisionTreeRegressor\n",
        "\n",
        "# Definiendo modelo\n",
        "\n",
        "\n",
        "dtree = DecisionTreeRegressor(max_depth = 6,\n",
        "                               min_samples_leaf = 0.05,\n",
        "                               random_state = 123)\n",
        "\n",
        "dtree = dtree.fit(train[features].fillna(0), train.error_rna)\n",
        "\n",
        "dtree"
      ],
      "metadata": {
        "id": "JDR2Sinw941p",
        "outputId": "1877ef2d-eb81-4c87-a9fb-59c54cb4493f",
        "colab": {
          "base_uri": "https://localhost:8080/",
          "height": 75
        }
      },
      "execution_count": 775,
      "outputs": [
        {
          "output_type": "execute_result",
          "data": {
            "text/plain": [
              "DecisionTreeRegressor(max_depth=6, min_samples_leaf=0.05, random_state=123)"
            ],
            "text/html": [
              "<style>#sk-container-id-42 {color: black;background-color: white;}#sk-container-id-42 pre{padding: 0;}#sk-container-id-42 div.sk-toggleable {background-color: white;}#sk-container-id-42 label.sk-toggleable__label {cursor: pointer;display: block;width: 100%;margin-bottom: 0;padding: 0.3em;box-sizing: border-box;text-align: center;}#sk-container-id-42 label.sk-toggleable__label-arrow:before {content: \"▸\";float: left;margin-right: 0.25em;color: #696969;}#sk-container-id-42 label.sk-toggleable__label-arrow:hover:before {color: black;}#sk-container-id-42 div.sk-estimator:hover label.sk-toggleable__label-arrow:before {color: black;}#sk-container-id-42 div.sk-toggleable__content {max-height: 0;max-width: 0;overflow: hidden;text-align: left;background-color: #f0f8ff;}#sk-container-id-42 div.sk-toggleable__content pre {margin: 0.2em;color: black;border-radius: 0.25em;background-color: #f0f8ff;}#sk-container-id-42 input.sk-toggleable__control:checked~div.sk-toggleable__content {max-height: 200px;max-width: 100%;overflow: auto;}#sk-container-id-42 input.sk-toggleable__control:checked~label.sk-toggleable__label-arrow:before {content: \"▾\";}#sk-container-id-42 div.sk-estimator input.sk-toggleable__control:checked~label.sk-toggleable__label {background-color: #d4ebff;}#sk-container-id-42 div.sk-label input.sk-toggleable__control:checked~label.sk-toggleable__label {background-color: #d4ebff;}#sk-container-id-42 input.sk-hidden--visually {border: 0;clip: rect(1px 1px 1px 1px);clip: rect(1px, 1px, 1px, 1px);height: 1px;margin: -1px;overflow: hidden;padding: 0;position: absolute;width: 1px;}#sk-container-id-42 div.sk-estimator {font-family: monospace;background-color: #f0f8ff;border: 1px dotted black;border-radius: 0.25em;box-sizing: border-box;margin-bottom: 0.5em;}#sk-container-id-42 div.sk-estimator:hover {background-color: #d4ebff;}#sk-container-id-42 div.sk-parallel-item::after {content: \"\";width: 100%;border-bottom: 1px solid gray;flex-grow: 1;}#sk-container-id-42 div.sk-label:hover label.sk-toggleable__label {background-color: #d4ebff;}#sk-container-id-42 div.sk-serial::before {content: \"\";position: absolute;border-left: 1px solid gray;box-sizing: border-box;top: 0;bottom: 0;left: 50%;z-index: 0;}#sk-container-id-42 div.sk-serial {display: flex;flex-direction: column;align-items: center;background-color: white;padding-right: 0.2em;padding-left: 0.2em;position: relative;}#sk-container-id-42 div.sk-item {position: relative;z-index: 1;}#sk-container-id-42 div.sk-parallel {display: flex;align-items: stretch;justify-content: center;background-color: white;position: relative;}#sk-container-id-42 div.sk-item::before, #sk-container-id-42 div.sk-parallel-item::before {content: \"\";position: absolute;border-left: 1px solid gray;box-sizing: border-box;top: 0;bottom: 0;left: 50%;z-index: -1;}#sk-container-id-42 div.sk-parallel-item {display: flex;flex-direction: column;z-index: 1;position: relative;background-color: white;}#sk-container-id-42 div.sk-parallel-item:first-child::after {align-self: flex-end;width: 50%;}#sk-container-id-42 div.sk-parallel-item:last-child::after {align-self: flex-start;width: 50%;}#sk-container-id-42 div.sk-parallel-item:only-child::after {width: 0;}#sk-container-id-42 div.sk-dashed-wrapped {border: 1px dashed gray;margin: 0 0.4em 0.5em 0.4em;box-sizing: border-box;padding-bottom: 0.4em;background-color: white;}#sk-container-id-42 div.sk-label label {font-family: monospace;font-weight: bold;display: inline-block;line-height: 1.2em;}#sk-container-id-42 div.sk-label-container {text-align: center;}#sk-container-id-42 div.sk-container {/* jupyter's `normalize.less` sets `[hidden] { display: none; }` but bootstrap.min.css set `[hidden] { display: none !important; }` so we also need the `!important` here to be able to override the default hidden behavior on the sphinx rendered scikit-learn.org. See: https://github.com/scikit-learn/scikit-learn/issues/21755 */display: inline-block !important;position: relative;}#sk-container-id-42 div.sk-text-repr-fallback {display: none;}</style><div id=\"sk-container-id-42\" class=\"sk-top-container\"><div class=\"sk-text-repr-fallback\"><pre>DecisionTreeRegressor(max_depth=6, min_samples_leaf=0.05, random_state=123)</pre><b>In a Jupyter environment, please rerun this cell to show the HTML representation or trust the notebook. <br />On GitHub, the HTML representation is unable to render, please try loading this page with nbviewer.org.</b></div><div class=\"sk-container\" hidden><div class=\"sk-item\"><div class=\"sk-estimator sk-toggleable\"><input class=\"sk-toggleable__control sk-hidden--visually\" id=\"sk-estimator-id-56\" type=\"checkbox\" checked><label for=\"sk-estimator-id-56\" class=\"sk-toggleable__label sk-toggleable__label-arrow\">DecisionTreeRegressor</label><div class=\"sk-toggleable__content\"><pre>DecisionTreeRegressor(max_depth=6, min_samples_leaf=0.05, random_state=123)</pre></div></div></div></div></div>"
            ]
          },
          "metadata": {},
          "execution_count": 775
        }
      ]
    },
    {
      "cell_type": "code",
      "source": [
        "from sklearn.tree import export_graphviz\n",
        "from pydotplus import graph_from_dot_data\n",
        "\n",
        "dot_data = export_graphviz(dtree,\n",
        "                           feature_names = features,\n",
        "                           filled = True,\n",
        "                           rounded = True,\n",
        "                           special_characters = True)\n",
        "\n",
        "graph = graph_from_dot_data(dot_data)\n",
        "graph.write_png('tree.png')\n",
        "print(graph)"
      ],
      "metadata": {
        "id": "RV2IrJB5-UK_",
        "outputId": "5dcc25fa-f1b3-4034-aa88-f343158f3cc2",
        "colab": {
          "base_uri": "https://localhost:8080/"
        }
      },
      "execution_count": 776,
      "outputs": [
        {
          "output_type": "stream",
          "name": "stdout",
          "text": [
            "<pydotplus.graphviz.Dot object at 0x7c90b097c910>\n"
          ]
        }
      ]
    },
    {
      "cell_type": "code",
      "source": [
        "train['error_rna_pred'] = dtree.predict(train[features].fillna(0))\n",
        "test['error_rna_pred'] = dtree.predict(test[features].fillna(0))\n",
        "watch['error_rna_pred'] = dtree.predict(watch[features].fillna(0))"
      ],
      "metadata": {
        "id": "oQ4BENl_-6gx"
      },
      "execution_count": 779,
      "outputs": []
    },
    {
      "cell_type": "code",
      "source": [
        "# Agrupar por la etiqueta de rama y calcular el error medio\n",
        "error_promedio_por_rama = watch.groupby('error_rna_pred').agg({\n",
        "    'error_xgboost': 'mean',\n",
        "    'error_rna': 'mean',\n",
        "    'error_knn': 'mean'\n",
        "}).reset_index()\n",
        "\n",
        "error_promedio_por_rama.sort_values(by = 'error_rna_pred')"
      ],
      "metadata": {
        "id": "bpMJPky8_Mm5"
      },
      "execution_count": 809,
      "outputs": []
    },
    {
      "cell_type": "code",
      "source": [
        "\n",
        "def switching_prediction2(row):\n",
        "    if row['error_rna_pred'] >= 0.21:\n",
        "        return row['prediction_xgboost']\n",
        "    else:\n",
        "        return row['prediction_rna']\n",
        "\n",
        "train['switching_prediction2'] = train.apply(switching_prediction2, axis=1)\n",
        "test['switching_prediction2'] = test.apply(switching_prediction2, axis=1)\n",
        "watch['switching_prediction2'] = watch.apply(switching_prediction2, axis=1)\n",
        "\n"
      ],
      "metadata": {
        "id": "I2okScl5_63I"
      },
      "execution_count": 784,
      "outputs": []
    },
    {
      "cell_type": "code",
      "source": [
        "switching2_Results = model_eval_metrics(prediction = 'switching_prediction2')\n",
        "switching2_Results\n"
      ],
      "metadata": {
        "id": "yE6U_qG4Ak0P"
      },
      "execution_count": 809,
      "outputs": []
    },
    {
      "cell_type": "markdown",
      "source": [
        "### 11. Método de Cascading"
      ],
      "metadata": {
        "id": "NZpPE6zjBfBS"
      }
    },
    {
      "cell_type": "markdown",
      "source": [
        "Random Forest"
      ],
      "metadata": {
        "id": "3ne_wNPpCjbb"
      }
    },
    {
      "cell_type": "code",
      "source": [
        "from sklearn.ensemble import RandomForestClassifier\n",
        "\n",
        "rfc_cascade = RandomForestClassifier(n_estimators = 200,\n",
        "                             max_depth = 8,\n",
        "                             min_samples_leaf = 0.05,\n",
        "                             oob_score = True,\n",
        "                             verbose = 1,\n",
        "                             n_jobs = 12,\n",
        "                             random_state = 123)\n",
        "\n"
      ],
      "metadata": {
        "id": "V-KgSaeKClYT"
      },
      "execution_count": 804,
      "outputs": []
    },
    {
      "cell_type": "code",
      "source": [
        "%%time\n",
        "rfc_cascade_capa1 = rfc_cascade.fit(train[['prediction_xgboost'] + features].fillna(0), train.target)\n"
      ],
      "metadata": {
        "id": "iF1-VaX9CvVb"
      },
      "execution_count": 809,
      "outputs": []
    },
    {
      "cell_type": "code",
      "source": [
        "# Obtener las probabilidades predichas\n",
        "train['prediction_cascade_capa1'] = rfc_cascade_capa1.predict_proba(train[['prediction_xgboost'] + features].fillna(0))[:, 1]\n",
        "watch['prediction_cascade_capa1'] = rfc_cascade_capa1.predict_proba(watch[['prediction_xgboost'] + features].fillna(0))[:, 1]\n",
        "test['prediction_cascade_capa1']  = rfc_cascade_capa1.predict_proba(test[['prediction_xgboost'] + features].fillna(0))[:, 1]\n"
      ],
      "metadata": {
        "id": "8OYr598eDMlB"
      },
      "execution_count": 809,
      "outputs": []
    },
    {
      "cell_type": "code",
      "source": [
        "rfc_cascade_capa2 = rfc_cascade.fit(train[['prediction_cascade_capa1', 'prediction_xgboost', 'prediction_rna'] + features].fillna(0), train.target)\n",
        "\n",
        "train['prediction_cascade_capa2'] = rfc_cascade_capa2.predict_proba(train[['prediction_cascade_capa1', 'prediction_xgboost', 'prediction_rna'] + features].fillna(0))[:, 1]\n",
        "watch['prediction_cascade_capa2'] = rfc_cascade_capa2.predict_proba(watch[['prediction_cascade_capa1', 'prediction_xgboost', 'prediction_rna'] + features].fillna(0))[:, 1]\n",
        "test['prediction_cascade_capa2']  = rfc_cascade_capa2.predict_proba(test[['prediction_cascade_capa1', 'prediction_xgboost', 'prediction_rna']  + features].fillna(0))[:, 1]"
      ],
      "metadata": {
        "id": "22nbN3HxELnk"
      },
      "execution_count": 809,
      "outputs": []
    },
    {
      "cell_type": "code",
      "source": [
        "rfc_cascade_capa3 = rfc_cascade.fit(train[['prediction_cascade_capa1', 'prediction_cascade_capa2', 'prediction_xgboost', 'prediction_rna', 'prediction_knn'] + features].fillna(0), train.target)\n",
        "\n",
        "train['prediction_cascade_capa3'] = rfc_cascade_capa2.predict_proba(train[['prediction_cascade_capa1', 'prediction_cascade_capa2', 'prediction_xgboost', 'prediction_rna', 'prediction_knn'] + features].fillna(0))[:, 1]\n",
        "watch['prediction_cascade_capa3'] = rfc_cascade_capa2.predict_proba(watch[['prediction_cascade_capa1', 'prediction_cascade_capa2', 'prediction_xgboost', 'prediction_rna', 'prediction_knn'] + features].fillna(0))[:, 1]\n",
        "test['prediction_cascade_capa3']  = rfc_cascade_capa2.predict_proba(test[['prediction_cascade_capa1', 'prediction_cascade_capa2', 'prediction_xgboost', 'prediction_rna', 'prediction_knn']  + features].fillna(0))[:, 1]"
      ],
      "metadata": {
        "id": "evt4YtBbE4fQ"
      },
      "execution_count": 809,
      "outputs": []
    },
    {
      "cell_type": "code",
      "source": [
        "cascade_Results = model_eval_metrics(prediction = 'prediction_cascade_capa3')\n",
        "cascade_Results"
      ],
      "metadata": {
        "id": "UiFk12BxDfm_"
      },
      "execution_count": 809,
      "outputs": []
    },
    {
      "cell_type": "markdown",
      "source": [
        "---\n",
        "## Gracias por completar este laboratorio!"
      ],
      "metadata": {
        "id": "Ou7U5hlgp5nz"
      }
    }
  ]
}