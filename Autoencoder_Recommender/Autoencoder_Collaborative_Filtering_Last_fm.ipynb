{
  "cells": [
    {
      "cell_type": "markdown",
      "metadata": {
        "id": "view-in-github",
        "colab_type": "text"
      },
      "source": [
        "<a href=\"https://colab.research.google.com/github/JCaballerot/Recommender-Systems/blob/main/Autoencoder_Recommender/Autoencoder_Collaborative_Filtering_Last_fm.ipynb\" target=\"_parent\"><img src=\"https://colab.research.google.com/assets/colab-badge.svg\" alt=\"Open In Colab\"/></a>"
      ]
    },
    {
      "cell_type": "markdown",
      "metadata": {
        "id": "QM6BxrBQ3mLH"
      },
      "source": [
        "\n",
        "<h1 align=center><font size = 5> ALS Collaborative Filtering - Last.fm </font></h1>\n",
        "\n",
        "---"
      ]
    },
    {
      "cell_type": "markdown",
      "metadata": {
        "id": "MoAUCTsl3s9r"
      },
      "source": [
        "**Índice**\n",
        "\n",
        "- 1. Introducción\n",
        "- 2. Carga y Filtrado de Datos\n",
        "- 3. Creación del Modelo Autoencoder Convolucional\n",
        "- 4. Generación de Recomendaciones\n",
        "- 5. Validación\n",
        "- 6. Conclusiones\n"
      ]
    },
    {
      "cell_type": "markdown",
      "metadata": {
        "id": "4Fl2LA2h-Dj3"
      },
      "source": [
        "## 1. Introducción\n",
        "\n",
        "En este laboratorio, exploraremos el uso de autoencoders convolucionales para generar recomendaciones en el ámbito de las interacciones entre usuarios y artistas en Last.fm. Los autoencoders son modelos de aprendizaje no supervisado que aprenden a reconstruir su entrada pasando por una representación latente más compacta, capturando así las características esenciales de los datos. Al incorporar capas convolucionales, el modelo puede detectar patrones locales y estructuras complejas en los datos, lo que es especialmente útil en conjuntos de datos con relaciones no lineales y distribuciones heterogéneas.\n",
        "\n"
      ]
    },
    {
      "cell_type": "markdown",
      "metadata": {
        "id": "T5xwdEsD-oGv"
      },
      "source": [
        "Instalamos las librerías necesarias.\n",
        "\n"
      ]
    },
    {
      "cell_type": "code",
      "execution_count": null,
      "metadata": {
        "id": "DMmEOEeW3kR_"
      },
      "outputs": [],
      "source": [
        "%%capture\n",
        "\n",
        "# Instalación de librerías necesarias\n",
        "!pip install tensorflow\n",
        "\n",
        "# Importación de librerías\n",
        "import pandas as pd\n",
        "import numpy as np\n",
        "import matplotlib.pyplot as plt\n",
        "from sklearn.preprocessing import LabelEncoder\n",
        "from sklearn.model_selection import train_test_split\n",
        "from sklearn.metrics import mean_squared_error\n",
        "import tensorflow as tf\n",
        "from tensorflow.keras import layers, models\n"
      ]
    },
    {
      "cell_type": "markdown",
      "metadata": {
        "id": "6lqygrXg-HfE"
      },
      "source": [
        "## 2. Carga y Filtrado de Datos\n",
        "\n",
        "Cargamos el dataset y aplicamos un filtro \"long tail\" para mejorar la calidad del análisis, manteniendo solo los artistas con al menos 50 escuchas. Este enfoque reduce el impacto de artistas menos populares y permite centrarse en recomendaciones más relevantes."
      ]
    },
    {
      "cell_type": "code",
      "source": [
        "%%capture\n",
        "# Descargar el dataset de Last.fm desde Kaggle\n",
        "!pip install kaggle\n"
      ],
      "metadata": {
        "id": "h1LjCnToKb7k"
      },
      "execution_count": 2,
      "outputs": []
    },
    {
      "cell_type": "code",
      "execution_count": null,
      "metadata": {
        "id": "xgpVbhOhEBZi"
      },
      "outputs": [],
      "source": [
        "\n",
        "from google.colab import files\n",
        "files.upload()  # Sube tu archivo kaggle.json aquí\n",
        "\n",
        "# Configurar Kaggle API\n",
        "!mkdir -p ~/.kaggle\n",
        "!mv kaggle.json ~/.kaggle/\n",
        "!chmod 600 ~/.kaggle/kaggle.json\n",
        "\n",
        "# Descargar y descomprimir el dataset de Last.fm\n",
        "!kaggle datasets download -d japarra27/lastfm-dataset\n",
        "!unzip lastfm-dataset.zip\n"
      ]
    },
    {
      "cell_type": "code",
      "execution_count": 4,
      "metadata": {
        "id": "7eMEuFfZEKr1"
      },
      "outputs": [],
      "source": [
        "# Cargar el dataset\n",
        "data = pd.read_parquet(\"lastfm_union.parquet\")[:10_000_000]\n"
      ]
    },
    {
      "cell_type": "code",
      "execution_count": null,
      "metadata": {
        "id": "jeuPHQpYS-3U"
      },
      "outputs": [],
      "source": [
        "data.head()"
      ]
    },
    {
      "cell_type": "markdown",
      "metadata": {
        "id": "IoRQeQ20Ffoq"
      },
      "source": [
        "**Filtrado \"long tail\"**\n"
      ]
    },
    {
      "cell_type": "code",
      "source": [
        "# Contar las escuchas por artista\n",
        "artist_listen_counts = data.groupby('artist_name').size().sort_values(ascending=False)\n"
      ],
      "metadata": {
        "id": "U6B6TBo1LXh-"
      },
      "execution_count": 5,
      "outputs": []
    },
    {
      "cell_type": "code",
      "execution_count": null,
      "metadata": {
        "id": "rKx9JayQVC8H"
      },
      "outputs": [],
      "source": [
        "artist_listen_counts"
      ]
    },
    {
      "cell_type": "code",
      "execution_count": null,
      "metadata": {
        "id": "7HlijNVFENxg"
      },
      "outputs": [],
      "source": [
        "\n",
        "# Visualizar distribución long tail\n",
        "plt.figure(figsize=(12, 6))\n",
        "plt.bar(range(len(artist_listen_counts)), artist_listen_counts, color='lightblue')\n",
        "plt.title('Distribución del Número de Escuchas por Artista (Long Tail)')\n",
        "plt.xlabel('Artistas ordenados por popularidad')\n",
        "plt.ylabel('Número de escuchas')\n",
        "plt.ylim(1, 4000)\n",
        "plt.show()\n"
      ]
    },
    {
      "cell_type": "code",
      "execution_count": 8,
      "metadata": {
        "id": "xol-L6HtEQuo"
      },
      "outputs": [],
      "source": [
        "# Filtrar artistas con al menos 100 escuchas\n",
        "min_listens_per_artist = 100\n",
        "popular_artists = artist_listen_counts[artist_listen_counts >= min_listens_per_artist].index\n",
        "data_filtered = data[data['artist_name'].isin(popular_artists)]\n"
      ]
    },
    {
      "cell_type": "code",
      "execution_count": null,
      "metadata": {
        "id": "yhL3kPdAVYnz"
      },
      "outputs": [],
      "source": [
        "# Filtrar usuarios con al menos 100 escuchas\n",
        "users_listen_counts = data_filtered.groupby('user_id').size().sort_values(ascending=False)\n",
        "users_listen_counts"
      ]
    },
    {
      "cell_type": "code",
      "execution_count": 11,
      "metadata": {
        "id": "KnrN4PRsVjxG"
      },
      "outputs": [],
      "source": [
        "# Filtrar usuarios con al menos 100 escuchas\n",
        "min_listens_per_user = 100\n",
        "popular_users = users_listen_counts[users_listen_counts >= min_listens_per_user].index\n",
        "data_filtered = data_filtered[data_filtered['user_id'].isin(popular_users)]\n"
      ]
    },
    {
      "cell_type": "code",
      "execution_count": null,
      "metadata": {
        "id": "ERv1hfqaWmxI"
      },
      "outputs": [],
      "source": [
        "data_filtered.groupby('user_id').size().sort_values(ascending=False).tail()"
      ]
    },
    {
      "cell_type": "code",
      "execution_count": null,
      "metadata": {
        "id": "MW57MblaWzEr"
      },
      "outputs": [],
      "source": [
        "data_filtered.groupby('artist_name').size().sort_values(ascending=False).tail()"
      ]
    },
    {
      "cell_type": "markdown",
      "metadata": {
        "id": "tB5I3skLE8x1"
      },
      "source": [
        "## 3. Muestreo de datos\n",
        "\n",
        "Ahora que tenemos los datos filtrados, procederemos a entrenar un modelo de recomendación usando ALS con la biblioteca surprise. En surprise, podemos utilizar el algoritmo BaselineOnly con el método de estimación configurado como ALS.\n",
        "\n",
        "Primero, preparamos los datos en el formato que requiere surprise."
      ]
    },
    {
      "cell_type": "code",
      "execution_count": null,
      "metadata": {
        "id": "ADI6xPQQJ1KE"
      },
      "outputs": [],
      "source": [
        "# Crear el DataFrame con el recuento de escuchas\n",
        "user_artist_df = data_filtered.groupby(['user_id', 'artist_name']).size().reset_index(name='listens')\n",
        "user_artist_df"
      ]
    },
    {
      "cell_type": "code",
      "source": [
        "# Calcular el rango intercuartílico\n",
        "Q1 = user_artist_df['listens'].quantile(0.25)\n",
        "Q3 = user_artist_df['listens'].quantile(0.75)\n",
        "\n",
        "IQR = Q3 - Q1\n",
        "lower_bound = Q1 - 1.5 * IQR\n",
        "upper_bound = Q3 + 1.5 * IQR\n",
        "print(f'Upper limit: {upper_bound}')\n",
        "\n",
        "# Ajustar valores fuera del rango\n",
        "user_artist_df['listens_cap'] = user_artist_df['listens'].clip(lower=lower_bound, upper=upper_bound)\n",
        "user_artist_df.head()"
      ],
      "metadata": {
        "id": "8AkY1i68N16Z"
      },
      "execution_count": null,
      "outputs": []
    },
    {
      "cell_type": "code",
      "source": [
        "from sklearn.preprocessing import MinMaxScaler\n",
        "\n",
        "# Crear una función para escalar listens por cada user_id\n",
        "def scale_listens(df):\n",
        "    scaler = MinMaxScaler(feature_range=(-1, 1))\n",
        "    df['scaled_listens'] = df.groupby('user_id')['listens_cap'].transform(lambda x: scaler.fit_transform(x.values.reshape(-1, 1)).flatten())\n",
        "    return df\n",
        "\n",
        "# Aplicar la función al DataFrame\n",
        "scaled_user_artist_df = scale_listens(user_artist_df)\n",
        "scaled_user_artist_df.head()"
      ],
      "metadata": {
        "id": "XACipoFHMrfG"
      },
      "execution_count": null,
      "outputs": []
    },
    {
      "cell_type": "code",
      "source": [
        "scaled_user_artist_df[scaled_user_artist_df.user_id == 'user_000010'].scaled_listens.hist()"
      ],
      "metadata": {
        "id": "y4BKcphiNCXM"
      },
      "execution_count": null,
      "outputs": []
    },
    {
      "cell_type": "markdown",
      "metadata": {
        "id": "7tZ9CAUZFpM_"
      },
      "source": [
        "**División del Conjunto de Datos**\n"
      ]
    },
    {
      "cell_type": "code",
      "execution_count": 88,
      "metadata": {
        "id": "zetFic39E_3l"
      },
      "outputs": [],
      "source": [
        "# Dividir en conjuntos de entrenamiento y prueba estratificando por usuario\n",
        "train_data, test_data = train_test_split(scaled_user_artist_df,\n",
        "    test_size = 0.3,\n",
        "    random_state = 42,\n",
        "    stratify = scaled_user_artist_df['user_id']\n",
        ")\n",
        "\n",
        "watchlist_data, test_data = train_test_split(test_data,\n",
        "    test_size = 0.5,\n",
        "    random_state = 42,\n",
        "    stratify = test_data['user_id']\n",
        ")"
      ]
    },
    {
      "cell_type": "markdown",
      "metadata": {
        "id": "JurrlwnQJM4U"
      },
      "source": [
        "## 4. Creación del Modelo Autoencoder Convolucional\n",
        "\n",
        "Implementaremos un autoencoder convolucional. Los autoencoders son modelos que aprenden a reconstruir su entrada pasando por una representación latente más pequeña, capturando así las características más importantes de los datos. Al utilizar convoluciones, el modelo puede capturar patrones locales en las interacciones usuario-artista."
      ]
    },
    {
      "cell_type": "markdown",
      "source": [
        "### 4.1 Preparación de los Datos para el Autoencoder\n",
        "\n",
        "Primero, necesitamos preparar los datos en un formato adecuado para el autoencoder. Esto implica crear una matriz de interacción usuario-artista donde cada fila representa un usuario y cada columna representa un artista"
      ],
      "metadata": {
        "id": "9UQGS9Qkm9uu"
      }
    },
    {
      "cell_type": "code",
      "source": [
        "train_data.head()"
      ],
      "metadata": {
        "id": "UNpbEwE0Qdxr"
      },
      "execution_count": null,
      "outputs": []
    },
    {
      "cell_type": "code",
      "execution_count": 90,
      "metadata": {
        "id": "DY1vth4YXqEp"
      },
      "outputs": [],
      "source": [
        "# Crear la tabla pivot con `user_id` como índice, `artist_name` como columnas y `scaled_listens` como valores\n",
        "interaction_matrix = train_data.pivot(index='user_id', columns='artist_name', values='scaled_listens').reset_index()\n",
        "watchlist_matrix = watchlist_data.pivot(index='user_id', columns='artist_name', values='scaled_listens').reset_index()\n",
        "\n",
        "# Llenar los valores faltantes con 0\n",
        "interaction_matrix.fillna(0, inplace=True)\n",
        "watchlist_matrix.fillna(0, inplace=True)"
      ]
    },
    {
      "cell_type": "code",
      "source": [
        "interaction_matrix.head()"
      ],
      "metadata": {
        "id": "rpXgSXKKRpT1"
      },
      "execution_count": null,
      "outputs": []
    },
    {
      "cell_type": "markdown",
      "source": [
        "### 4.2 Construcción del Autoencoder Convolucional\n"
      ],
      "metadata": {
        "id": "PmyObtsdoXMc"
      }
    },
    {
      "cell_type": "markdown",
      "source": [
        "Ahora construiremos el modelo del autoencoder convolucional utilizando TensorFlow y Keras."
      ],
      "metadata": {
        "id": "7XqQLyvFofNM"
      }
    },
    {
      "cell_type": "code",
      "source": [
        "interaction_matrix = train_data.pivot(index='user_id', columns='artist_name', values='scaled_listens').fillna(0).values\n",
        "watchlist_matrix = train_data.pivot(index='user_id', columns='artist_name', values='scaled_listens').fillna(0).values"
      ],
      "metadata": {
        "id": "IymkX42xTCqD"
      },
      "execution_count": 115,
      "outputs": []
    },
    {
      "cell_type": "code",
      "source": [
        "interaction_matrix.shape"
      ],
      "metadata": {
        "id": "NbHIJjhrV1uI"
      },
      "execution_count": null,
      "outputs": []
    },
    {
      "cell_type": "code",
      "source": [
        "watchlist_matrix.shape"
      ],
      "metadata": {
        "id": "-sYvpULddsVT"
      },
      "execution_count": null,
      "outputs": []
    },
    {
      "cell_type": "code",
      "source": [
        "import numpy as np\n",
        "import tensorflow as tf\n",
        "from tensorflow.keras import layers, models\n",
        "from tensorflow.keras.callbacks import EarlyStopping"
      ],
      "metadata": {
        "id": "bVd35ahiljvX"
      },
      "execution_count": 150,
      "outputs": []
    },
    {
      "cell_type": "code",
      "execution_count": null,
      "metadata": {
        "id": "fl39q8hAJQrU"
      },
      "outputs": [],
      "source": [
        "\n",
        "\n",
        "# Expandir dimensiones para incluir batch size y canales\n",
        "interaction_matrix_reshaped = interaction_matrix[np.newaxis, ..., np.newaxis]  # (1, 516, 9859, 1)\n",
        "watchlist_matrix_reshaped = watchlist_matrix[np.newaxis, ..., np.newaxis]  # (1, 516, 9859, 1)\n",
        "\n",
        "# Definir el modelo\n",
        "input_layer = layers.Input(shape=(interaction_matrix_reshaped.shape[1], interaction_matrix_reshaped.shape[2], 1))\n",
        "\n",
        "# Codificador\n",
        "x = layers.Conv2D(32, kernel_size=(3, 3), activation='relu', padding='same')(input_layer)\n",
        "x = layers.MaxPooling2D(pool_size=(2, 2), padding='same')(x)  # Reduce la dimensión a la mitad\n",
        "x = layers.Conv2D(16, kernel_size=(3, 3), activation='relu', padding='same')(x)\n",
        "encoded = layers.MaxPooling2D(pool_size=(2, 2), padding='same')(x)  # Reduce la dimensión a la mitad\n",
        "\n",
        "# Decodificador\n",
        "x = layers.Conv2D(16, kernel_size=(3, 3), activation='relu', padding='same')(encoded)\n",
        "x = layers.UpSampling2D(size=(2, 2))(x)  # Duplica la dimensión\n",
        "x = layers.Conv2D(32, kernel_size=(3, 3), activation='relu', padding='same')(x)\n",
        "x = layers.UpSampling2D(size=(2, 2))(x)  # Duplica la dimensión\n",
        "\n",
        "# Capa de salida\n",
        "output_layer = layers.Conv2D(1, kernel_size=(3, 3), activation = 'sigmoid', padding='same')(x)\n",
        "\n",
        "# Recortar la salida para igualar las dimensiones de entrada\n",
        "output_layer = layers.Cropping2D(cropping=((0, x.shape[1] - input_layer.shape[1]),\n",
        "                                           (0, x.shape[2] - input_layer.shape[2])))(output_layer)\n",
        "\n",
        "# Construir y compilar el modelo\n",
        "autoencoder = models.Model(inputs=input_layer, outputs=output_layer)\n",
        "autoencoder.compile(optimizer='adam', loss='mse')\n",
        "\n",
        "\n",
        "autoencoder.summary()"
      ]
    },
    {
      "cell_type": "markdown",
      "source": [
        "### 4.3 Entrenamiento del Modelo\n"
      ],
      "metadata": {
        "id": "BRrlCrPkr2Sm"
      }
    },
    {
      "cell_type": "markdown",
      "source": [
        "Entrenamos el autoencoder utilizando únicamente train_data."
      ],
      "metadata": {
        "id": "loKiz3oDr4xE"
      }
    },
    {
      "cell_type": "code",
      "source": [
        "# Definir Early Stopping\n",
        "early_stopping = EarlyStopping(\n",
        "    monitor = 'loss',  # Monitorea la pérdida del conjunto de entrenamiento\n",
        "    patience = 10,      # Espera 3 épocas sin mejora antes de detenerse\n",
        "    restore_best_weights = True  # Restaura los mejores pesos obtenidos\n",
        ")\n",
        "\n",
        "# Entrenar el modelo con Early Stopping\n",
        "history = autoencoder.fit(\n",
        "    interaction_matrix_reshaped, interaction_matrix_reshaped,\n",
        "    validation_data=(watchlist_matrix_reshaped, watchlist_matrix_reshaped),  # Validación explícita\n",
        "    epochs=20,\n",
        "    batch_size=1,\n",
        "    verbose=1,\n",
        "    callbacks=[early_stopping]\n",
        ")\n"
      ],
      "metadata": {
        "id": "1ZYKwwFNr627"
      },
      "execution_count": null,
      "outputs": []
    },
    {
      "cell_type": "code",
      "source": [
        "import matplotlib.pyplot as plt\n",
        "\n",
        "# Graficar el desempeño de la red\n",
        "plt.figure(figsize=(10, 6))\n",
        "\n",
        "# Pérdida del entrenamiento\n",
        "plt.plot(history.history['loss'], label='Loss', marker='o')\n",
        "\n",
        "# Pérdida de validación (si está disponible)\n",
        "if 'val_loss' in history.history:\n",
        "    plt.plot(history.history['val_loss'], label='Validation Loss', marker='o')\n",
        "\n",
        "# Configuración de la gráfica\n",
        "plt.title('Model Training and Validation Loss', fontsize=16)\n",
        "plt.xlabel('Epochs', fontsize=14)\n",
        "plt.ylabel('Loss', fontsize=14)\n",
        "plt.grid(True, linestyle='--', alpha=0.6)\n",
        "plt.legend(fontsize=12)\n",
        "plt.tight_layout()\n",
        "\n",
        "# Mostrar gráfica\n",
        "plt.show()\n"
      ],
      "metadata": {
        "id": "KITEhdJehiqU",
        "outputId": "0362badf-fb39-4e81-b5f5-0435fe39eec9",
        "colab": {
          "base_uri": "https://localhost:8080/",
          "height": 607
        }
      },
      "execution_count": 153,
      "outputs": [
        {
          "output_type": "display_data",
          "data": {
            "text/plain": [
              "<Figure size 1000x600 with 1 Axes>"
            ],
            "image/png": "[encoded data removed]"
          },
          "metadata": {}
        }
      ]
    },
    {
      "cell_type": "markdown",
      "source": [
        "## 5. Generación de Recomendaciones\n",
        "\n"
      ],
      "metadata": {
        "id": "XohlYr4hvMru"
      }
    },
    {
      "cell_type": "markdown",
      "source": [
        "### 5.1 Reconstrucción de la Matriz de Interacción\n"
      ],
      "metadata": {
        "id": "JlmLP5NwsBFx"
      }
    },
    {
      "cell_type": "markdown",
      "source": [
        "Obtenemos las predicciones del modelo para todos los usuarios en train_data.\n",
        "\n"
      ],
      "metadata": {
        "id": "1AAO5x_XvP2r"
      }
    },
    {
      "cell_type": "code",
      "source": [
        "user_ids = train_data.user_id.drop_duplicates().tolist()\n",
        "artist_names = train_data.artist_name.drop_duplicates().tolist()\n",
        "user_ids.sort()\n",
        "artist_names.sort()"
      ],
      "metadata": {
        "id": "-TV-1-6NkaKI"
      },
      "execution_count": 154,
      "outputs": []
    },
    {
      "cell_type": "code",
      "source": [
        "# Reconstruir la matriz de interacción\n",
        "reconstructed = autoencoder.predict(interaction_matrix_reshaped)\n",
        "\n",
        "# Remover dimensiones adicionales para devolver al formato original\n",
        "reconstructed = np.squeeze(reconstructed, axis=(0, -1))  # Elimina las dimensiones de batch y canales\n",
        "\n",
        "# Convertir a DataFrame etiquetado\n",
        "reconstructed_df = pd.DataFrame(reconstructed, index=user_ids, columns=artist_names)\n"
      ],
      "metadata": {
        "id": "89US5R0vsGGx",
        "outputId": "56ab7261-4178-49dc-e798-c11a3b584919",
        "colab": {
          "base_uri": "https://localhost:8080/"
        }
      },
      "execution_count": 195,
      "outputs": [
        {
          "output_type": "stream",
          "name": "stdout",
          "text": [
            "\u001b[1m1/1\u001b[0m \u001b[32m━━━━━━━━━━━━━━━━━━━━\u001b[0m\u001b[37m\u001b[0m \u001b[1m1s\u001b[0m 1s/step\n"
          ]
        }
      ]
    },
    {
      "cell_type": "code",
      "source": [
        "# Reconstruir el DataFrame original desde reconstructed_df\n",
        "reconstructed_df = reconstructed_df.reset_index()\n",
        "\n",
        "original_format_df = reconstructed_df.melt(\n",
        "    id_vars=\"index\",\n",
        "    var_name=\"artist_name\",\n",
        "    value_name=\"predict\"\n",
        ")\n",
        "original_format_df = original_format_df.rename(columns={\"index\" :  \"user_id\"})\n",
        "\n",
        "original_format_df.head()\n"
      ],
      "metadata": {
        "id": "JNbKjp2giC5k"
      },
      "execution_count": null,
      "outputs": []
    },
    {
      "cell_type": "code",
      "source": [
        "pddfRes = pd.merge(test_data, original_format_df, on = ['user_id', 'artist_name'], how = 'left')\n",
        "pddfRes[pddfRes.user_id == 'user_000001'].sort_values('predict', ascending = False).head(10)\n"
      ],
      "metadata": {
        "id": "kPbyT5XspgBf"
      },
      "execution_count": null,
      "outputs": []
    },
    {
      "cell_type": "code",
      "source": [
        "# Crear la columna que indica si le gustó la canción\n",
        "pddfRes['liked'] = pddfRes['scaled_listens'] > 0  # True si scaled_listens > 0, False en caso contrario\n",
        "\n",
        "# Crear la columna de recomendación\n",
        "pddfRes['rank'] = pddfRes.groupby('user_id')['predict'].rank(method='first', ascending=False)\n",
        "\n",
        "# Generar la columna 'recommendation' indicando si la canción está entre las 10 mejores predicciones\n",
        "pddfRes['recommendation'] = pddfRes['rank'] <= 10  # True si está en el top 10, False en caso contrario\n",
        "\n",
        "# Mostrar las primeras filas del DataFrame actualizado\n",
        "pddfRes.head()\n"
      ],
      "metadata": {
        "id": "-0llQ0T_qEtM"
      },
      "execution_count": null,
      "outputs": []
    },
    {
      "cell_type": "code",
      "source": [
        "# Filtrar las recomendaciones hechas\n",
        "recommended = pddfRes[pddfRes['recommendation'] == True]\n",
        "\n",
        "# Filtrar las recomendaciones que realmente le gustan al cliente\n",
        "liked_recommendations = recommended[recommended['liked'] == True]\n",
        "\n",
        "# Calcular la cantidad de recomendaciones que le gustan\n",
        "total_liked_recommendations = liked_recommendations.shape[0]\n",
        "\n",
        "# Calcular el total de recomendaciones hechas\n",
        "total_recommendations_made = recommended.shape[0]\n",
        "\n",
        "# Proporción de recomendaciones que le gustan\n",
        "liked_ratio = total_liked_recommendations / total_recommendations_made if total_recommendations_made > 0 else 0\n",
        "\n",
        "# Mostrar resultados\n",
        "total_liked_recommendations, total_recommendations_made, liked_ratio\n"
      ],
      "metadata": {
        "id": "03GmxkClqCAV"
      },
      "execution_count": null,
      "outputs": []
    },
    {
      "cell_type": "code",
      "source": [
        "from sklearn.metrics import roc_auc_score\n",
        "roc_auc_score(pddfRes.dropna()['liked'], pddfRes.dropna()['predict'])"
      ],
      "metadata": {
        "id": "9VeJAimNvSWJ"
      },
      "execution_count": null,
      "outputs": []
    }
  ],
  "metadata": {
    "colab": {
      "machine_shape": "hm",
      "provenance": [],
      "authorship_tag": "ABX9TyOl++OGek/aDL0LzdSszYsg",
      "include_colab_link": true
    },
    "kernelspec": {
      "display_name": "Python 3",
      "name": "python3"
    },
    "language_info": {
      "name": "python"
    }
  },
  "nbformat": 4,
  "nbformat_minor": 0
}