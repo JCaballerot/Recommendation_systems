{
  "nbformat": 4,
  "nbformat_minor": 0,
  "metadata": {
    "colab": {
      "provenance": [],
      "machine_shape": "hm",
      "authorship_tag": "ABX9TyPk/9rGLj4DWoU08K8mfapQ",
      "include_colab_link": true
    },
    "kernelspec": {
      "name": "python3",
      "display_name": "Python 3"
    },
    "language_info": {
      "name": "python"
    }
  },
  "cells": [
    {
      "cell_type": "markdown",
      "metadata": {
        "id": "view-in-github",
        "colab_type": "text"
      },
      "source": [
        "<a href=\"https://colab.research.google.com/github/JCaballerot/Recommender_Systems/blob/main/XGBoost_Recommender/Book_Crossing_XGB.ipynb\" target=\"_parent\"><img src=\"https://colab.research.google.com/assets/colab-badge.svg\" alt=\"Open In Colab\"/></a>"
      ]
    },
    {
      "cell_type": "markdown",
      "source": [
        "\n",
        "<h1 align=center><font size = 5> XGBoost\n",
        " Recommender</font></h1>\n",
        "\n",
        "---"
      ],
      "metadata": {
        "id": "xojo8Uolpezq"
      }
    },
    {
      "cell_type": "markdown",
      "source": [
        "<center>\n",
        "  <img src=\"https://storage.googleapis.com/kaggle-datasets-images/1661575/2726067/684ac0c4c14cb46d1047ccb620b45cac/dataset-cover.jpg?t=2021-10-21-03-18-09\" width=\"800\" height=\"300\">\n",
        "</center>\n"
      ],
      "metadata": {
        "id": "N8k0D4hUpQtd"
      }
    },
    {
      "cell_type": "markdown",
      "source": [
        "## Objetivo de este Notebook\n",
        "\n",
        "1. Cargar y preprocesar un Dataset.\n",
        "2. Realizar un sistema de recomendación basado en XGBoost.\n",
        "3. Comprobar el performance del sistema."
      ],
      "metadata": {
        "id": "8FbV_eL8qMhx"
      }
    },
    {
      "cell_type": "markdown",
      "source": [
        "## Tabla de Contenidos\n",
        "\n",
        "<div class=\"alert alert-block alert-info\" style=\"margin-top: 20px\">\n",
        "\n",
        "<font size = 3>\n",
        "    \n",
        "1. <a href=\"#item31\">Contexto</a>  \n",
        "2. <a href=\"#item32\">Descargar y preparar el Dataset</a>  \n",
        "6. <a href=\"#item34\">Entrenamiento del modelo</a>  \n",
        "6. <a href=\"#item34\">Validación del modelo</a>  \n",
        "\n",
        "</font>\n",
        "</div>"
      ],
      "metadata": {
        "id": "fwc_GHBnvBdo"
      }
    },
    {
      "cell_type": "markdown",
      "source": [
        "### 1. Contexto"
      ],
      "metadata": {
        "id": "1ClPvzs6qk8D"
      }
    },
    {
      "cell_type": "markdown",
      "source": [
        "\n",
        "El conjunto de datos \"Book-Crossing\" (también conocido como BX) es una colección de datos relacionados con libros y reseñas de libros. Este conjunto de datos se centra en la interacción de los usuarios con libros y sus calificaciones, y es ampliamente utilizado en aplicaciones de sistemas de recomendación.\n"
      ],
      "metadata": {
        "id": "wOY_1u5Bq6Kz"
      }
    },
    {
      "cell_type": "markdown",
      "source": [
        "\n",
        "<b>Descripción de datos</b>\n",
        "\n",
        "---\n",
        "\n",
        "El conjunto de datos Book-Crossing contiene información sobre:\n",
        "\n",
        "* <b>Libros:</b> Información sobre los libros, incluyendo su título, autor y año de publicación.\n",
        "\n",
        "* <b>Usuarios:</b> Perfiles de los usuarios que interactúan con los libros, incluyendo su ID y ubicación.\n",
        "\n",
        "* <b>Calificaciones:</b> Calificaciones numéricas que los usuarios asignan a los libros que han leído.\n",
        "\n",
        "El conjunto de datos puede ser utilizado para varios propósitos, como la construcción de sistemas de recomendación de libros, el análisis de patrones de lectura y preferencias de los usuarios, y la investigación en el campo de la minería de datos y la inteligencia artificial.\n",
        "\n",
        "---\n",
        "\n",
        "\n",
        "\n",
        "<strong>Puede consultar este [link](https://www.kaggle.com/datasets/syedjaferk/book-crossing-dataset) para leer más sobre la fuente de datos Book Crossing.</strong>\n"
      ],
      "metadata": {
        "id": "uiYshhXFrHiC"
      }
    },
    {
      "cell_type": "markdown",
      "source": [
        "### 2. Descargar y preparar Dataset"
      ],
      "metadata": {
        "id": "6XVvIx3sr_Q0"
      }
    },
    {
      "cell_type": "code",
      "source": [
        "# Download Book-Crossing Dataset\n",
        "!curl -o dataset.zip \"http://www2.informatik.uni-freiburg.de/~cziegler/BX/BX-CSV-Dump.zip\"\n",
        "!unzip dataset.zip\n",
        "!ls -la"
      ],
      "metadata": {
        "id": "rsPg7ZwxfHE4"
      },
      "execution_count": null,
      "outputs": []
    },
    {
      "cell_type": "code",
      "execution_count": 214,
      "metadata": {
        "id": "sPs_w8bcU1bm"
      },
      "outputs": [],
      "source": [
        "# Principales librerías\n",
        "import pandas as pd\n",
        "import numpy as np\n",
        "\n",
        "import seaborn as sns\n",
        "import matplotlib.pyplot as plt\n",
        "\n",
        "import warnings\n",
        "warnings.filterwarnings(\"ignore\") # Turn off warnings\n"
      ]
    },
    {
      "cell_type": "code",
      "source": [
        "ratings = pd.read_csv(\"BX-Book-Ratings.csv\", sep=\";\", encoding=\"ISO-8859-1\")\n",
        "books   = pd.read_csv(\"BX-Books.csv\",        sep=\";\", encoding=\"ISO-8859-1\", error_bad_lines=False)\n",
        "users   = pd.read_csv(\"BX-Users.csv\",        sep=\";\", encoding=\"ISO-8859-1\")"
      ],
      "metadata": {
        "id": "w0HCRfqUXp9J"
      },
      "execution_count": null,
      "outputs": []
    },
    {
      "cell_type": "code",
      "source": [
        "users.head()"
      ],
      "metadata": {
        "id": "ofXHH-qra7xZ"
      },
      "execution_count": null,
      "outputs": []
    },
    {
      "cell_type": "code",
      "source": [
        "books.head()"
      ],
      "metadata": {
        "id": "oV10YeKpbCJ2"
      },
      "execution_count": null,
      "outputs": []
    },
    {
      "cell_type": "markdown",
      "source": [
        "<b>Calificaciones explícitas</b>: Están expresadas en una escala del 1-10 (más alta) y representan una calificación explícita por parte del usuario.\n",
        "\n",
        "<b>Calificaciones implícitas</b>: Son expresadas por un 0, indicando que no hay una calificación explícita. En el contexto de este dataset, una calificación de 0 indica una interacción implícita con el libro (por ejemplo, el usuario lo compró o leyó), pero no proporciona una calificación explícita del contenido."
      ],
      "metadata": {
        "id": "5Cr1IT5mxjw0"
      }
    },
    {
      "cell_type": "code",
      "source": [
        "ratings.head()"
      ],
      "metadata": {
        "id": "HwBd4qRTbLrq"
      },
      "execution_count": null,
      "outputs": []
    },
    {
      "cell_type": "code",
      "source": [
        "print(\"  Users: {} \\n  Books: {}\\n  Ratings: {}\".format(len(users), len(books), len(ratings)))\n"
      ],
      "metadata": {
        "id": "otyfiUUlbRhj"
      },
      "execution_count": null,
      "outputs": []
    },
    {
      "cell_type": "code",
      "source": [
        "users.columns = users.columns.str.lower().str.replace('-', '_')\n",
        "books.columns = books.columns.str.lower().str.replace('-', '_')\n",
        "ratings.columns = ratings.columns.str.lower().str.replace('-', '_')"
      ],
      "metadata": {
        "id": "SAjQpxQpbXFh"
      },
      "execution_count": 220,
      "outputs": []
    },
    {
      "cell_type": "markdown",
      "source": [
        "### 3. Uniendo data"
      ],
      "metadata": {
        "id": "zb9J_YnLbzf5"
      }
    },
    {
      "cell_type": "code",
      "source": [
        "ratings = ratings[ratings.book_rating > 0]"
      ],
      "metadata": {
        "id": "aIJGBWmQx_gs"
      },
      "execution_count": 221,
      "outputs": []
    },
    {
      "cell_type": "code",
      "source": [
        "# Cruzamos las bases de datos para  obtener una tabla única\n",
        "\n",
        "data = pd.merge(ratings, users, on = 'user_id', how = 'left')\n",
        "data = pd.merge(data,    books, on = 'isbn', how = 'left')\n",
        "data.drop(columns = ['image_url_s', 'image_url_m', 'image_url_l'], inplace = True)\n",
        "\n",
        "data.head()"
      ],
      "metadata": {
        "id": "g8Iium9Mbf9P"
      },
      "execution_count": null,
      "outputs": []
    },
    {
      "cell_type": "code",
      "source": [
        "# Estilo de Seaborn\n",
        "sns.set(style=\"whitegrid\")\n",
        "# figura y eje\n",
        "plt.figure(figsize=(6, 3))\n",
        "sns.histplot(data.book_rating, bins=30, kde=False, color=\"skyblue\")"
      ],
      "metadata": {
        "id": "eBmwrCvnWShs"
      },
      "execution_count": null,
      "outputs": []
    },
    {
      "cell_type": "code",
      "source": [
        "#tratando información del año de publicación\n",
        "data.year_of_publication = pd.to_numeric(data.year_of_publication, errors='coerce')\n"
      ],
      "metadata": {
        "id": "r-HbJtArMvRV"
      },
      "execution_count": 224,
      "outputs": []
    },
    {
      "cell_type": "code",
      "source": [
        "# Ejemplo de remoción de outliers\n",
        "lower_threshold = 1964\n",
        "upper_threshold = 2004\n",
        "\n",
        "data = data[(data['year_of_publication'] >= lower_threshold) & (data['year_of_publication'] <= upper_threshold)]\n",
        "data.year_of_publication = data.year_of_publication.astype(int)"
      ],
      "metadata": {
        "id": "B3OvB-1zMvKK"
      },
      "execution_count": 225,
      "outputs": []
    },
    {
      "cell_type": "code",
      "source": [
        "#Creando antiguedad del libro\n",
        "data['antiguedad'] = 2023 - data.year_of_publication"
      ],
      "metadata": {
        "id": "y0gMgeFpOk8J"
      },
      "execution_count": 226,
      "outputs": []
    },
    {
      "cell_type": "code",
      "source": [
        "# Estilo de Seaborn\n",
        "sns.set(style=\"whitegrid\")\n",
        "\n",
        "# figura y eje\n",
        "plt.figure(figsize=(6, 3))\n",
        "\n",
        "# histograma\n",
        "sns.histplot(data.antiguedad, bins=30, kde=False, color=\"skyblue\")\n",
        "\n",
        "# título y etiquetas a los ejes\n",
        "plt.title('Distribución de antiguedad', fontsize=12)\n",
        "plt.xlabel('Antiguedad', fontsize=10)\n",
        "plt.ylabel('Frecuencia', fontsize=10)\n",
        "\n",
        "# Muestra el histograma\n",
        "plt.show()"
      ],
      "metadata": {
        "id": "GA3MStOtO8SR"
      },
      "execution_count": null,
      "outputs": []
    },
    {
      "cell_type": "code",
      "source": [
        "books_list = data.groupby('book_title')['user_id'].count().reset_index()\n",
        "books_list.sort_values(by = 'user_id', ascending = False, inplace = True)\n",
        "\n",
        "print(f\"{len(books_list)} libros diferentes, nos quedaremos con los más populares para no saturar nuestro Recsys\")"
      ],
      "metadata": {
        "id": "KCnv9QBMOOGR"
      },
      "execution_count": null,
      "outputs": []
    },
    {
      "cell_type": "code",
      "source": [
        "# Calculamos los libros más populares\n",
        "pop_books = books_list[:500].book_title.tolist()"
      ],
      "metadata": {
        "id": "7jfQhOlWQ9Np"
      },
      "execution_count": 229,
      "outputs": []
    },
    {
      "cell_type": "code",
      "source": [
        "data_v2 = data[data.book_title.isin(pop_books)]"
      ],
      "metadata": {
        "id": "3haC2IRGVo41"
      },
      "execution_count": 230,
      "outputs": []
    },
    {
      "cell_type": "code",
      "source": [
        "data_v2.head()"
      ],
      "metadata": {
        "id": "gyWtyq32XSsS"
      },
      "execution_count": null,
      "outputs": []
    },
    {
      "cell_type": "markdown",
      "source": [
        "Dicotomizaremos la variable objetivo para que el modelo aprenda la probabilidad de que el cliente tenga afinidad con el libro. Esta estrategia es bastante utilizada en las aplicaciones de Recsys pero no olvidemos que también se puede apuntar a predecir directamente el rating del cliente."
      ],
      "metadata": {
        "id": "QfszeJEtXgMA"
      }
    },
    {
      "cell_type": "code",
      "source": [
        "data_v2['target'] = data_v2.book_rating.apply(lambda x: 1 if x > 7 else 0)"
      ],
      "metadata": {
        "id": "BM8LFanNX992"
      },
      "execution_count": 232,
      "outputs": []
    },
    {
      "cell_type": "code",
      "source": [
        "data_v2.head()"
      ],
      "metadata": {
        "id": "33FdYMRMYmx_"
      },
      "execution_count": null,
      "outputs": []
    },
    {
      "cell_type": "code",
      "source": [
        "# figura y eje\n",
        "plt.figure(figsize=(6, 3))\n",
        "# Analizando el target\n",
        "sns.countplot(x='target', data = data_v2, palette = 'hls')\n",
        "plt.title('¿La data presenta desbalance?', fontsize=12)\n"
      ],
      "metadata": {
        "id": "TIr_nR-SYsd3"
      },
      "execution_count": null,
      "outputs": []
    },
    {
      "cell_type": "markdown",
      "source": [
        "### 4. Muestreo de datos"
      ],
      "metadata": {
        "id": "Y_mZc6VWa8Ct"
      }
    },
    {
      "cell_type": "code",
      "source": [
        "# Muestreo de data\n",
        "from sklearn.model_selection import train_test_split\n",
        "\n",
        "train, test = train_test_split(data_v2,\n",
        "                               stratify = data_v2.target, # Recuerda estratificar para evitar sesgos durante el muestreo\n",
        "                               train_size = 0.6,\n",
        "                               random_state = 123)\n",
        "\n",
        "watch, test = train_test_split(test,\n",
        "                               stratify = test.target, # Recuerda estratificar para evitar sesgos durante el muestreo\n",
        "                               train_size = 0.5,\n",
        "                               random_state = 123)\n",
        "\n",
        "# El muestreo puede hacerse por cliente o por enmascaramiento como en anteriores ejercicios."
      ],
      "metadata": {
        "id": "7rrZaiZra-wW"
      },
      "execution_count": 235,
      "outputs": []
    },
    {
      "cell_type": "markdown",
      "source": [
        "### 4. Tratamiento de variables"
      ],
      "metadata": {
        "id": "ZCUCh6M-an1U"
      }
    },
    {
      "cell_type": "markdown",
      "source": [
        "Variable de locacion"
      ],
      "metadata": {
        "id": "ONx84fV3dUzP"
      }
    },
    {
      "cell_type": "code",
      "source": [
        "train.head()"
      ],
      "metadata": {
        "id": "wzWxR2NIasru"
      },
      "execution_count": null,
      "outputs": []
    },
    {
      "cell_type": "code",
      "source": [
        "temp = train.groupby('location')['user_id'].count().reset_index()\n",
        "temp.sort_values(by = 'user_id', ascending = False)"
      ],
      "metadata": {
        "id": "Mk-uwe2Xc2DC"
      },
      "execution_count": null,
      "outputs": []
    },
    {
      "cell_type": "code",
      "source": [
        "# Función para extraer los n últimos elementos y unirlos con ','\n",
        "def extract_last_n(location, n):\n",
        "    parts = location.split(', ')\n",
        "    return ', '.join(parts[-n:])\n",
        "\n",
        "# Generar agregaciones\n",
        "train['location_level2'] = train['location'].apply(lambda x: extract_last_n(x, 2))\n",
        "train['location_level3'] = train['location'].apply(lambda x: extract_last_n(x, 1))\n",
        "\n",
        "test['location_level2'] = test['location'].apply(lambda x: extract_last_n(x, 2))\n",
        "test['location_level3'] = test['location'].apply(lambda x: extract_last_n(x, 1))\n",
        "\n",
        "watch['location_level2'] = watch['location'].apply(lambda x: extract_last_n(x, 2))\n",
        "watch['location_level3'] = watch['location'].apply(lambda x: extract_last_n(x, 1))"
      ],
      "metadata": {
        "id": "i-d3XIhLdzd4"
      },
      "execution_count": 238,
      "outputs": []
    },
    {
      "cell_type": "code",
      "source": [
        "train.head()"
      ],
      "metadata": {
        "id": "R4gUmO_geQ0p"
      },
      "execution_count": null,
      "outputs": []
    },
    {
      "cell_type": "code",
      "source": [
        "temp = train.groupby('location_level2')['user_id'].count().reset_index()\n",
        "temp = temp[temp.user_id > 30]\n",
        "temp.sort_values(by = 'user_id', ascending = False)"
      ],
      "metadata": {
        "id": "KjBwAibreVNo"
      },
      "execution_count": null,
      "outputs": []
    },
    {
      "cell_type": "code",
      "source": [
        "temp = train.groupby('location_level3')['user_id'].count().reset_index()\n",
        "temp = temp[temp.user_id > 30]\n",
        "temp.sort_values(by = 'user_id', ascending = False)"
      ],
      "metadata": {
        "id": "EcIdtOLDfQ9V"
      },
      "execution_count": null,
      "outputs": []
    },
    {
      "cell_type": "code",
      "source": [
        "# Creando variable mixta de locacion\n",
        "train['location_f'] = train.apply(lambda row: row['location_level2'] if row['location_level3'] == 'usa' else row['location_level3'], axis=1)\n",
        "test['location_f']  = test.apply(lambda row: row['location_level2'] if row['location_level3'] == 'usa' else row['location_level3'], axis=1)\n",
        "watch['location_f'] = watch.apply(lambda row: row['location_level2'] if row['location_level3'] == 'usa' else row['location_level3'], axis=1)\n"
      ],
      "metadata": {
        "id": "XSWDcK2-f_eO"
      },
      "execution_count": 242,
      "outputs": []
    },
    {
      "cell_type": "code",
      "source": [
        "train.head()"
      ],
      "metadata": {
        "id": "iqiMHdVbi8Bp"
      },
      "execution_count": null,
      "outputs": []
    },
    {
      "cell_type": "markdown",
      "source": [
        "**Encoding**\n",
        "\n",
        "El encoding de variables categóricas convierte las categorías de texto en números de una manera que puede ser utilizada de manera eficiente por los algoritmos de machine learning.\n"
      ],
      "metadata": {
        "id": "a8DJYF1vfrCS"
      }
    },
    {
      "cell_type": "code",
      "source": [
        "train.head()"
      ],
      "metadata": {
        "id": "h8_xO_cMfrgU"
      },
      "execution_count": null,
      "outputs": []
    },
    {
      "cell_type": "code",
      "source": [
        "catergory_features = ['book_title', 'book_author', 'publisher', 'location_f']"
      ],
      "metadata": {
        "id": "_sttbtK7k6gi"
      },
      "execution_count": 245,
      "outputs": []
    },
    {
      "cell_type": "code",
      "source": [
        "%%capture\n",
        "!pip3 install category_encoders"
      ],
      "metadata": {
        "id": "tRWATpUfjxhw"
      },
      "execution_count": 246,
      "outputs": []
    },
    {
      "cell_type": "code",
      "source": [
        "# Aplicando category encoders\n",
        "from category_encoders import TargetEncoder\n",
        "\n",
        "encoder = TargetEncoder(handle_unknown = 'infrequent_if_exist',\n",
        "                        handle_missing = 'value',\n",
        "                        min_samples_leaf = 30)\n",
        "\n",
        "encoder.fit(train[catergory_features].astype('category'), train['target'])\n"
      ],
      "metadata": {
        "id": "oafM9sH8kzcI"
      },
      "execution_count": null,
      "outputs": []
    },
    {
      "cell_type": "code",
      "source": [
        "# Aplicando transformaciones sobre  variables\n",
        "\n",
        "train[[x + '_coded' for x in catergory_features]] = encoder.transform(train[catergory_features].astype('category'))\n",
        "test[[x + '_coded' for x in catergory_features]]  = encoder.transform(test[catergory_features].astype('category'))\n",
        "watch[[x + '_coded' for x in catergory_features]] = encoder.transform(watch[catergory_features].astype('category'))\n"
      ],
      "metadata": {
        "id": "SCzt_krYljOu"
      },
      "execution_count": 248,
      "outputs": []
    },
    {
      "cell_type": "code",
      "source": [
        "train.head()"
      ],
      "metadata": {
        "id": "Z0MaRpyGmXe7"
      },
      "execution_count": null,
      "outputs": []
    },
    {
      "cell_type": "markdown",
      "source": [
        "### 5. Modelamiento\n",
        "\n",
        "\n"
      ],
      "metadata": {
        "id": "TDnRZ9Ywb293"
      }
    },
    {
      "cell_type": "code",
      "source": [
        "import xgboost as xgb\n",
        "from sklearn.metrics import *"
      ],
      "metadata": {
        "id": "h-aApvRYmtjb"
      },
      "execution_count": 251,
      "outputs": []
    },
    {
      "cell_type": "code",
      "source": [
        "features = ['age', 'antiguedad', 'book_title_coded', 'book_author_coded', 'publisher_coded', 'location_f_coded']"
      ],
      "metadata": {
        "id": "ofVn4FclnFKF"
      },
      "execution_count": 250,
      "outputs": []
    },
    {
      "cell_type": "code",
      "source": [
        "# Definimos los parámetros para el Grid Search\n",
        "\n",
        "param_grid = {'objective': ['binary:logistic'],\n",
        "              'learning_rate': [0.01, 0.05, 0.1],\n",
        "              'max_depth': [3, 5, 7],\n",
        "              'colsample_bytree': [0.7, 1],\n",
        "              'subsample': [0.7, 1]}\n"
      ],
      "metadata": {
        "id": "4bnCIvKHovH8"
      },
      "execution_count": 252,
      "outputs": []
    },
    {
      "cell_type": "code",
      "source": [
        "%%time\n",
        "from sklearn.model_selection import GridSearchCV\n",
        "\n",
        "# Crear clasificador\n",
        "xgBoost = xgb.XGBClassifier(use_label_encoder=False, n_estimators = 500)\n",
        "\n",
        "\n",
        "# Crear objeto GridSearchCV\n",
        "grid_search = GridSearchCV(xgBoost,\n",
        "                           param_grid,\n",
        "                           scoring = make_scorer(auc),\n",
        "                           cv = 3,  # Número de folds en la validación cruzada\n",
        "                           verbose = 2,  # Verbosidad del output\n",
        "                           n_jobs = -1  # Uso de todos los núcleos disponibles\n",
        "                          )\n",
        "\n",
        "# Realizar búsqueda de parámetros\n",
        "grid_search.fit(train[features],\n",
        "                train.target,\n",
        "                early_stopping_rounds = 10,\n",
        "                eval_metric = \"auc\",\n",
        "                eval_set=[(watch[features], watch.target)],\n",
        "                verbose = True)\n",
        "\n"
      ],
      "metadata": {
        "id": "yIGOyCIbqOfl"
      },
      "execution_count": null,
      "outputs": []
    },
    {
      "cell_type": "code",
      "source": [
        "# Obtener el mejor modelo\n",
        "best_model = grid_search.best_estimator_\n",
        "\n",
        "# Si deseas, también puedes extraer y visualizar los mejores parámetros encontrados\n",
        "best_params = grid_search.best_params_\n",
        "print(f\"Best parameters found: {best_params}\")\n"
      ],
      "metadata": {
        "id": "2CzWrOv_zIw4"
      },
      "execution_count": null,
      "outputs": []
    },
    {
      "cell_type": "code",
      "source": [
        "# Entrenando el modelo final\n",
        "\n",
        "xgBoost = xgb.XGBClassifier(use_label_encoder=False,\n",
        "                            n_estimators = 500, **best_params)\n",
        "\n",
        "xgBoost.fit(train[features],\n",
        "            train.target,\n",
        "            early_stopping_rounds=10,\n",
        "            eval_metric=\"auc\",\n",
        "            eval_set=[(train[features], train.target), (watch[features], watch.target)],\n",
        "            verbose=True)\n"
      ],
      "metadata": {
        "id": "_oTNHTlIuB9b"
      },
      "execution_count": null,
      "outputs": []
    },
    {
      "cell_type": "markdown",
      "source": [
        "### 5. Evauación del modelo"
      ],
      "metadata": {
        "id": "wy8C8qLz0061"
      }
    },
    {
      "cell_type": "markdown",
      "source": [
        "---\n",
        "## Gracias por completar este laboratorio!"
      ],
      "metadata": {
        "id": "Ou7U5hlgp5nz"
      }
    }
  ]
}