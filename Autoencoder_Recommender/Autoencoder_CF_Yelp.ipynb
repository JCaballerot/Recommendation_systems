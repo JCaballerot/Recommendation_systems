{
  "nbformat": 4,
  "nbformat_minor": 0,
  "metadata": {
    "colab": {
      "provenance": [],
      "machine_shape": "hm",
      "authorship_tag": "ABX9TyPFp1nTUG3jpYV8CO/z1EoB",
      "include_colab_link": true
    },
    "kernelspec": {
      "name": "python3",
      "display_name": "Python 3"
    },
    "language_info": {
      "name": "python"
    }
  },
  "cells": [
    {
      "cell_type": "markdown",
      "metadata": {
        "id": "view-in-github",
        "colab_type": "text"
      },
      "source": [
        "<a href=\"https://colab.research.google.com/github/JCaballerot/Recommender-Systems/blob/main/Autoencoder_Recommender/Autoencoder_CF_Yelp.ipynb\" target=\"_parent\"><img src=\"https://colab.research.google.com/assets/colab-badge.svg\" alt=\"Open In Colab\"/></a>"
      ]
    },
    {
      "cell_type": "markdown",
      "source": [
        "# **Autoencoder Collaborative Filtering Yelp**"
      ],
      "metadata": {
        "id": "t3iaC7O9P2LR"
      }
    },
    {
      "cell_type": "markdown",
      "source": [
        "## Contexto\n",
        "\n",
        "Yelp es una plataforma en línea lanzada en 2004 que permite a los usuarios buscar, calificar y reseñar negocios locales. Incluye una amplia variedad de categorías como restaurantes, bares, salones de belleza, talleres mecánicos, hoteles, y más. Su objetivo principal es conectar a las personas con los mejores negocios en sus comunidades a través de información detallada y opiniones confiables."
      ],
      "metadata": {
        "id": "Wbbn5NLQTWXw"
      }
    },
    {
      "cell_type": "markdown",
      "source": [
        "El dataset de Yelp es un recurso ampliamente utilizado en investigación y aplicaciones relacionadas con sistemas de recomendación, análisis de texto, minería de datos y machine learning. Proporciona una colección rica de datos sobre negocios, usuarios y las interacciones entre ambos, extraídos de la plataforma Yelp."
      ],
      "metadata": {
        "id": "6LWwUhgzTZk1"
      }
    },
    {
      "cell_type": "markdown",
      "source": [
        "**Tamaño y Escala**\n",
        "\n",
        "El dataset es considerablemente grande y puede ocupar varios GB, dependiendo de la versión descargada. Por ejemplo:\n",
        "\n",
        "- Reseñas: Más de 8 millones.\n",
        "- Usuarios: Más de 1.5 millones.\n",
        "- Negocios: Alrededor de 200,000.\n"
      ],
      "metadata": {
        "id": "K47AtgIoTmhM"
      }
    },
    {
      "cell_type": "markdown",
      "source": [
        "## Objetivo\n",
        "\n",
        "El objetivo de este laboratorio es desarrollar un sistema de recomendación utilizando un modelo de autoencoder. Este modelo es capaz de aprender representaciones comprimidas de datos para predecir calificaciones de usuarios a productos."
      ],
      "metadata": {
        "id": "4UVuLI5TP_2d"
      }
    },
    {
      "cell_type": "markdown",
      "source": [
        "## Tabla de Contenidos\n",
        "\n",
        "<div class=\"alert alert-block alert-info\" style=\"margin-top: 20px\">\n",
        "\n",
        "<font size = 3>\n",
        "    \n",
        "1. <a href=\"#item31\">Introducción y Configuración Inicial</a>  \n",
        "2. <a href=\"#item32\">Carga y Exploración de Datos</a>  \n",
        "3. <a href=\"#item34\">Análisis de Distribución de Datos</a>  \n",
        "4. <a href=\"#item34\">Construcción de la Matriz de Interacción</a>\n",
        "5. <a href=\"#item34\">Construcción del Modelo Autoencoder</a>\n",
        "6. <a href=\"#item34\">Entrenamiento del Modelo</a>\n",
        "7. <a href=\"#item34\">Evaluación del Desempeño del Modelo</a>\n",
        "\n",
        "\n",
        "\n",
        "</font>\n",
        "</div>\n",
        "\n",
        "\n"
      ],
      "metadata": {
        "id": "q0g9OV7GQEIw"
      }
    },
    {
      "cell_type": "markdown",
      "source": [
        "## 1. Introducción y Configuración Inicial\n",
        "\n",
        "Comenzamos configurando el entorno para trabajar con los datasets de Kaggle. Esto incluye la instalación de la API de Kaggle y la descarga de datos.\n"
      ],
      "metadata": {
        "id": "HFybo1mPQ0AG"
      }
    },
    {
      "cell_type": "code",
      "source": [
        "import pandas as pd\n",
        "import numpy as np\n",
        "import tensorflow as tf\n",
        "import matplotlib.pyplot as plt\n",
        "from tensorflow.keras.models import Model\n",
        "from tensorflow.keras.layers import Input, Dense\n",
        "from tensorflow.keras.callbacks import EarlyStopping\n"
      ],
      "metadata": {
        "id": "EqePIf5VAuKJ"
      },
      "execution_count": 1,
      "outputs": []
    },
    {
      "cell_type": "code",
      "source": [
        "%%capture\n",
        "# Descargar el dataset de Last.fm desde Kaggle\n",
        "!pip install kaggle"
      ],
      "metadata": {
        "id": "RfUVX41rxwa4"
      },
      "execution_count": 2,
      "outputs": []
    },
    {
      "cell_type": "code",
      "source": [
        "\n",
        "from google.colab import files\n",
        "files.upload()  # Sube tu archivo kaggle.json aquí\n",
        "\n",
        "# Configurar Kaggle API\n",
        "!mkdir -p ~/.kaggle\n",
        "!mv kaggle.json ~/.kaggle/\n",
        "!chmod 600 ~/.kaggle/kaggle.json\n",
        "\n",
        "\n",
        "# Descargar otro dataset de Yelp\n",
        "!kaggle datasets download -d yelp-dataset/yelp-dataset\n",
        "\n",
        "# Descomprimir el archivo descargado\n",
        "!unzip yelp-dataset.zip\n"
      ],
      "metadata": {
        "id": "mcEqhB3yx40j"
      },
      "execution_count": null,
      "outputs": []
    },
    {
      "cell_type": "markdown",
      "source": [
        "**Descripción de los archivos descargados:**\n",
        "\n",
        "- **yelp_academic_dataset_review.json:** Contiene información sobre usuarios, negocios y calificaciones.\n",
        "- **yelp_academic_dataset_business.json:** Detalla información sobre negocios."
      ],
      "metadata": {
        "id": "Tdj68xRERBwm"
      }
    },
    {
      "cell_type": "markdown",
      "source": [
        "## 2. Carga y Exploración de Datos\n",
        "\n",
        "**Lectura del archivo de calificaciones**\n",
        "\n",
        "Cargamos el dataset de reviews en un DataFrame y exploramos sus columnas principales."
      ],
      "metadata": {
        "id": "XfInKP80RT-I"
      }
    },
    {
      "cell_type": "code",
      "source": [
        "import json\n",
        "import pandas as pd\n",
        "\n",
        "# Leer el archivo JSON\n",
        "file_path = \"yelp_academic_dataset_review.json\"\n",
        "ratings_data = []\n",
        "\n",
        "with open(file_path, 'r') as file:\n",
        "    for line in file:\n",
        "        ratings_data.append(json.loads(line))  # Decodificar cada línea como JSON\n",
        "\n",
        "# Convertir la lista de diccionarios en un DataFrame\n",
        "ratings_df = pd.DataFrame(ratings_data)\n",
        "\n",
        "# Mostrar las primeras filas del DataFrame\n",
        "ratings_df[['user_id', 'business_id', 'stars']].head()\n"
      ],
      "metadata": {
        "id": "5oevUWoV1O5S"
      },
      "execution_count": null,
      "outputs": []
    },
    {
      "cell_type": "markdown",
      "source": [
        "**Lectura del archivo de negocios**\n",
        "\n",
        "Cargamos la información de negocios para complementarla con los datos de calificaciones."
      ],
      "metadata": {
        "id": "SUMZQF2tRb7j"
      }
    },
    {
      "cell_type": "code",
      "source": [
        "# Leer el archivo JSON\n",
        "file_path = \"yelp_academic_dataset_business.json\"\n",
        "ratings_data = []\n",
        "\n",
        "with open(file_path, 'r') as file:\n",
        "    for line in file:\n",
        "        ratings_data.append(json.loads(line))  # Decodificar cada línea como JSON\n",
        "\n",
        "# Convertir la lista de diccionarios en un DataFrame\n",
        "yelp_academic_dataset_business = pd.DataFrame(ratings_data)\n",
        "\n",
        "# Mostrar las primeras filas del DataFrame\n",
        "yelp_academic_dataset_business[['business_id', 'name']].head()\n"
      ],
      "metadata": {
        "id": "oNS4atMa2hpe"
      },
      "execution_count": null,
      "outputs": []
    },
    {
      "cell_type": "code",
      "source": [
        "ratings_df = ratings_df[['user_id', 'business_id', 'stars']]\n",
        "ratings_df.head()"
      ],
      "metadata": {
        "id": "OPHx0PtU-ve5"
      },
      "execution_count": null,
      "outputs": []
    },
    {
      "cell_type": "markdown",
      "source": [
        "## 3. Análisis de Distribución de Datos\n",
        "\n",
        "Analizamos la distribución del número de reviews por negocio para entender mejor la naturaleza de los datos."
      ],
      "metadata": {
        "id": "0PYac7JzRnEM"
      }
    },
    {
      "cell_type": "code",
      "source": [
        "business_id_counts = ratings_df.groupby('business_id').size().sort_values(ascending=False)\n"
      ],
      "metadata": {
        "id": "lYlwJzo4ANbo"
      },
      "execution_count": 5,
      "outputs": []
    },
    {
      "cell_type": "code",
      "source": [
        "# Visualizar distribución long tail\n",
        "plt.figure(figsize=(12, 6))\n",
        "plt.bar(range(len(business_id_counts)), business_id_counts, color='lightblue')\n",
        "plt.title('Distribución del Número de reviews por negocio (Long Tail)')\n",
        "plt.xlabel('Negocios ordenados por reviews')\n",
        "plt.ylabel('Número de reviews')\n",
        "plt.ylim(1, 1000)\n",
        "plt.show()\n"
      ],
      "metadata": {
        "id": "1a3BGjXsAei-"
      },
      "execution_count": null,
      "outputs": []
    },
    {
      "cell_type": "markdown",
      "source": [
        "**Filtrado de negocios y usuarios**\n",
        "\n",
        "Seleccionamos solo negocios y usuarios con suficiente actividad para enfocarnos en datos relevantes."
      ],
      "metadata": {
        "id": "S1mdzpVPRv1b"
      }
    },
    {
      "cell_type": "code",
      "source": [
        "# Filtrar artistas con al menos 500 reviews\n",
        "min_reviews_per_business = 500\n",
        "popular_business = business_id_counts[business_id_counts >= min_reviews_per_business].index\n",
        "ratings_df_filtered = ratings_df[ratings_df['business_id'].isin(popular_business)]\n"
      ],
      "metadata": {
        "id": "-YTDw0tnBUtq"
      },
      "execution_count": 6,
      "outputs": []
    },
    {
      "cell_type": "code",
      "source": [
        "# Filtrar usuarios con al menos 100 escuchas\n",
        "users_review_counts = ratings_df_filtered.groupby('user_id').size().sort_values(ascending=False)\n",
        "users_review_counts"
      ],
      "metadata": {
        "id": "KQTc2Aa2CVCN"
      },
      "execution_count": null,
      "outputs": []
    },
    {
      "cell_type": "code",
      "source": [
        "# Filtrar usuarios con al menos 500 reviews\n",
        "min_reviews_per_user = 50\n",
        "popular_users = users_review_counts[users_review_counts >= min_reviews_per_user].index\n",
        "ratings_df_filtered = ratings_df_filtered[ratings_df_filtered['user_id'].isin(popular_users)]\n"
      ],
      "metadata": {
        "id": "bmxXEMpcCiHC"
      },
      "execution_count": 8,
      "outputs": []
    },
    {
      "cell_type": "markdown",
      "source": [
        "## 4. Construcción de la Matriz de Interacción\n",
        "\n",
        "Generamos una matriz que relacione usuarios y negocios basada en las calificaciones promedio."
      ],
      "metadata": {
        "id": "2nRQYPcGR8OA"
      }
    },
    {
      "cell_type": "code",
      "source": [
        "ratings_df_filtered = ratings_df_filtered.groupby(['business_id', 'user_id'], as_index=False).agg({'stars': 'mean'})\n",
        "interaction_matrix = ratings_df_filtered.pivot(index='business_id', columns='user_id', values='stars').reset_index().fillna(0)\n",
        "interaction_matrix.head()"
      ],
      "metadata": {
        "id": "xWXwRQ9gDjCN"
      },
      "execution_count": null,
      "outputs": []
    },
    {
      "cell_type": "markdown",
      "source": [
        "## 5. Construcción del Modelo Autoencoder\n",
        "\n",
        "Creamos un modelo de autoencoder para aprender representaciones comprimidas de la matriz de interacción."
      ],
      "metadata": {
        "id": "xxTWbmFfSFe3"
      }
    },
    {
      "cell_type": "code",
      "source": [
        "\n",
        "# Convertir la matriz en un array de numpy\n",
        "business = list(set(interaction_matrix.columns.tolist()) - set('business_id'))\n",
        "\n",
        "interaction_matrix[business] = interaction_matrix[business].apply(pd.to_numeric, errors='coerce').fillna(0)\n",
        "interaction_array = interaction_matrix[business].values\n",
        "\n",
        "# Definir dimensiones\n",
        "num_items, num_users = interaction_array.shape\n",
        "input_dim = num_users  # Cada fila representa un negocio\n",
        "\n",
        "\n",
        "# Construcción del Autoencoder\n",
        "input_layer = Input(shape=(input_dim,))\n",
        "encoded = Dense(64, activation='sigmoid')(input_layer)  # Codificación a 64 neuronas\n",
        "encoded = Dense(32, activation='sigmoid')(encoded)      # Codificación a 32 neuronas\n",
        "\n",
        "decoded = Dense(64, activation='sigmoid')(encoded)      # Decodificación\n",
        "decoded = Dense(input_dim, activation='sigmoid')(decoded)  # Reconstrucción (usa sigmoid para valores entre 0 y 1)\n",
        "\n",
        "# Modelo Autoencoder\n",
        "autoencoder = Model(inputs=input_layer, outputs=decoded)\n",
        "\n",
        "# Compilación del modelo\n",
        "autoencoder.compile(optimizer='adam', loss='mean_squared_error')\n"
      ],
      "metadata": {
        "id": "UIoH6i6HEiyN"
      },
      "execution_count": 10,
      "outputs": []
    },
    {
      "cell_type": "markdown",
      "source": [
        "## 6. Entrenamiento del Modelo\n",
        "\n",
        "Normalizamos los datos y entrenamos el modelo utilizando el callback EarlyStopping.\n"
      ],
      "metadata": {
        "id": "pn0ZM55rSTQO"
      }
    },
    {
      "cell_type": "code",
      "source": [
        "# Entrenamiento del modelo\n",
        "# Normalizar datos entre 0 y 1 si es necesario\n",
        "interaction_array_norm = (interaction_array / np.max(interaction_array))\n",
        "\n",
        "\n",
        "\n",
        "# Definir el callback de Early Stopping\n",
        "early_stopping = EarlyStopping(\n",
        "    monitor='val_loss',      # Monitorea la pérdida en el conjunto de validación\n",
        "    patience=10,             # Número de épocas sin mejora antes de detener el entrenamiento\n",
        "    restore_best_weights=True  # Restaura los mejores pesos al final del entrenamiento\n",
        ")\n",
        "\n",
        "\n",
        "# Entrenamiento del modelo con Early Stopping\n",
        "history = autoencoder.fit(\n",
        "    interaction_array_norm,\n",
        "    interaction_array_norm,  # Reconstrucción\n",
        "    epochs=500,\n",
        "    batch_size=32,\n",
        "    validation_split=0.2,\n",
        "    verbose=1,\n",
        "    callbacks=[early_stopping]  # Agregar el callback aquí\n",
        ")\n"
      ],
      "metadata": {
        "id": "IQUq8PniSYza"
      },
      "execution_count": null,
      "outputs": []
    },
    {
      "cell_type": "markdown",
      "source": [
        "## 7. Evaluación del Desempeño del Modelo\n",
        "\n",
        "Graficamos las curvas de pérdida para evaluar el desempeño del modelo durante el entrenamiento.\n"
      ],
      "metadata": {
        "id": "KjmzQUwnSbG-"
      }
    },
    {
      "cell_type": "code",
      "source": [
        "import matplotlib.pyplot as plt\n",
        "\n",
        "# Graficar el desempeño de la red\n",
        "plt.figure(figsize=(10, 6))\n",
        "\n",
        "# Pérdida del entrenamiento\n",
        "plt.plot(history.history['loss'], label='Loss', marker='o')\n",
        "\n",
        "# Pérdida de validación (si está disponible)\n",
        "if 'val_loss' in history.history:\n",
        "    plt.plot(history.history['val_loss'], label='Validation Loss', marker='o')\n",
        "\n",
        "# Configuración de la gráfica\n",
        "plt.title('Model Training and Validation Loss', fontsize=16)\n",
        "plt.xlabel('Epochs', fontsize=14)\n",
        "plt.ylabel('Loss', fontsize=14)\n",
        "plt.grid(True, linestyle='--', alpha=0.6)\n",
        "plt.legend(fontsize=12)\n",
        "plt.tight_layout()\n",
        "\n",
        "# Mostrar gráfica\n",
        "plt.show()"
      ],
      "metadata": {
        "colab": {
          "base_uri": "https://localhost:8080/",
          "height": 607
        },
        "id": "IEUqRqpuLAbL",
        "outputId": "7ac81450-99f3-464e-d5af-86a5d8dfe674"
      },
      "execution_count": 12,
      "outputs": [
        {
          "output_type": "display_data",
          "data": {
            "text/plain": [
              "<Figure size 1000x600 with 1 Axes>"
            ],
            "image/png": "[encoded data removed]"
          },
          "metadata": {}
        }
      ]
    },
    {
      "cell_type": "code",
      "source": [
        "interaction_array_norm"
      ],
      "metadata": {
        "id": "tqRtUE1dWJfe"
      },
      "execution_count": null,
      "outputs": []
    },
    {
      "cell_type": "code",
      "source": [
        "# Reconstrucción de la matriz de interacción\n",
        "reconstructed_matrix = autoencoder.predict(interaction_array_norm)\n",
        "\n",
        "# Crear un DataFrame para las calificaciones reconstruidas\n",
        "reconstructed_df = pd.DataFrame(\n",
        "    reconstructed_matrix,\n",
        "    index=interaction_matrix['business_id'],  # Usar business_id como índice\n",
        "    columns=business\n",
        ")\n",
        "\n",
        "# Renombrar el índice para evitar conflictos con columnas existentes\n",
        "reconstructed_df.index.name = \"original_business_id\"\n",
        "\n",
        "# Reiniciar el índice sin conflictos\n",
        "reconstructed_df = reconstructed_df.reset_index()\n",
        "reconstructed_df = reconstructed_df.rename(columns={\"original_business_id\" :  \"user_id\"})\n",
        "\n",
        "# Mostrar las primeras filas del DataFrame reconstruido\n",
        "reconstructed_df.head()\n"
      ],
      "metadata": {
        "id": "6kfs0pARUfM0"
      },
      "execution_count": null,
      "outputs": []
    },
    {
      "cell_type": "code",
      "source": [
        "# Convertir el DataFrame a formato largo\n",
        "original_format_df = reconstructed_df.melt(\n",
        "    id_vars=\"user_id\",       # Columna que permanece como identificador\n",
        "    var_name=\"business_id\",          # Nombre de la columna de variables\n",
        "    value_name=\"predicted_stars\" # Nombre de la columna de valores\n",
        ")\n",
        "\n",
        "original_format_df.head()"
      ],
      "metadata": {
        "colab": {
          "base_uri": "https://localhost:8080/",
          "height": 206
        },
        "id": "8j2U0QeXVN7g",
        "outputId": "bc253bbe-b3ee-4c53-8565-6cba0d6bc1cb"
      },
      "execution_count": 38,
      "outputs": [
        {
          "output_type": "execute_result",
          "data": {
            "text/plain": [
              "                  user_id             business_id  predicted_stars\n",
              "0  -0TffRSXXIlBYVbb5AwfTg  aFyEZ0Iv8ZaNHNULMPgOsw         0.662570\n",
              "1  -1B9pP_CrRBJYPICE5WbRA  aFyEZ0Iv8ZaNHNULMPgOsw         0.223307\n",
              "2  -1XSzguS6XLN-V6MVZMg2A  aFyEZ0Iv8ZaNHNULMPgOsw         0.006069\n",
              "3  -6JdVK-DHB4_43PEksbg1A  aFyEZ0Iv8ZaNHNULMPgOsw         0.000131\n",
              "4  -9NmUeTphyS9Lq1o9MACGw  aFyEZ0Iv8ZaNHNULMPgOsw         0.010586"
            ],
            "text/html": [
              "\n",
              "  <div id=\"df-0a5f51f9-2889-4b70-b711-7d70c8e1bac1\" class=\"colab-df-container\">\n",
              "    <div>\n",
              "<style scoped>\n",
              "    .dataframe tbody tr th:only-of-type {\n",
              "        vertical-align: middle;\n",
              "    }\n",
              "\n",
              "    .dataframe tbody tr th {\n",
              "        vertical-align: top;\n",
              "    }\n",
              "\n",
              "    .dataframe thead th {\n",
              "        text-align: right;\n",
              "    }\n",
              "</style>\n",
              "<table border=\"1\" class=\"dataframe\">\n",
              "  <thead>\n",
              "    <tr style=\"text-align: right;\">\n",
              "      <th></th>\n",
              "      <th>user_id</th>\n",
              "      <th>business_id</th>\n",
              "      <th>predicted_stars</th>\n",
              "    </tr>\n",
              "  </thead>\n",
              "  <tbody>\n",
              "    <tr>\n",
              "      <th>0</th>\n",
              "      <td>-0TffRSXXIlBYVbb5AwfTg</td>\n",
              "      <td>aFyEZ0Iv8ZaNHNULMPgOsw</td>\n",
              "      <td>0.662570</td>\n",
              "    </tr>\n",
              "    <tr>\n",
              "      <th>1</th>\n",
              "      <td>-1B9pP_CrRBJYPICE5WbRA</td>\n",
              "      <td>aFyEZ0Iv8ZaNHNULMPgOsw</td>\n",
              "      <td>0.223307</td>\n",
              "    </tr>\n",
              "    <tr>\n",
              "      <th>2</th>\n",
              "      <td>-1XSzguS6XLN-V6MVZMg2A</td>\n",
              "      <td>aFyEZ0Iv8ZaNHNULMPgOsw</td>\n",
              "      <td>0.006069</td>\n",
              "    </tr>\n",
              "    <tr>\n",
              "      <th>3</th>\n",
              "      <td>-6JdVK-DHB4_43PEksbg1A</td>\n",
              "      <td>aFyEZ0Iv8ZaNHNULMPgOsw</td>\n",
              "      <td>0.000131</td>\n",
              "    </tr>\n",
              "    <tr>\n",
              "      <th>4</th>\n",
              "      <td>-9NmUeTphyS9Lq1o9MACGw</td>\n",
              "      <td>aFyEZ0Iv8ZaNHNULMPgOsw</td>\n",
              "      <td>0.010586</td>\n",
              "    </tr>\n",
              "  </tbody>\n",
              "</table>\n",
              "</div>\n",
              "    <div class=\"colab-df-buttons\">\n",
              "\n",
              "  <div class=\"colab-df-container\">\n",
              "    <button class=\"colab-df-convert\" onclick=\"convertToInteractive('df-0a5f51f9-2889-4b70-b711-7d70c8e1bac1')\"\n",
              "            title=\"Convert this dataframe to an interactive table.\"\n",
              "            style=\"display:none;\">\n",
              "\n",
              "  <svg xmlns=\"http://www.w3.org/2000/svg\" height=\"24px\" viewBox=\"0 -960 960 960\">\n",
              "    <path d=\"M120-120v-720h720v720H120Zm60-500h600v-160H180v160Zm220 220h160v-160H400v160Zm0 220h160v-160H400v160ZM180-400h160v-160H180v160Zm440 0h160v-160H620v160ZM180-180h160v-160H180v160Zm440 0h160v-160H620v160Z\"/>\n",
              "  </svg>\n",
              "    </button>\n",
              "\n",
              "  <style>\n",
              "    .colab-df-container {\n",
              "      display:flex;\n",
              "      gap: 12px;\n",
              "    }\n",
              "\n",
              "    .colab-df-convert {\n",
              "      background-color: #E8F0FE;\n",
              "      border: none;\n",
              "      border-radius: 50%;\n",
              "      cursor: pointer;\n",
              "      display: none;\n",
              "      fill: #1967D2;\n",
              "      height: 32px;\n",
              "      padding: 0 0 0 0;\n",
              "      width: 32px;\n",
              "    }\n",
              "\n",
              "    .colab-df-convert:hover {\n",
              "      background-color: #E2EBFA;\n",
              "      box-shadow: 0px 1px 2px rgba(60, 64, 67, 0.3), 0px 1px 3px 1px rgba(60, 64, 67, 0.15);\n",
              "      fill: #174EA6;\n",
              "    }\n",
              "\n",
              "    .colab-df-buttons div {\n",
              "      margin-bottom: 4px;\n",
              "    }\n",
              "\n",
              "    [theme=dark] .colab-df-convert {\n",
              "      background-color: #3B4455;\n",
              "      fill: #D2E3FC;\n",
              "    }\n",
              "\n",
              "    [theme=dark] .colab-df-convert:hover {\n",
              "      background-color: #434B5C;\n",
              "      box-shadow: 0px 1px 3px 1px rgba(0, 0, 0, 0.15);\n",
              "      filter: drop-shadow(0px 1px 2px rgba(0, 0, 0, 0.3));\n",
              "      fill: #FFFFFF;\n",
              "    }\n",
              "  </style>\n",
              "\n",
              "    <script>\n",
              "      const buttonEl =\n",
              "        document.querySelector('#df-0a5f51f9-2889-4b70-b711-7d70c8e1bac1 button.colab-df-convert');\n",
              "      buttonEl.style.display =\n",
              "        google.colab.kernel.accessAllowed ? 'block' : 'none';\n",
              "\n",
              "      async function convertToInteractive(key) {\n",
              "        const element = document.querySelector('#df-0a5f51f9-2889-4b70-b711-7d70c8e1bac1');\n",
              "        const dataTable =\n",
              "          await google.colab.kernel.invokeFunction('convertToInteractive',\n",
              "                                                    [key], {});\n",
              "        if (!dataTable) return;\n",
              "\n",
              "        const docLinkHtml = 'Like what you see? Visit the ' +\n",
              "          '<a target=\"_blank\" href=https://colab.research.google.com/notebooks/data_table.ipynb>data table notebook</a>'\n",
              "          + ' to learn more about interactive tables.';\n",
              "        element.innerHTML = '';\n",
              "        dataTable['output_type'] = 'display_data';\n",
              "        await google.colab.output.renderOutput(dataTable, element);\n",
              "        const docLink = document.createElement('div');\n",
              "        docLink.innerHTML = docLinkHtml;\n",
              "        element.appendChild(docLink);\n",
              "      }\n",
              "    </script>\n",
              "  </div>\n",
              "\n",
              "\n",
              "<div id=\"df-0e6513e9-c9b2-4711-8779-6096663f6b6a\">\n",
              "  <button class=\"colab-df-quickchart\" onclick=\"quickchart('df-0e6513e9-c9b2-4711-8779-6096663f6b6a')\"\n",
              "            title=\"Suggest charts\"\n",
              "            style=\"display:none;\">\n",
              "\n",
              "<svg xmlns=\"http://www.w3.org/2000/svg\" height=\"24px\"viewBox=\"0 0 24 24\"\n",
              "     width=\"24px\">\n",
              "    <g>\n",
              "        <path d=\"M19 3H5c-1.1 0-2 .9-2 2v14c0 1.1.9 2 2 2h14c1.1 0 2-.9 2-2V5c0-1.1-.9-2-2-2zM9 17H7v-7h2v7zm4 0h-2V7h2v10zm4 0h-2v-4h2v4z\"/>\n",
              "    </g>\n",
              "</svg>\n",
              "  </button>\n",
              "\n",
              "<style>\n",
              "  .colab-df-quickchart {\n",
              "      --bg-color: #E8F0FE;\n",
              "      --fill-color: #1967D2;\n",
              "      --hover-bg-color: #E2EBFA;\n",
              "      --hover-fill-color: #174EA6;\n",
              "      --disabled-fill-color: #AAA;\n",
              "      --disabled-bg-color: #DDD;\n",
              "  }\n",
              "\n",
              "  [theme=dark] .colab-df-quickchart {\n",
              "      --bg-color: #3B4455;\n",
              "      --fill-color: #D2E3FC;\n",
              "      --hover-bg-color: #434B5C;\n",
              "      --hover-fill-color: #FFFFFF;\n",
              "      --disabled-bg-color: #3B4455;\n",
              "      --disabled-fill-color: #666;\n",
              "  }\n",
              "\n",
              "  .colab-df-quickchart {\n",
              "    background-color: var(--bg-color);\n",
              "    border: none;\n",
              "    border-radius: 50%;\n",
              "    cursor: pointer;\n",
              "    display: none;\n",
              "    fill: var(--fill-color);\n",
              "    height: 32px;\n",
              "    padding: 0;\n",
              "    width: 32px;\n",
              "  }\n",
              "\n",
              "  .colab-df-quickchart:hover {\n",
              "    background-color: var(--hover-bg-color);\n",
              "    box-shadow: 0 1px 2px rgba(60, 64, 67, 0.3), 0 1px 3px 1px rgba(60, 64, 67, 0.15);\n",
              "    fill: var(--button-hover-fill-color);\n",
              "  }\n",
              "\n",
              "  .colab-df-quickchart-complete:disabled,\n",
              "  .colab-df-quickchart-complete:disabled:hover {\n",
              "    background-color: var(--disabled-bg-color);\n",
              "    fill: var(--disabled-fill-color);\n",
              "    box-shadow: none;\n",
              "  }\n",
              "\n",
              "  .colab-df-spinner {\n",
              "    border: 2px solid var(--fill-color);\n",
              "    border-color: transparent;\n",
              "    border-bottom-color: var(--fill-color);\n",
              "    animation:\n",
              "      spin 1s steps(1) infinite;\n",
              "  }\n",
              "\n",
              "  @keyframes spin {\n",
              "    0% {\n",
              "      border-color: transparent;\n",
              "      border-bottom-color: var(--fill-color);\n",
              "      border-left-color: var(--fill-color);\n",
              "    }\n",
              "    20% {\n",
              "      border-color: transparent;\n",
              "      border-left-color: var(--fill-color);\n",
              "      border-top-color: var(--fill-color);\n",
              "    }\n",
              "    30% {\n",
              "      border-color: transparent;\n",
              "      border-left-color: var(--fill-color);\n",
              "      border-top-color: var(--fill-color);\n",
              "      border-right-color: var(--fill-color);\n",
              "    }\n",
              "    40% {\n",
              "      border-color: transparent;\n",
              "      border-right-color: var(--fill-color);\n",
              "      border-top-color: var(--fill-color);\n",
              "    }\n",
              "    60% {\n",
              "      border-color: transparent;\n",
              "      border-right-color: var(--fill-color);\n",
              "    }\n",
              "    80% {\n",
              "      border-color: transparent;\n",
              "      border-right-color: var(--fill-color);\n",
              "      border-bottom-color: var(--fill-color);\n",
              "    }\n",
              "    90% {\n",
              "      border-color: transparent;\n",
              "      border-bottom-color: var(--fill-color);\n",
              "    }\n",
              "  }\n",
              "</style>\n",
              "\n",
              "  <script>\n",
              "    async function quickchart(key) {\n",
              "      const quickchartButtonEl =\n",
              "        document.querySelector('#' + key + ' button');\n",
              "      quickchartButtonEl.disabled = true;  // To prevent multiple clicks.\n",
              "      quickchartButtonEl.classList.add('colab-df-spinner');\n",
              "      try {\n",
              "        const charts = await google.colab.kernel.invokeFunction(\n",
              "            'suggestCharts', [key], {});\n",
              "      } catch (error) {\n",
              "        console.error('Error during call to suggestCharts:', error);\n",
              "      }\n",
              "      quickchartButtonEl.classList.remove('colab-df-spinner');\n",
              "      quickchartButtonEl.classList.add('colab-df-quickchart-complete');\n",
              "    }\n",
              "    (() => {\n",
              "      let quickchartButtonEl =\n",
              "        document.querySelector('#df-0e6513e9-c9b2-4711-8779-6096663f6b6a button');\n",
              "      quickchartButtonEl.style.display =\n",
              "        google.colab.kernel.accessAllowed ? 'block' : 'none';\n",
              "    })();\n",
              "  </script>\n",
              "</div>\n",
              "\n",
              "    </div>\n",
              "  </div>\n"
            ],
            "application/vnd.google.colaboratory.intrinsic+json": {
              "type": "dataframe",
              "variable_name": "original_format_df"
            }
          },
          "metadata": {},
          "execution_count": 38
        }
      ]
    },
    {
      "cell_type": "code",
      "source": [
        "# Crear la columna de recomendación\n",
        "original_format_df['rank'] = original_format_df.groupby('user_id')['predicted_stars'].rank(method='first', ascending=False)\n",
        "\n",
        "# Generar la columna 'recommendation' indicando si la canción está entre las 10 mejores predicciones\n",
        "original_format_df['recommendation'] = original_format_df['rank'] <= 10  # True si está en el top 10, False en caso contrario"
      ],
      "metadata": {
        "id": "xa7-zdJIYkbU"
      },
      "execution_count": 40,
      "outputs": []
    },
    {
      "cell_type": "code",
      "source": [
        "recommendations = original_format_df[original_format_df.recommendation == True].sort_values('user_id')\n",
        "recommendations.head(20)"
      ],
      "metadata": {
        "id": "QgTgDfAqYpd1"
      },
      "execution_count": null,
      "outputs": []
    },
    {
      "cell_type": "markdown",
      "source": [
        "### **Diversidad de las recomendaciones**\n",
        "\n",
        "La diversidad de recomendación mide qué tan variadas son las recomendaciones para los usuarios en relación con el catálogo de productos."
      ],
      "metadata": {
        "id": "yb_tO5sBZLVF"
      }
    },
    {
      "cell_type": "code",
      "source": [
        "len(recommendations.business_id.drop_duplicates())/len(original_format_df.business_id.drop_duplicates())"
      ],
      "metadata": {
        "colab": {
          "base_uri": "https://localhost:8080/"
        },
        "id": "Ke0nNYXDZOSK",
        "outputId": "2c06ac9a-849d-4daf-9256-e1b25fc1ad19"
      },
      "execution_count": 52,
      "outputs": [
        {
          "output_type": "execute_result",
          "data": {
            "text/plain": [
              "0.6064638783269962"
            ]
          },
          "metadata": {},
          "execution_count": 52
        }
      ]
    },
    {
      "cell_type": "markdown",
      "source": [
        "Un valor del 60% indica que tus recomendaciones cubren el 60% del catálogo total."
      ],
      "metadata": {
        "id": "nWgxH8BvaFgm"
      }
    },
    {
      "cell_type": "markdown",
      "source": [
        "**Diversidad baja (<30%):**\n",
        "Los productos recomendados se concentran en una pequeña parte del catálogo.\n",
        "Beneficia a productos populares pero puede ignorar nichos y reducir la personalización.\n",
        "\n",
        "**Diversidad alta (>80%):**\n",
        "Aumenta la visibilidad del catálogo completo.\n",
        "Puede comprometer la relevancia de las recomendaciones al incluir productos con poca afinidad con los usuarios."
      ],
      "metadata": {
        "id": "gHItAOwYaOQA"
      }
    },
    {
      "cell_type": "markdown",
      "source": [
        "Recomendar el 60% del catálogo es positivo porque evita el \"sesgo de concentración\", donde solo unos pocos productos dominan las recomendaciones.\n",
        "Esto permite que más productos sean visibles para los usuarios."
      ],
      "metadata": {
        "id": "-NwXKtloaKbv"
      }
    },
    {
      "cell_type": "markdown",
      "source": [
        "### **Conclusión**\n",
        "\n",
        "En este laboratorio, implementamos un sistema de recomendación basado en autoencoders. El modelo es capaz de comprimir y reconstruir información de la matriz de interacción, destacando su utilidad en sistemas con alta dimensionalidad. Ajustes adicionales podrían incluir la optimización de hiperparámetros o el uso de regularización para mejorar el desempeño."
      ],
      "metadata": {
        "id": "YDhFdYzQS7Db"
      }
    },
    {
      "cell_type": "markdown",
      "source": [
        "---\n",
        "## Gracias por completar este laboratorio!"
      ],
      "metadata": {
        "id": "jYJNWsqSTEPx"
      }
    }
  ]
}