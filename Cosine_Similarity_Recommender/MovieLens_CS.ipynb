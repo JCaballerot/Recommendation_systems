{
  "nbformat": 4,
  "nbformat_minor": 0,
  "metadata": {
    "colab": {
      "provenance": [],
      "machine_shape": "hm",
      "authorship_tag": "ABX9TyPVJkfwVdsqzsEL0sjS4d70",
      "include_colab_link": true
    },
    "kernelspec": {
      "name": "python3",
      "display_name": "Python 3"
    },
    "language_info": {
      "name": "python"
    }
  },
  "cells": [
    {
      "cell_type": "markdown",
      "metadata": {
        "id": "view-in-github",
        "colab_type": "text"
      },
      "source": [
        "<a href=\"https://colab.research.google.com/github/JCaballerot/Recommender_Systems/blob/main/Cosine_Similarity_Recommender/MovieLens_CS.ipynb\" target=\"_parent\"><img src=\"https://colab.research.google.com/assets/colab-badge.svg\" alt=\"Open In Colab\"/></a>"
      ]
    },
    {
      "cell_type": "markdown",
      "source": [
        "\n",
        "<h1 align=center><font size = 5> Cosine similarity Recommender</font></h1>\n",
        "\n",
        "---"
      ],
      "metadata": {
        "id": "xojo8Uolpezq"
      }
    },
    {
      "cell_type": "markdown",
      "source": [
        "<center>\n",
        "  <img src=\"https://bobliu.io/assets/img/cards.509a5045.jpg\" width=\"800\" height=\"300\">\n",
        "</center>\n"
      ],
      "metadata": {
        "id": "N8k0D4hUpQtd"
      }
    },
    {
      "cell_type": "markdown",
      "source": [
        "## Objetivo de este Notebook\n",
        "\n",
        "1. Cargar y preprocesar un Dataset.\n",
        "2. Realizar un sistema de recomendación basado en Cosine Similarity.\n",
        "3. Comprobar el performance del sistema."
      ],
      "metadata": {
        "id": "8FbV_eL8qMhx"
      }
    },
    {
      "cell_type": "markdown",
      "source": [
        "## Tabla de Contenidos\n",
        "\n",
        "<div class=\"alert alert-block alert-info\" style=\"margin-top: 20px\">\n",
        "\n",
        "<font size = 3>\n",
        "    \n",
        "1. <a href=\"#item31\">Contexto</a>  \n",
        "2. <a href=\"#item32\">Descargar y preparar el Dataset</a>  \n",
        "6. <a href=\"#item34\">Entrenamiento del modelo</a>  \n",
        "6. <a href=\"#item34\">Validación del modelo</a>  \n",
        "\n",
        "</font>\n",
        "</div>"
      ],
      "metadata": {
        "id": "fwc_GHBnvBdo"
      }
    },
    {
      "cell_type": "markdown",
      "source": [
        "## 1. Contexto"
      ],
      "metadata": {
        "id": "1ClPvzs6qk8D"
      }
    },
    {
      "cell_type": "markdown",
      "source": [
        "\n",
        "El conjunto de datos MovieLens es uno de los conjuntos de datos de recomendación más populares y ampliamente utilizados en la investigación de sistemas de recomendación. Fue creado por el GroupLens Research Project en la Universidad de Minnesota para impulsar la investigación en sistemas de recomendación, proporcionando un recurso valioso para la comunidad académica y promoviendo el desarrollo y la comprensión de tecnologías de recomendación personalizada.\n"
      ],
      "metadata": {
        "id": "wOY_1u5Bq6Kz"
      }
    },
    {
      "cell_type": "markdown",
      "source": [
        "<b>Descripción de datos</b>\n",
        "\n",
        "El conjunto de datos MovieLens contiene información sobre:\n",
        "\n",
        "<b>Películas:</b> Detalles sobre las películas, incluyendo su título, género y año de lanzamiento.\n",
        "\n",
        "<b>Usuarios:</b> Perfiles de los usuarios que han calificado y/o etiquetado las películas, incluyendo su ID y otros detalles demográficos opcionales.\n",
        "\n",
        "<b>Calificaciones:</b> Calificaciones numéricas que los usuarios asignan a las películas en una escala de 1 a 5.\n",
        "\n",
        "<b>Etiquetas:</b> Palabras clave o tags proporcionados por los usuarios para describir el contenido o la esencia de las películas.\n",
        "\n",
        "El conjunto de datos es ampliamente utilizado con fines académicos y de investigación, siendo una referencia en el diseño y evaluación de sistemas de recomendación de películas. También es útil para el análisis de tendencias y comportamientos en la visualización de películas y la interacción del usuario con el contenido.\n",
        "\n",
        "<strong>Puede consultar este [link](https://grouplens.org/datasets/movielens/) para leer más sobre la fuente de datos MovieLens proporcionada por GroupLens Research en la Universidad de Minnesota.</strong>"
      ],
      "metadata": {
        "id": "uiYshhXFrHiC"
      }
    },
    {
      "cell_type": "markdown",
      "source": [
        "## 2. Descargar y preparar Dataset"
      ],
      "metadata": {
        "id": "6XVvIx3sr_Q0"
      }
    },
    {
      "cell_type": "code",
      "source": [
        "# Download Book-Crossing Dataset\n",
        "!curl -o dataset.zip \"https://files.grouplens.org/datasets/movielens/ml-latest-small.zip\"\n",
        "!unzip dataset.zip\n",
        "!ls -la"
      ],
      "metadata": {
        "id": "rsPg7ZwxfHE4"
      },
      "execution_count": null,
      "outputs": []
    },
    {
      "cell_type": "code",
      "execution_count": null,
      "metadata": {
        "id": "sPs_w8bcU1bm"
      },
      "outputs": [],
      "source": [
        "# Principales librerías\n",
        "import pandas as pd\n",
        "import numpy as np\n",
        "\n",
        "import seaborn as sns\n",
        "import matplotlib.pyplot as plt\n",
        "\n",
        "import warnings\n",
        "warnings.filterwarnings(\"ignore\") # Turn off warnings\n"
      ]
    },
    {
      "cell_type": "code",
      "source": [
        "links   = pd.read_csv(\"ml-latest-small/links.csv\")\n",
        "movies  = pd.read_csv(\"ml-latest-small/movies.csv\")\n",
        "ratings = pd.read_csv(\"ml-latest-small/ratings.csv\")\n",
        "tags    = pd.read_csv(\"ml-latest-small/tags.csv\")\n"
      ],
      "metadata": {
        "id": "w0HCRfqUXp9J"
      },
      "execution_count": null,
      "outputs": []
    },
    {
      "cell_type": "code",
      "source": [
        "links.head()"
      ],
      "metadata": {
        "id": "ofXHH-qra7xZ"
      },
      "execution_count": null,
      "outputs": []
    },
    {
      "cell_type": "code",
      "source": [
        "movies.head()"
      ],
      "metadata": {
        "id": "oV10YeKpbCJ2"
      },
      "execution_count": null,
      "outputs": []
    },
    {
      "cell_type": "code",
      "source": [
        "ratings.head()"
      ],
      "metadata": {
        "id": "HwBd4qRTbLrq"
      },
      "execution_count": null,
      "outputs": []
    },
    {
      "cell_type": "code",
      "source": [
        "tags.head()"
      ],
      "metadata": {
        "id": "qWbXjVaHCZlG"
      },
      "execution_count": null,
      "outputs": []
    },
    {
      "cell_type": "code",
      "source": [
        "print(\"  Movies: {} \\n  Ratings: {}\".format(len(movies), len(ratings)))\n"
      ],
      "metadata": {
        "id": "otyfiUUlbRhj"
      },
      "execution_count": null,
      "outputs": []
    },
    {
      "cell_type": "code",
      "source": [
        "# Fusiona ambos datasets basados en la columna 'movieId'\n",
        "data = pd.merge(ratings, movies, on='movieId')"
      ],
      "metadata": {
        "id": "aC0ZwEh8XE7L"
      },
      "execution_count": null,
      "outputs": []
    },
    {
      "cell_type": "code",
      "source": [
        "movie_titles = data['title'].unique().tolist()\n",
        "movie_ids = data['movieId'].unique().tolist()\n"
      ],
      "metadata": {
        "id": "XYIdWvr7alE8"
      },
      "execution_count": null,
      "outputs": []
    },
    {
      "cell_type": "markdown",
      "source": [
        "### 2.1. Data de usuarios"
      ],
      "metadata": {
        "id": "zb9J_YnLbzf5"
      }
    },
    {
      "cell_type": "code",
      "source": [
        "# Crear matriz pivotada de usuarios y películas\n",
        "user_movie_rating = data.pivot_table(index='userId', columns='title', values='rating').fillna(0)\n"
      ],
      "metadata": {
        "id": "g8Iium9Mbf9P"
      },
      "execution_count": null,
      "outputs": []
    },
    {
      "cell_type": "code",
      "source": [
        "# Convertir la matriz pivotada en un DataFrame y dividir en train y test\n",
        "ratings_df = user_movie_rating.stack().reset_index(name='rating')\n",
        "train_data, test_data = train_test_split(ratings_df, test_size=0.2, random_state=42)\n"
      ],
      "metadata": {
        "id": "HBKbEjiYTh8l"
      },
      "execution_count": null,
      "outputs": []
    },
    {
      "cell_type": "code",
      "source": [
        "# Volver a crear matrices pivotadas para entrenamiento y prueba\n",
        "train_data_matrix = train_data.pivot_table(index='userId', columns='title', values='rating').fillna(0)\n",
        "test_data_matrix = test_data.pivot_table(index='userId', columns='title', values='rating').fillna(0)"
      ],
      "metadata": {
        "id": "RDijWNyaX1sB"
      },
      "execution_count": null,
      "outputs": []
    },
    {
      "cell_type": "code",
      "source": [
        "# Calcular la similaridad de coseno entre películas en el conjunto de entrenamiento\n",
        "movie_similarity = cosine_similarity(train_data_matrix.T)\n",
        "\n",
        "def predict(ratings, similarity):\n",
        "    return ratings.dot(similarity) / np.array([np.abs(similarity).sum(axis=1)])\n"
      ],
      "metadata": {
        "id": "yproYXMtNOeP"
      },
      "execution_count": null,
      "outputs": []
    },
    {
      "cell_type": "code",
      "source": [
        "item_prediction = predict(train_data_matrix.values, movie_similarity)\n"
      ],
      "metadata": {
        "id": "GK3ODTLEQLkQ"
      },
      "execution_count": null,
      "outputs": []
    },
    {
      "cell_type": "code",
      "source": [
        "len(movie_ids)"
      ],
      "metadata": {
        "id": "_J6CrYgrcsm9"
      },
      "execution_count": null,
      "outputs": []
    },
    {
      "cell_type": "code",
      "source": [
        "%%capture\n",
        "!pip install adjustText"
      ],
      "metadata": {
        "id": "LSbx0KQcdmQG"
      },
      "execution_count": null,
      "outputs": []
    },
    {
      "cell_type": "code",
      "source": [
        "from sklearn.decomposition import PCA\n",
        "from adjustText import adjust_text\n",
        "\n",
        "# Aplicar PCA\n",
        "pca = PCA(n_components=2)\n",
        "movie_pca = pca.fit_transform(movie_similarity)\n",
        "\n",
        "# Obtener las 30 películas más vistas\n",
        "movie_view_counts = data.groupby('title').size().reset_index(name='view_count')\n",
        "top_30_movies = movie_view_counts.sort_values('view_count', ascending=False).head(30)\n",
        "top_movie_indices = [movie_titles.index(title) for title in top_30_movies['title']]\n",
        "top_movie_pca = movie_pca[top_movie_indices]\n",
        "top_movie_titles = [movie_titles[i] for i in top_movie_indices]\n",
        "\n",
        "# Graficar las 30 películas más vistas usando PCA\n",
        "plt.figure(figsize=(20, 10))\n",
        "plt.scatter(top_movie_pca[:, 0], top_movie_pca[:, 1], s=50)\n",
        "\n",
        "texts = []\n",
        "for i in range(30):\n",
        "    texts.append(plt.text(top_movie_pca[i, 0], top_movie_pca[i, 1], top_movie_titles[i], fontsize=7))\n",
        "\n",
        "# Evitar superposición de etiquetas\n",
        "adjust_text(texts, arrowprops=dict(arrowstyle='->', color='red'))\n",
        "\n",
        "plt.xlabel('PCA 1')\n",
        "plt.ylabel('PCA 2')\n",
        "plt.title('Visualización de la Similaridad de las 30 Películas Más Vistas usando PCA')\n",
        "plt.show()"
      ],
      "metadata": {
        "id": "QX8OkFX1aOW8"
      },
      "execution_count": null,
      "outputs": []
    },
    {
      "cell_type": "code",
      "source": [
        "from sklearn.manifold import TSNE\n",
        "from adjustText import adjust_text\n",
        "\n",
        "# Aplicar t-SNE\n",
        "tsne = TSNE(n_components=2, random_state=123)\n",
        "movie_tsne = tsne.fit_transform(movie_similarity)\n",
        "\n",
        "# Obtener las 30 películas más vistas\n",
        "movie_view_counts = data.groupby('title').size().reset_index(name='view_count')\n",
        "top_30_movies = movie_view_counts.sort_values('view_count', ascending=False).head(30)\n",
        "top_movie_indices = [movie_titles.index(title) for title in top_30_movies['title']]\n",
        "top_movie_tsne = movie_tsne[top_movie_indices]\n",
        "top_movie_titles = [movie_titles[i] for i in top_movie_indices]\n",
        "\n",
        "# Graficar las 30 películas más vistas usando t-SNE\n",
        "plt.figure(figsize=(20, 10))\n",
        "plt.scatter(top_movie_tsne[:, 0], top_movie_tsne[:, 1], s=50)\n",
        "\n",
        "texts = []\n",
        "for i in range(30):\n",
        "    texts.append(plt.text(top_movie_tsne[i, 0], top_movie_tsne[i, 1], top_movie_titles[i], fontsize=7))\n",
        "\n",
        "# Evitar superposición de etiquetas\n",
        "adjust_text(texts, arrowprops=dict(arrowstyle='->', color='red'))\n",
        "\n",
        "plt.xlabel('t-SNE 1')\n",
        "plt.ylabel('t-SNE 2')\n",
        "plt.title('Visualización de la Similaridad de las 30 Películas Más Vistas usando t-SNE')\n",
        "plt.show()"
      ],
      "metadata": {
        "id": "2ng8wai8aWQw"
      },
      "execution_count": null,
      "outputs": []
    },
    {
      "cell_type": "markdown",
      "source": [],
      "metadata": {
        "id": "BhGAo79HZ8aS"
      }
    },
    {
      "cell_type": "code",
      "source": [
        "def get_recommendations(user_id, cosine_sim, top_n=10):\n",
        "    # Suponiendo que movie_user_matrix es tu matriz de calificaciones\n",
        "    user_ratings = movie_user_matrix.loc[user_id, :]\n",
        "    # Calcula las puntuaciones similares a las calificaciones del usuario\n",
        "    sim_scores = movie_user_matrix.dot(user_ratings).div(movie_user_matrix.values.sum(axis=1))\n",
        "    # Obtiene las películas recomendadas\n",
        "    recommended_movies = sim_scores.sort_values(ascending=False).index[:top_n]\n",
        "    return recommended_movies"
      ],
      "metadata": {
        "id": "ILCPrjFLkejP"
      },
      "execution_count": null,
      "outputs": []
    },
    {
      "cell_type": "code",
      "source": [
        "def evaluate_user(user_id, data, cosine_sim, threshold=3.5):\n",
        "    recommended_items = get_recommendations(user_id, cosine_sim)\n",
        "    true_items = set(data[data['userId'] == user_id]['movieID'])\n",
        "    relevant_items = set(data[(data['userId'] == user_id) & (data['rating'] >= threshold)]['movieID'])\n",
        "\n",
        "    hits = set(recommended_items).intersection(true_items)\n",
        "\n",
        "    return hits, recommended_items, relevant_items"
      ],
      "metadata": {
        "id": "W2Fl85hTkno3"
      },
      "execution_count": null,
      "outputs": []
    },
    {
      "cell_type": "code",
      "source": [
        "def evaluate_metrics(data, cosine_sim, threshold=3.5):\n",
        "    hit_count = 0\n",
        "    total_recommendations = 0\n",
        "    total_relevant_items = 0\n",
        "    all_predicted = []\n",
        "    all_true = []\n",
        "\n",
        "    for user_id in data['userId'].unique():\n",
        "        hits, recommended_items, relevant_items = evaluate_user(user_id, data, cosine_sim, threshold)\n",
        "        hit_count += len(hits)\n",
        "        total_recommendations += len(recommended_items)\n",
        "        total_relevant_items += len(relevant_items)\n",
        "\n",
        "        all_predicted.extend([1 if item in recommended_items else 0 for item in relevant_items])\n",
        "        all_true.extend([1 if item in relevant_items else 0 for item in relevant_items])\n",
        "\n",
        "    hit_rate = hit_count / total_recommendations if total_recommendations != 0 else 0\n",
        "    precision = precision_score(all_true, all_predicted)\n",
        "    recall = recall_score(all_true, all_predicted)\n",
        "    f1 = f1_score(all_true, all_predicted)\n",
        "\n",
        "    return hit_rate, precision, recall, f1"
      ],
      "metadata": {
        "id": "IhFoma-HktYM"
      },
      "execution_count": null,
      "outputs": []
    },
    {
      "cell_type": "code",
      "source": [
        "train_metrics = evaluate_metrics(train_data, cosine_similarity)\n",
        "test_metrics = evaluate_metrics(test_data, cosine_similarity)\n",
        "\n",
        "metrics_df = pd.DataFrame({\n",
        "    'Metric': ['Hit Rate', 'Precision', 'Recall', 'F1 Score'],\n",
        "    'Train': train_metrics,\n",
        "    'Test': test_metrics\n",
        "})\n",
        "\n",
        "print(metrics_df)"
      ],
      "metadata": {
        "id": "8JPkNJS2QVp0"
      },
      "execution_count": null,
      "outputs": []
    },
    {
      "cell_type": "code",
      "source": [
        "print(train_data.columns)\n"
      ],
      "metadata": {
        "id": "iLIQAA49lWkg",
        "outputId": "c4803412-b30f-4807-fddd-358cb1241353",
        "colab": {
          "base_uri": "https://localhost:8080/"
        }
      },
      "execution_count": null,
      "outputs": [
        {
          "output_type": "stream",
          "name": "stdout",
          "text": [
            "Index(['userId', 'title', 'rating'], dtype='object')\n"
          ]
        }
      ]
    },
    {
      "cell_type": "markdown",
      "source": [
        "---\n",
        "## Gracias por completar este laboratorio!"
      ],
      "metadata": {
        "id": "Ou7U5hlgp5nz"
      }
    }
  ]
}