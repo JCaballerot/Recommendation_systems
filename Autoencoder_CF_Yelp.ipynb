{
  "nbformat": 4,
  "nbformat_minor": 0,
  "metadata": {
    "colab": {
      "provenance": [],
      "machine_shape": "hm",
      "authorship_tag": "ABX9TyMOL/qWzVANBuHLe56papcY",
      "include_colab_link": true
    },
    "kernelspec": {
      "name": "python3",
      "display_name": "Python 3"
    },
    "language_info": {
      "name": "python"
    }
  },
  "cells": [
    {
      "cell_type": "markdown",
      "metadata": {
        "id": "view-in-github",
        "colab_type": "text"
      },
      "source": [
        "<a href=\"https://colab.research.google.com/github/JCaballerot/Recommender-Systems/blob/main/Autoencoder_CF_Yelp.ipynb\" target=\"_parent\"><img src=\"https://colab.research.google.com/assets/colab-badge.svg\" alt=\"Open In Colab\"/></a>"
      ]
    },
    {
      "cell_type": "code",
      "source": [
        "import pandas as pd\n",
        "import numpy as np\n",
        "import tensorflow as tf\n",
        "import matplotlib.pyplot as plt\n",
        "from tensorflow.keras.models import Model\n",
        "from tensorflow.keras.layers import Input, Dense\n",
        "from tensorflow.keras.callbacks import EarlyStopping"
      ],
      "metadata": {
        "id": "EqePIf5VAuKJ"
      },
      "execution_count": 73,
      "outputs": []
    },
    {
      "cell_type": "code",
      "source": [
        "%%capture\n",
        "# Descargar el dataset de Last.fm desde Kaggle\n",
        "!pip install kaggle"
      ],
      "metadata": {
        "id": "RfUVX41rxwa4"
      },
      "execution_count": 1,
      "outputs": []
    },
    {
      "cell_type": "code",
      "source": [
        "\n",
        "from google.colab import files\n",
        "files.upload()  # Sube tu archivo kaggle.json aquí\n",
        "\n",
        "# Configurar Kaggle API\n",
        "!mkdir -p ~/.kaggle\n",
        "!mv kaggle.json ~/.kaggle/\n",
        "!chmod 600 ~/.kaggle/kaggle.json\n",
        "\n",
        "\n",
        "# Descargar otro dataset de Yelp\n",
        "!kaggle datasets download -d yelp-dataset/yelp-dataset\n",
        "\n",
        "# Descomprimir el archivo descargado\n",
        "!unzip yelp-dataset.zip\n"
      ],
      "metadata": {
        "colab": {
          "base_uri": "https://localhost:8080/",
          "height": 281
        },
        "id": "mcEqhB3yx40j",
        "outputId": "66a316ab-fd1a-47c6-95fd-1c53013853a4"
      },
      "execution_count": 2,
      "outputs": [
        {
          "output_type": "display_data",
          "data": {
            "text/plain": [
              "<IPython.core.display.HTML object>"
            ],
            "text/html": [
              "\n",
              "     <input type=\"file\" id=\"files-23d515bb-5e3d-43c9-a94f-212703fd885e\" name=\"files[]\" multiple disabled\n",
              "        style=\"border:none\" />\n",
              "     <output id=\"result-23d515bb-5e3d-43c9-a94f-212703fd885e\">\n",
              "      Upload widget is only available when the cell has been executed in the\n",
              "      current browser session. Please rerun this cell to enable.\n",
              "      </output>\n",
              "      <script>// Copyright 2017 Google LLC\n",
              "//\n",
              "// Licensed under the Apache License, Version 2.0 (the \"License\");\n",
              "// you may not use this file except in compliance with the License.\n",
              "// You may obtain a copy of the License at\n",
              "//\n",
              "//      http://www.apache.org/licenses/LICENSE-2.0\n",
              "//\n",
              "// Unless required by applicable law or agreed to in writing, software\n",
              "// distributed under the License is distributed on an \"AS IS\" BASIS,\n",
              "// WITHOUT WARRANTIES OR CONDITIONS OF ANY KIND, either express or implied.\n",
              "// See the License for the specific language governing permissions and\n",
              "// limitations under the License.\n",
              "\n",
              "/**\n",
              " * @fileoverview Helpers for google.colab Python module.\n",
              " */\n",
              "(function(scope) {\n",
              "function span(text, styleAttributes = {}) {\n",
              "  const element = document.createElement('span');\n",
              "  element.textContent = text;\n",
              "  for (const key of Object.keys(styleAttributes)) {\n",
              "    element.style[key] = styleAttributes[key];\n",
              "  }\n",
              "  return element;\n",
              "}\n",
              "\n",
              "// Max number of bytes which will be uploaded at a time.\n",
              "const MAX_PAYLOAD_SIZE = 100 * 1024;\n",
              "\n",
              "function _uploadFiles(inputId, outputId) {\n",
              "  const steps = uploadFilesStep(inputId, outputId);\n",
              "  const outputElement = document.getElementById(outputId);\n",
              "  // Cache steps on the outputElement to make it available for the next call\n",
              "  // to uploadFilesContinue from Python.\n",
              "  outputElement.steps = steps;\n",
              "\n",
              "  return _uploadFilesContinue(outputId);\n",
              "}\n",
              "\n",
              "// This is roughly an async generator (not supported in the browser yet),\n",
              "// where there are multiple asynchronous steps and the Python side is going\n",
              "// to poll for completion of each step.\n",
              "// This uses a Promise to block the python side on completion of each step,\n",
              "// then passes the result of the previous step as the input to the next step.\n",
              "function _uploadFilesContinue(outputId) {\n",
              "  const outputElement = document.getElementById(outputId);\n",
              "  const steps = outputElement.steps;\n",
              "\n",
              "  const next = steps.next(outputElement.lastPromiseValue);\n",
              "  return Promise.resolve(next.value.promise).then((value) => {\n",
              "    // Cache the last promise value to make it available to the next\n",
              "    // step of the generator.\n",
              "    outputElement.lastPromiseValue = value;\n",
              "    return next.value.response;\n",
              "  });\n",
              "}\n",
              "\n",
              "/**\n",
              " * Generator function which is called between each async step of the upload\n",
              " * process.\n",
              " * @param {string} inputId Element ID of the input file picker element.\n",
              " * @param {string} outputId Element ID of the output display.\n",
              " * @return {!Iterable<!Object>} Iterable of next steps.\n",
              " */\n",
              "function* uploadFilesStep(inputId, outputId) {\n",
              "  const inputElement = document.getElementById(inputId);\n",
              "  inputElement.disabled = false;\n",
              "\n",
              "  const outputElement = document.getElementById(outputId);\n",
              "  outputElement.innerHTML = '';\n",
              "\n",
              "  const pickedPromise = new Promise((resolve) => {\n",
              "    inputElement.addEventListener('change', (e) => {\n",
              "      resolve(e.target.files);\n",
              "    });\n",
              "  });\n",
              "\n",
              "  const cancel = document.createElement('button');\n",
              "  inputElement.parentElement.appendChild(cancel);\n",
              "  cancel.textContent = 'Cancel upload';\n",
              "  const cancelPromise = new Promise((resolve) => {\n",
              "    cancel.onclick = () => {\n",
              "      resolve(null);\n",
              "    };\n",
              "  });\n",
              "\n",
              "  // Wait for the user to pick the files.\n",
              "  const files = yield {\n",
              "    promise: Promise.race([pickedPromise, cancelPromise]),\n",
              "    response: {\n",
              "      action: 'starting',\n",
              "    }\n",
              "  };\n",
              "\n",
              "  cancel.remove();\n",
              "\n",
              "  // Disable the input element since further picks are not allowed.\n",
              "  inputElement.disabled = true;\n",
              "\n",
              "  if (!files) {\n",
              "    return {\n",
              "      response: {\n",
              "        action: 'complete',\n",
              "      }\n",
              "    };\n",
              "  }\n",
              "\n",
              "  for (const file of files) {\n",
              "    const li = document.createElement('li');\n",
              "    li.append(span(file.name, {fontWeight: 'bold'}));\n",
              "    li.append(span(\n",
              "        `(${file.type || 'n/a'}) - ${file.size} bytes, ` +\n",
              "        `last modified: ${\n",
              "            file.lastModifiedDate ? file.lastModifiedDate.toLocaleDateString() :\n",
              "                                    'n/a'} - `));\n",
              "    const percent = span('0% done');\n",
              "    li.appendChild(percent);\n",
              "\n",
              "    outputElement.appendChild(li);\n",
              "\n",
              "    const fileDataPromise = new Promise((resolve) => {\n",
              "      const reader = new FileReader();\n",
              "      reader.onload = (e) => {\n",
              "        resolve(e.target.result);\n",
              "      };\n",
              "      reader.readAsArrayBuffer(file);\n",
              "    });\n",
              "    // Wait for the data to be ready.\n",
              "    let fileData = yield {\n",
              "      promise: fileDataPromise,\n",
              "      response: {\n",
              "        action: 'continue',\n",
              "      }\n",
              "    };\n",
              "\n",
              "    // Use a chunked sending to avoid message size limits. See b/62115660.\n",
              "    let position = 0;\n",
              "    do {\n",
              "      const length = Math.min(fileData.byteLength - position, MAX_PAYLOAD_SIZE);\n",
              "      const chunk = new Uint8Array(fileData, position, length);\n",
              "      position += length;\n",
              "\n",
              "      const base64 = btoa(String.fromCharCode.apply(null, chunk));\n",
              "      yield {\n",
              "        response: {\n",
              "          action: 'append',\n",
              "          file: file.name,\n",
              "          data: base64,\n",
              "        },\n",
              "      };\n",
              "\n",
              "      let percentDone = fileData.byteLength === 0 ?\n",
              "          100 :\n",
              "          Math.round((position / fileData.byteLength) * 100);\n",
              "      percent.textContent = `${percentDone}% done`;\n",
              "\n",
              "    } while (position < fileData.byteLength);\n",
              "  }\n",
              "\n",
              "  // All done.\n",
              "  yield {\n",
              "    response: {\n",
              "      action: 'complete',\n",
              "    }\n",
              "  };\n",
              "}\n",
              "\n",
              "scope.google = scope.google || {};\n",
              "scope.google.colab = scope.google.colab || {};\n",
              "scope.google.colab._files = {\n",
              "  _uploadFiles,\n",
              "  _uploadFilesContinue,\n",
              "};\n",
              "})(self);\n",
              "</script> "
            ]
          },
          "metadata": {}
        },
        {
          "output_type": "stream",
          "name": "stdout",
          "text": [
            "Saving kaggle.json to kaggle.json\n",
            "Dataset URL: https://www.kaggle.com/datasets/yelp-dataset/yelp-dataset\n",
            "License(s): other\n",
            "Downloading yelp-dataset.zip to /content\n",
            "100% 4.06G/4.07G [00:19<00:00, 218MB/s]\n",
            "100% 4.07G/4.07G [00:19<00:00, 227MB/s]\n",
            "Archive:  yelp-dataset.zip\n",
            "  inflating: Dataset_User_Agreement.pdf  \n",
            "  inflating: yelp_academic_dataset_business.json  \n",
            "  inflating: yelp_academic_dataset_checkin.json  \n",
            "  inflating: yelp_academic_dataset_review.json  \n",
            "  inflating: yelp_academic_dataset_tip.json  \n",
            "  inflating: yelp_academic_dataset_user.json  \n"
          ]
        }
      ]
    },
    {
      "cell_type": "code",
      "source": [
        "import json\n",
        "import pandas as pd\n",
        "\n",
        "# Leer el archivo JSON\n",
        "file_path = \"yelp_academic_dataset_review.json\"\n",
        "ratings_data = []\n",
        "\n",
        "with open(file_path, 'r') as file:\n",
        "    for line in file:\n",
        "        ratings_data.append(json.loads(line))  # Decodificar cada línea como JSON\n",
        "\n",
        "# Convertir la lista de diccionarios en un DataFrame\n",
        "ratings_df = pd.DataFrame(ratings_data)\n",
        "\n",
        "# Mostrar las primeras filas del DataFrame\n",
        "ratings_df[['user_id', 'business_id', 'stars']].head()\n"
      ],
      "metadata": {
        "id": "5oevUWoV1O5S"
      },
      "execution_count": null,
      "outputs": []
    },
    {
      "cell_type": "code",
      "source": [
        "# Leer el archivo JSON\n",
        "file_path = \"yelp_academic_dataset_business.json\"\n",
        "ratings_data = []\n",
        "\n",
        "with open(file_path, 'r') as file:\n",
        "    for line in file:\n",
        "        ratings_data.append(json.loads(line))  # Decodificar cada línea como JSON\n",
        "\n",
        "# Convertir la lista de diccionarios en un DataFrame\n",
        "yelp_academic_dataset_business = pd.DataFrame(ratings_data)\n",
        "\n",
        "# Mostrar las primeras filas del DataFrame\n",
        "yelp_academic_dataset_business[['business_id', 'name']].head()\n"
      ],
      "metadata": {
        "id": "oNS4atMa2hpe"
      },
      "execution_count": null,
      "outputs": []
    },
    {
      "cell_type": "code",
      "source": [
        "ratings_df = ratings_df[['user_id', 'business_id', 'stars']]\n",
        "ratings_df.head()"
      ],
      "metadata": {
        "id": "OPHx0PtU-ve5"
      },
      "execution_count": null,
      "outputs": []
    },
    {
      "cell_type": "code",
      "source": [
        "business_id_counts = ratings_df.groupby('business_id').size().sort_values(ascending=False)\n"
      ],
      "metadata": {
        "id": "lYlwJzo4ANbo"
      },
      "execution_count": 35,
      "outputs": []
    },
    {
      "cell_type": "code",
      "source": [
        "# Visualizar distribución long tail\n",
        "plt.figure(figsize=(12, 6))\n",
        "plt.bar(range(len(business_id_counts)), business_id_counts, color='lightblue')\n",
        "plt.title('Distribución del Número de reviews por negocio (Long Tail)')\n",
        "plt.xlabel('Negocios ordenados por reviews')\n",
        "plt.ylabel('Número de reviews')\n",
        "plt.ylim(1, 1000)\n",
        "plt.show()\n"
      ],
      "metadata": {
        "id": "1a3BGjXsAei-"
      },
      "execution_count": null,
      "outputs": []
    },
    {
      "cell_type": "code",
      "source": [
        "# Filtrar artistas con al menos 500 reviews\n",
        "min_reviews_per_business = 500\n",
        "popular_business = business_id_counts[business_id_counts >= min_reviews_per_business].index\n",
        "ratings_df_filtered = ratings_df[ratings_df['business_id'].isin(popular_business)]\n"
      ],
      "metadata": {
        "id": "-YTDw0tnBUtq"
      },
      "execution_count": 36,
      "outputs": []
    },
    {
      "cell_type": "code",
      "source": [
        "# Filtrar usuarios con al menos 100 escuchas\n",
        "users_review_counts = ratings_df_filtered.groupby('user_id').size().sort_values(ascending=False)\n",
        "users_review_counts"
      ],
      "metadata": {
        "id": "KQTc2Aa2CVCN"
      },
      "execution_count": null,
      "outputs": []
    },
    {
      "cell_type": "code",
      "source": [
        "# Filtrar usuarios con al menos 500 reviews\n",
        "min_reviews_per_user = 50\n",
        "popular_users = users_review_counts[users_review_counts >= min_reviews_per_user].index\n",
        "ratings_df_filtered = ratings_df_filtered[ratings_df_filtered['user_id'].isin(popular_users)]\n"
      ],
      "metadata": {
        "id": "bmxXEMpcCiHC"
      },
      "execution_count": 38,
      "outputs": []
    },
    {
      "cell_type": "code",
      "source": [
        "ratings_df_filtered = ratings_df_filtered.groupby(['business_id', 'user_id'], as_index=False).agg({'stars': 'mean'})\n",
        "interaction_matrix = ratings_df_filtered.pivot(index='business_id', columns='user_id', values='stars').reset_index().fillna(0)\n",
        "interaction_matrix.head()"
      ],
      "metadata": {
        "id": "xWXwRQ9gDjCN"
      },
      "execution_count": null,
      "outputs": []
    },
    {
      "cell_type": "code",
      "source": [
        "\n",
        "# Convertir la matriz en un array de numpy\n",
        "business = list(set(interaction_matrix.columns.tolist()) - set('business_id'))\n",
        "\n",
        "interaction_matrix[business] = interaction_matrix[business].apply(pd.to_numeric, errors='coerce').fillna(0)\n",
        "interaction_array = interaction_matrix[business].values\n",
        "\n",
        "# Definir dimensiones\n",
        "num_items, num_users = interaction_array.shape\n",
        "input_dim = num_users  # Cada fila representa un negocio\n",
        "\n",
        "\n",
        "# Construcción del Autoencoder\n",
        "input_layer = Input(shape=(input_dim,))\n",
        "encoded = Dense(64, activation='sigmoid')(input_layer)  # Codificación a 64 neuronas\n",
        "encoded = Dense(32, activation='sigmoid')(encoded)      # Codificación a 32 neuronas\n",
        "\n",
        "decoded = Dense(64, activation='sigmoid')(encoded)      # Decodificación\n",
        "decoded = Dense(input_dim, activation='sigmoid')(decoded)  # Reconstrucción (usa sigmoid para valores entre 0 y 1)\n",
        "\n",
        "# Modelo Autoencoder\n",
        "autoencoder = Model(inputs=input_layer, outputs=decoded)\n",
        "\n",
        "# Compilación del modelo\n",
        "autoencoder.compile(optimizer='adam', loss='mean_squared_error')\n",
        "\n",
        "\n",
        "# Entrenamiento del modelo\n",
        "# Normalizar datos entre 0 y 1 si es necesario\n",
        "interaction_array_norm = (interaction_array / np.max(interaction_array))\n",
        "\n",
        "\n",
        "\n",
        "# Definir el callback de Early Stopping\n",
        "early_stopping = EarlyStopping(\n",
        "    monitor='val_loss',      # Monitorea la pérdida en el conjunto de validación\n",
        "    patience=10,             # Número de épocas sin mejora antes de detener el entrenamiento\n",
        "    restore_best_weights=True  # Restaura los mejores pesos al final del entrenamiento\n",
        ")\n",
        "\n",
        "\n",
        "# Entrenamiento del modelo con Early Stopping\n",
        "history = autoencoder.fit(\n",
        "    interaction_array_norm,\n",
        "    interaction_array_norm,  # Reconstrucción\n",
        "    epochs=500,\n",
        "    batch_size=32,\n",
        "    validation_split=0.2,\n",
        "    verbose=1,\n",
        "    callbacks=[early_stopping]  # Agregar el callback aquí\n",
        ")\n"
      ],
      "metadata": {
        "id": "UIoH6i6HEiyN"
      },
      "execution_count": null,
      "outputs": []
    },
    {
      "cell_type": "code",
      "source": [
        "import matplotlib.pyplot as plt\n",
        "\n",
        "# Graficar el desempeño de la red\n",
        "plt.figure(figsize=(10, 6))\n",
        "\n",
        "# Pérdida del entrenamiento\n",
        "plt.plot(history.history['loss'], label='Loss', marker='o')\n",
        "\n",
        "# Pérdida de validación (si está disponible)\n",
        "if 'val_loss' in history.history:\n",
        "    plt.plot(history.history['val_loss'], label='Validation Loss', marker='o')\n",
        "\n",
        "# Configuración de la gráfica\n",
        "plt.title('Model Training and Validation Loss', fontsize=16)\n",
        "plt.xlabel('Epochs', fontsize=14)\n",
        "plt.ylabel('Loss', fontsize=14)\n",
        "plt.grid(True, linestyle='--', alpha=0.6)\n",
        "plt.legend(fontsize=12)\n",
        "plt.tight_layout()\n",
        "\n",
        "# Mostrar gráfica\n",
        "plt.show()"
      ],
      "metadata": {
        "id": "IEUqRqpuLAbL"
      },
      "execution_count": null,
      "outputs": []
    }
  ]
}