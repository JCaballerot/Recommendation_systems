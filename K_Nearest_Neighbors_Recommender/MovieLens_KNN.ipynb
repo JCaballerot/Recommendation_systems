{
  "nbformat": 4,
  "nbformat_minor": 0,
  "metadata": {
    "colab": {
      "provenance": [],
      "authorship_tag": "ABX9TyPEcZhWYDtQq4jWtRv5QO7L",
      "include_colab_link": true
    },
    "kernelspec": {
      "name": "python3",
      "display_name": "Python 3"
    },
    "language_info": {
      "name": "python"
    }
  },
  "cells": [
    {
      "cell_type": "markdown",
      "metadata": {
        "id": "view-in-github",
        "colab_type": "text"
      },
      "source": [
        "<a href=\"https://colab.research.google.com/github/JCaballerot/Recommender_Systems/blob/main/K_Nearest_Neighbors_Recommender/MovieLens_KNN.ipynb\" target=\"_parent\"><img src=\"https://colab.research.google.com/assets/colab-badge.svg\" alt=\"Open In Colab\"/></a>"
      ]
    },
    {
      "cell_type": "markdown",
      "source": [
        "\n",
        "<h1 align=center><font size = 5> Collaborative Filtering con KNN en MovieLens</font></h1>\n",
        "\n",
        "---"
      ],
      "metadata": {
        "id": "HkuS_hs8H5tc"
      }
    },
    {
      "cell_type": "markdown",
      "source": [
        "**Índice**\n",
        "\n",
        "- 1. Introducción\n",
        "- 2. Configuración del Entorno\n",
        "- 3. Importación de Librerías\n",
        "- 4. Carga y Preparación de Datos\n",
        "- 5. Visualización de la Distribución Long Tail\n",
        "- 6. Filtrado de Datos\n",
        "- 7. Análisis de Usuarios Activos\n",
        "- 8. Creación de la Matriz Usuario-Ítem\n",
        "- 9. Enfoques de Filtrado Colaborativo\n",
        "- 10. Estrategias de División de Datos\n",
        "- 11. Construcción del Modelo KNN\n",
        "- 12. Evaluación del Modelo\n",
        "- 13. Análisis de Predicciones\n",
        "- 14. Evaluación de Recomendaciones\n",
        "- 15. Análisis de Diversidad\n",
        "- 16. Conclusiones"
      ],
      "metadata": {
        "id": "7y3vAd_IRJcF"
      }
    },
    {
      "cell_type": "markdown",
      "source": [
        "## 1. Introducción\n"
      ],
      "metadata": {
        "id": "I1CtNLfvRpBx"
      }
    },
    {
      "cell_type": "markdown",
      "source": [
        "En este laboratorio, implementaremos un sistema de Filtrado Colaborativo utilizando el algoritmo K-Nearest Neighbors (KNN) sobre el dataset MovieLens 1M. Exploraremos los datos, visualizaremos distribuciones, aplicaremos filtrados y evaluaremos el rendimiento del modelo."
      ],
      "metadata": {
        "id": "VUkW2U75Q7G6"
      }
    },
    {
      "cell_type": "markdown",
      "source": [
        "## 2. Configuración del Entorno\n"
      ],
      "metadata": {
        "id": "pOl4porTRuaN"
      }
    },
    {
      "cell_type": "markdown",
      "source": [
        "Primero, instalamos las librerías necesarias y descargamos el dataset.\n",
        "\n"
      ],
      "metadata": {
        "id": "Nrq1Yxi3RyAq"
      }
    },
    {
      "cell_type": "code",
      "execution_count": null,
      "metadata": {
        "id": "l7BT08wx_JgL"
      },
      "outputs": [],
      "source": [
        "# Instalar la librería scikit-surprise para algoritmos de filtrado colaborativo\n",
        "!pip install scikit-surprise"
      ]
    },
    {
      "cell_type": "code",
      "source": [
        "# Descargar el dataset MovieLens 1M\n",
        "!curl -o dataset.zip \"https://files.grouplens.org/datasets/movielens/ml-1m.zip\"\n",
        "!unzip dataset.zip\n",
        "!ls -la\n"
      ],
      "metadata": {
        "id": "ocbmHZUUMBKf"
      },
      "execution_count": null,
      "outputs": []
    },
    {
      "cell_type": "markdown",
      "source": [
        "## 3. Importación de Librerías\n"
      ],
      "metadata": {
        "id": "qAl4o2afR5uL"
      }
    },
    {
      "cell_type": "markdown",
      "source": [
        "Importamos las librerías que utilizaremos a lo largo del laboratorio.\n",
        "\n"
      ],
      "metadata": {
        "id": "W0szaJ03R7mh"
      }
    },
    {
      "cell_type": "code",
      "source": [
        "import pandas as pd\n",
        "import matplotlib.pyplot as plt\n"
      ],
      "metadata": {
        "id": "0_tqo2an71B1"
      },
      "execution_count": null,
      "outputs": []
    },
    {
      "cell_type": "markdown",
      "source": [
        "## 4. Carga y Preparación de Datos\n"
      ],
      "metadata": {
        "id": "ZFQzQzb3R-6g"
      }
    },
    {
      "cell_type": "markdown",
      "source": [
        "### 4.1 Carga de Datos\n",
        "\n",
        "Cargamos los datos de calificaciones y películas desde los archivos descargados."
      ],
      "metadata": {
        "id": "XMF5wGZESA9t"
      }
    },
    {
      "cell_type": "code",
      "source": [
        "# Cargar los datasets de calificaciones y películas\n",
        "ratings = pd.read_csv('ml-1m/ratings.dat', sep='::', header=None, engine='python',\n",
        "                      names=['userId', 'movieId', 'rating', 'timestamp'], encoding='latin-1')\n",
        "movies  = pd.read_csv('ml-1m/movies.dat', sep='::',  header=None, engine='python',\n",
        "                      names=['movieId', 'title', 'genres'], encoding='latin-1')\n"
      ],
      "metadata": {
        "id": "VjFjDqe-5fcK"
      },
      "execution_count": null,
      "outputs": []
    },
    {
      "cell_type": "markdown",
      "source": [
        "### 4.2 Unión de Datasets\n",
        "\n",
        "Combinamos los datasets para incluir los títulos de las películas en las calificaciones."
      ],
      "metadata": {
        "id": "x8qOkhaOSL-K"
      }
    },
    {
      "cell_type": "code",
      "source": [
        "# Unir los datasets en base a 'movieId' para agregar los títulos\n",
        "user_item_rating = pd.merge(ratings, movies[['movieId', 'title']], on='movieId')\n",
        "\n",
        "# Seleccionar solo las columnas necesarias\n",
        "user_item_rating = user_item_rating[['userId', 'title', 'rating']]\n",
        "\n",
        "# Ordenar los datos por 'userId'\n",
        "user_item_rating.sort_values(by='userId', inplace=True)\n",
        "\n",
        "# Mostrar las primeras filas para verificar\n",
        "user_item_rating.head()\n"
      ],
      "metadata": {
        "id": "PM88U9owSO6H"
      },
      "execution_count": null,
      "outputs": []
    },
    {
      "cell_type": "markdown",
      "source": [
        "#### 4.3 Exploración de Datos\n",
        "\n",
        "Verificamos las dimensiones y la cantidad de usuarios y películas únicas."
      ],
      "metadata": {
        "id": "RDRhUeepSQ19"
      }
    },
    {
      "cell_type": "code",
      "source": [
        "# Dimensiones del dataset\n",
        "print(f\"El dataset tiene {user_item_rating.shape[0]} calificaciones.\")\n"
      ],
      "metadata": {
        "id": "JnyZdqpaSVkn"
      },
      "execution_count": null,
      "outputs": []
    },
    {
      "cell_type": "code",
      "source": [
        "# Número de usuarios únicos\n",
        "num_users = ratings['userId'].nunique()\n",
        "print(f\"Hay {num_users} usuarios únicos.\")\n",
        "\n",
        "# Número de películas únicas\n",
        "num_movies = ratings['movieId'].nunique()\n",
        "print(f\"Hay {num_movies} películas únicas.\")\n"
      ],
      "metadata": {
        "id": "jVLQlOkKSWyb"
      },
      "execution_count": null,
      "outputs": []
    },
    {
      "cell_type": "markdown",
      "source": [
        "## 5. Visualización de la Distribución Long Tail\n"
      ],
      "metadata": {
        "id": "GwHM9ptSSZe2"
      }
    },
    {
      "cell_type": "markdown",
      "source": [
        "Analizamos cómo se distribuyen las calificaciones entre las películas.\n",
        "\n",
        "**Conteo de Calificaciones por Película**"
      ],
      "metadata": {
        "id": "J5ruticTSbZe"
      }
    },
    {
      "cell_type": "code",
      "source": [
        "# Contar cuántas veces ha sido calificada cada película\n",
        "item_rating_counts = user_item_rating['title'].value_counts()\n",
        "\n",
        "# Generar el gráfico de barras para visualizar el long tail\n",
        "plt.figure(figsize=(12, 4))\n",
        "plt.bar(range(len(item_rating_counts)), item_rating_counts, color='lightblue')\n",
        "plt.title('Distribución del Número de Calificaciones por Película (Long Tail)', fontsize=14)\n",
        "plt.xlabel('Películas ordenadas por popularidad', fontsize=12)\n",
        "plt.ylabel('Número de calificaciones', fontsize=12)\n",
        "plt.xticks([], [])\n",
        "plt.show()\n"
      ],
      "metadata": {
        "id": "q9BZ1dZVSXna"
      },
      "execution_count": null,
      "outputs": []
    },
    {
      "cell_type": "markdown",
      "source": [
        "Observamos que pocas películas tienen muchas calificaciones, mientras que la mayoría tiene pocas."
      ],
      "metadata": {
        "id": "ggix-bZpShMD"
      }
    },
    {
      "cell_type": "markdown",
      "source": [
        "## 6. Filtrado de Datos\n"
      ],
      "metadata": {
        "id": "bj-He-IjSja-"
      }
    },
    {
      "cell_type": "markdown",
      "source": [
        "Para mejorar el análisis, filtramos las películas con pocas calificaciones.\n",
        "\n"
      ],
      "metadata": {
        "id": "8LxtRVpxSmM4"
      }
    },
    {
      "cell_type": "markdown",
      "source": [
        "### 6.1 Filtrado por Número Mínimo de Calificaciones\n"
      ],
      "metadata": {
        "id": "Ks5PzYruSoA6"
      }
    },
    {
      "cell_type": "code",
      "source": [
        "# Establecer el mínimo de calificaciones por película\n",
        "min_ratings_per_movie = 5\n",
        "\n",
        "# Filtrar las películas con al menos min_ratings_per_movie calificaciones\n",
        "movie_counts = user_item_rating['title'].value_counts()\n",
        "popular_movies = movie_counts[movie_counts >= min_ratings_per_movie].index\n",
        "\n",
        "# Filtrar el dataset original\n",
        "filtered_data = user_item_rating[user_item_rating['title'].isin(popular_movies)]\n",
        "filtered_data.head()\n"
      ],
      "metadata": {
        "id": "LAM081DhSXkp"
      },
      "execution_count": null,
      "outputs": []
    },
    {
      "cell_type": "markdown",
      "source": [
        "### 6.2 Visualización Después del Filtrado\n"
      ],
      "metadata": {
        "id": "sNJDF-1DSrkl"
      }
    },
    {
      "cell_type": "markdown",
      "source": [
        "**Número de Películas Después del Filtrado**\n"
      ],
      "metadata": {
        "id": "31lRvXyKStg_"
      }
    },
    {
      "cell_type": "code",
      "source": [
        "# Número de películas únicas después del filtrado\n",
        "num_filtered_movies = filtered_data['title'].nunique()\n",
        "print(f\"Después del filtrado, hay {num_filtered_movies} películas.\")\n"
      ],
      "metadata": {
        "id": "P1pThPH6SXh_"
      },
      "execution_count": null,
      "outputs": []
    },
    {
      "cell_type": "markdown",
      "source": [
        "**Distribución Long Tail Después del Filtrado**"
      ],
      "metadata": {
        "id": "RQrtoSACSxNT"
      }
    },
    {
      "cell_type": "code",
      "source": [
        "# Contar calificaciones por película en datos filtrados\n",
        "filtered_movie_rating_counts = filtered_data['title'].value_counts()\n",
        "\n",
        "# Gráfico de barras para visualizar el long tail filtrado\n",
        "plt.figure(figsize=(10, 6))\n",
        "plt.bar(range(len(filtered_movie_rating_counts)), filtered_movie_rating_counts, color='lightblue')\n",
        "plt.title(f'Distribución de Calificaciones por Película (Long Tail)\\nPelículas con al menos {min_ratings_per_movie} calificaciones', fontsize=14)\n",
        "plt.xlabel('Películas ordenadas por popularidad', fontsize=12)\n",
        "plt.ylabel('Número de calificaciones', fontsize=12)\n",
        "plt.yscale('log')\n",
        "plt.xticks([], [])\n",
        "plt.show()\n"
      ],
      "metadata": {
        "id": "44CaGuy9SXf0"
      },
      "execution_count": null,
      "outputs": []
    },
    {
      "cell_type": "markdown",
      "source": [
        "** 7. Análisis de Usuarios Activos\n"
      ],
      "metadata": {
        "id": "9wFXCeHdS1tY"
      }
    },
    {
      "cell_type": "markdown",
      "source": [
        "Analizamos la actividad de los usuarios en el dataset filtrado.\n",
        "\n"
      ],
      "metadata": {
        "id": "ujcW_VPyS4cP"
      }
    },
    {
      "cell_type": "code",
      "source": [
        "# Contar cuántas películas ha calificado cada usuario\n",
        "user_rating_counts_filtered = filtered_data['userId'].value_counts()\n",
        "\n",
        "# Gráfico de barras para visualizar calificaciones por usuario\n",
        "plt.figure(figsize=(10, 6))\n",
        "plt.bar(range(len(user_rating_counts_filtered)), user_rating_counts_filtered, color='lightcoral')\n",
        "plt.title('Distribución del Número de Calificaciones por Usuario (Datos Filtrados)', fontsize=14)\n",
        "plt.xlabel('Usuarios ordenados por número de calificaciones', fontsize=12)\n",
        "plt.ylabel('Número de calificaciones', fontsize=12)\n",
        "plt.yscale('log')\n",
        "plt.xticks([], [])\n",
        "plt.show()\n"
      ],
      "metadata": {
        "id": "7N45rACTS4IG"
      },
      "execution_count": null,
      "outputs": []
    },
    {
      "cell_type": "markdown",
      "source": [
        "Usuarios altamente activos proporcionan más datos, mejoran la estabilidad y la diversidad del sistema, pero pueden sesgar las recomendaciones y reducir la personalización."
      ],
      "metadata": {
        "id": "DmBi_fNVS766"
      }
    },
    {
      "cell_type": "markdown",
      "source": [
        "## 8. Creación de la Matriz Usuario-Ítem\n"
      ],
      "metadata": {
        "id": "vhXmUmnMS9xb"
      }
    },
    {
      "cell_type": "markdown",
      "source": [
        "Construimos una matriz donde las filas son usuarios y las columnas son películas.\n",
        "\n"
      ],
      "metadata": {
        "id": "O8VK0sewTAg7"
      }
    },
    {
      "cell_type": "code",
      "source": [
        "# Crear la matriz usuario-ítem\n",
        "user_item_matrix = filtered_data.pivot_table(index='userId', columns='title', values='rating')\n",
        "\n",
        "# Ordenar los IDs de usuario por cantidad de calificaciones\n",
        "sorted_user_ids = user_rating_counts_filtered.index\n",
        "\n",
        "# Ordenar la matriz según usuarios más activos\n",
        "user_item_matrix_sorted = user_item_matrix.loc[sorted_user_ids]\n",
        "user_item_matrix_sorted.head()\n"
      ],
      "metadata": {
        "id": "0NwJjskuSzUp"
      },
      "execution_count": null,
      "outputs": []
    },
    {
      "cell_type": "markdown",
      "source": [
        "## 9. Enfoques de Filtrado Colaborativo"
      ],
      "metadata": {
        "id": "de2NMDo9TDjj"
      }
    },
    {
      "cell_type": "markdown",
      "source": [
        "### 9.1. User-User Collaborative Filtering:\n",
        "Este enfoque se basa en encontrar similitudes entre usuarios. La idea es que si dos usuarios tienen gustos similares, las películas que le gustaron a uno pueden ser recomendadas al otro.\n",
        "\n",
        "Funcionamiento:\n",
        "\n",
        "Calcula la similitud entre los usuarios según las películas que ambos han puntuado.\n",
        "Recomendaciones basadas en lo que los usuarios similares han visto y puntuado positivamente.\n",
        "Ventajas:\n",
        "\n",
        "Fácil de entender y aplicar en sistemas con muchos usuarios y relativamente pocos ítems.\n",
        "Captura bien las preferencias de los usuarios, especialmente cuando se dispone de suficientes datos de interacciones por usuario.\n",
        "Desventajas:\n",
        "\n",
        "Puede fallar en sistemas con muchos usuarios inactivos o nuevos usuarios (el problema de arranque en frío), ya que no hay suficientes datos para determinar las similitudes.\n",
        "Si hay pocos usuarios con intereses similares a un usuario específico, el modelo puede tener dificultades para generar recomendaciones relevantes.\n"
      ],
      "metadata": {
        "id": "j_DmUALyTFNh"
      }
    },
    {
      "cell_type": "markdown",
      "source": [
        "\n",
        "### 9.2. Item-Item Collaborative Filtering:\n",
        "Este enfoque se basa en encontrar similitudes entre ítems. En lugar de comparar usuarios, compara las películas (u otros ítems) que han sido puntuadas de forma similar por los usuarios.\n",
        "\n",
        "Funcionamiento:\n",
        "\n",
        "Calcula la similitud entre ítems en función de los usuarios que los han puntuado.\n",
        "Recomendaciones basadas en ítems similares a los que el usuario ha visto y puntuado positivamente.\n",
        "Ventajas:\n",
        "\n",
        "Escala mejor cuando el número de usuarios es mayor que el número de ítems, ya que los ítems tienden a ser más estáticos y estables en el tiempo.\n",
        "Captura bien las relaciones entre ítems, lo que es útil cuando los usuarios han visto pocos ítems pero esos ítems tienen similitudes con otros (útil en el caso del arranque en frío para nuevos usuarios).\n",
        "Desventajas:\n",
        "\n",
        "Requiere una buena cantidad de datos de interacciones entre usuarios e ítems para poder calcular las similitudes entre ítems de manera efectiva.\n",
        "Puede fallar cuando hay ítems muy únicos o de nicho, ya que estos no tendrán muchos puntos de comparación con otros ítems."
      ],
      "metadata": {
        "id": "RH3uhJ2_TXCr"
      }
    },
    {
      "cell_type": "markdown",
      "source": [
        "# Cuándo elegir cada enfoque:\n",
        "1. User-User Collaborative Filtering:\n",
        "Útil cuando tienes usuarios que han puntuado suficientes películas (o ítems) y hay patrones claros de comportamiento entre los usuarios.\n",
        "Adecuado si deseas hacer recomendaciones personalizadas basadas en lo que otros usuarios con gustos similares han visto.\n",
        "2. Item-Item Collaborative Filtering:\n",
        "Más útil cuando tienes un número significativo de ítems y prefieres basar las recomendaciones en ítems que son similares entre sí.\n",
        "Adecuado para casos donde los usuarios han puntuado menos ítems, pero quieres recomendar ítems basados en similitudes de características o preferencias generales."
      ],
      "metadata": {
        "id": "zZwsxLp9VPhr"
      }
    },
    {
      "cell_type": "markdown",
      "source": [
        "## 10. Estrategias de División de Datos\n"
      ],
      "metadata": {
        "id": "vOXRjebMTZHD"
      }
    },
    {
      "cell_type": "markdown",
      "source": [
        "Es importante cómo dividimos los datos en entrenamiento y prueba para evaluar el modelo adecuadamente."
      ],
      "metadata": {
        "id": "uUsvvdXCTbWW"
      }
    },
    {
      "cell_type": "markdown",
      "source": [
        "Existen varias estrategias para dividir los datos entre train y test en sistemas de recomendación, y la forma en que se \"enmascaran\" las preferencias de los usuarios puede tener un impacto importante en la evaluación y el rendimiento del modelo. El enfoque más común es enmascarar (ocultar) preferencias al azar de todos los clientes, pero hay otras estrategias que también pueden ser útiles, dependiendo del objetivo del sistema y los datos disponibles.\n",
        "\n",
        "### 10.1. Muestreo aleatorio (Random Holdout)\n",
        "Este es el enfoque más común y se basa en seleccionar interacciones (calificaciones, visualizaciones, etc.) de manera aleatoria para enmascararlas y moverlas al conjunto de prueba (test), mientras que el resto de las interacciones se usan para entrenar el modelo.\n",
        "\n",
        "Cómo funciona:\n",
        "\n",
        "Para cada usuario, se selecciona un porcentaje de sus interacciones al azar (por ejemplo, el 25%) para el conjunto de prueba.\n",
        "El modelo se entrena con el 75% restante y luego se evalúa prediciendo los valores en el 25% que se enmascaró.\n",
        "Ventajas:\n",
        "\n",
        "Es una técnica simple y funciona bien cuando las interacciones son suficientemente variadas y numerosas.\n",
        "Se utiliza mucho en K-fold cross-validation, donde se repite el proceso varias veces para obtener una evaluación robusta del modelo.\n",
        "Desventajas:\n",
        "\n",
        "Si hay usuarios que tienen muy pocas interacciones, enmascarar al azar puede llevar a que estos usuarios no tengan suficientes datos para el entrenamiento.\n",
        "\n",
        "### 10.2. Leave-N-Out (LNO)\n",
        "En este enfoque, para cada usuario, se deja una cantidad fija de ítems (N) en el conjunto de prueba, mientras que el resto se usa para entrenar el modelo. Es una estrategia útil cuando quieres garantizar que todos los usuarios tengan al menos algunas interacciones en ambos conjuntos (train y test).\n",
        "\n",
        "Cómo funciona:\n",
        "\n",
        "Para cada usuario, se selecciona un número fijo de ítems (por ejemplo, N = 1 o N = 2) para el conjunto de prueba, y el resto se utiliza en el conjunto de entrenamiento.\n",
        "El modelo se entrena en el resto de las interacciones y se evalúa en esas interacciones específicas que se dejaron fuera.\n",
        "Ventajas:\n",
        "\n",
        "Garantiza que todos los usuarios tengan al menos una interacción en el conjunto de entrenamiento.\n",
        "Útil para evitar que ciertos usuarios queden completamente fuera del conjunto de entrenamiento.\n",
        "Desventajas:\n",
        "\n",
        "Si el número de interacciones por usuario es pequeño, este enfoque puede no ser adecuado, ya que dejar solo una o dos interacciones fuera no genera un conjunto de prueba suficientemente robusto.\n",
        "\n",
        "### 10.3. Temporal Holdout (basado en tiempo)\n",
        "\n",
        "En este enfoque, las interacciones más recientes de cada usuario se mueven al conjunto de prueba, mientras que las interacciones anteriores se utilizan para el entrenamiento. Este enfoque es útil en situaciones donde el tiempo es un factor importante y refleja cómo se usan los sistemas de recomendación en el mundo real (las recomendaciones se basan en el comportamiento pasado para predecir comportamientos futuros).\n",
        "\n",
        "Cómo funciona:\n",
        "Para cada usuario, las últimas interacciones cronológicas se colocan en el conjunto de prueba, mientras que las interacciones anteriores se utilizan en el conjunto de entrenamiento.\n",
        "Ventajas:\n",
        "Refleja el comportamiento real del usuario en el tiempo, lo que lo hace muy útil para sistemas de recomendación donde el contexto temporal es importante (ej. música, películas, compras).\n",
        "Desventajas:\n",
        "Puede haber un sesgo hacia los ítems más recientes y puede no ser adecuado si las interacciones no tienen un patrón temporal claro.\n",
        "\n",
        "### 10.4. Cross-Validation (Validación Cruzada)\n",
        "Este enfoque no enmascara preferencias al azar para un conjunto de prueba estático, sino que crea varios subconjuntos de prueba a partir de los datos de entrenamiento para realizar múltiples evaluaciones y obtener un performance más robusto.\n",
        "\n",
        "Cómo funciona:\n",
        "\n",
        "Los datos se dividen en varios subconjuntos (por ejemplo, 5), y el modelo se entrena en todos menos uno de estos subconjuntos. El subconjunto que queda fuera actúa como conjunto de prueba.\n",
        "Este proceso se repite varias veces, cada vez con un subconjunto diferente como conjunto de prueba, y luego se promedian los resultados.\n",
        "Ventajas:\n",
        "\n",
        "Proporciona una evaluación más robusta del rendimiento, ya que evalúa el modelo en múltiples subconjuntos.\n",
        "Desventajas:\n",
        "\n",
        "Es computacionalmente más costoso, ya que implica entrenar y evaluar el modelo varias veces.\n"
      ],
      "metadata": {
        "id": "inKC-I95VcA4"
      }
    },
    {
      "cell_type": "markdown",
      "source": [
        "### 10.1 Muestreo Aleatorio (Random Holdout)\n",
        "\n"
      ],
      "metadata": {
        "id": "kfXsgjZOTf1J"
      }
    },
    {
      "cell_type": "markdown",
      "source": [
        "Dividimos las interacciones asegurando que cada usuario tenga al menos una interacción en el conjunto de entrenamiento."
      ],
      "metadata": {
        "id": "LhnkR5iWTivu"
      }
    },
    {
      "cell_type": "code",
      "source": [
        "def Random_Holdout(df, test_size=0.25):\n",
        "    \"\"\"Divide los datos asegurando que cada usuario tenga al menos una interacción en el conjunto de entrenamiento\"\"\"\n",
        "    # Seleccionar al azar un porcentaje de interacciones por usuario para entrenamiento\n",
        "    train_df = df.groupby('userId').apply(lambda x: x.sample(frac=1 - test_size, random_state=42)).reset_index(drop=True)\n",
        "    # El resto va al conjunto de prueba\n",
        "    test_df = pd.concat([df, train_df]).drop_duplicates(keep=False)\n",
        "\n",
        "    return train_df, test_df\n",
        "\n",
        "# Aplicar la función al dataset filtrado\n",
        "train_df, test_df = Random_Holdout(filtered_data, test_size=0.3)\n"
      ],
      "metadata": {
        "id": "rw11ISYiTiTc"
      },
      "execution_count": null,
      "outputs": []
    },
    {
      "cell_type": "markdown",
      "source": [
        "### 10.2 Verificación de la División\n"
      ],
      "metadata": {
        "id": "-YAmQh-bTl4H"
      }
    },
    {
      "cell_type": "markdown",
      "source": [
        "Verificamos que la división se haya realizado correctamente.\n",
        "\n"
      ],
      "metadata": {
        "id": "ai_gq0rBTn28"
      }
    },
    {
      "cell_type": "code",
      "source": [
        "# Calificaciones del usuario 324 en entrenamiento\n",
        "train_df[train_df.userId == 324].sort_values(by='rating', ascending=False).head()\n"
      ],
      "metadata": {
        "id": "WvTPykGbSXdN"
      },
      "execution_count": null,
      "outputs": []
    },
    {
      "cell_type": "code",
      "source": [
        "# Calificaciones del usuario 324 en prueba\n",
        "test_df[test_df.userId == 324].sort_values(by='rating', ascending=False).head()\n"
      ],
      "metadata": {
        "id": "roxpySX4SXal"
      },
      "execution_count": null,
      "outputs": []
    },
    {
      "cell_type": "markdown",
      "source": [
        "## 11. Construcción del Modelo KNN\n"
      ],
      "metadata": {
        "id": "omEzxFLiTr0y"
      }
    },
    {
      "cell_type": "markdown",
      "source": [
        "Utilizamos la librería surprise para implementar el modelo de filtrado colaborativo.\n",
        "\n"
      ],
      "metadata": {
        "id": "4Vib8en7TufY"
      }
    },
    {
      "cell_type": "markdown",
      "source": [
        "### 11.1 Preparación de Datos para Surprise\n",
        "\n",
        "Convertimos los datos al formato requerido por la librería."
      ],
      "metadata": {
        "id": "OFW6fFp9TxB8"
      }
    },
    {
      "cell_type": "code",
      "source": [
        "from surprise import Dataset, Reader, KNNBasic, accuracy\n",
        "\n",
        "# Definir el rango de calificaciones\n",
        "reader = Reader(rating_scale=(1, 5))\n",
        "\n",
        "# Cargar datos de entrenamiento\n",
        "trainset = Dataset.load_from_df(train_df[['userId', 'title', 'rating']], reader).build_full_trainset()\n",
        "\n",
        "# Crear conjunto de prueba\n",
        "testset = list(test_df[['userId', 'title', 'rating']].itertuples(index=False, name=None))\n"
      ],
      "metadata": {
        "id": "kWTnp7Z9SXYX"
      },
      "execution_count": null,
      "outputs": []
    },
    {
      "cell_type": "markdown",
      "source": [
        "### 11.2 Configuración y Entrenamiento del Modelo\n"
      ],
      "metadata": {
        "id": "VGTu_5H7TWnI"
      }
    },
    {
      "cell_type": "markdown",
      "source": [
        "Configuramos el modelo KNN y lo entrenamos con los datos de entrenamiento.\n",
        "\n"
      ],
      "metadata": {
        "id": "GC6pxMfBT4aF"
      }
    },
    {
      "cell_type": "code",
      "source": [
        "# Configurar opciones del modelo KNN\n",
        "sim_options = {\n",
        "    'name': 'msd',  # Mean Squared Difference (distancia euclidiana)\n",
        "    'user_based': True  # Filtrado Usuario-Usuario\n",
        "}\n",
        "\n",
        "# Crear el modelo KNN\n",
        "knn = KNNBasic(k=50, sim_options=sim_options)\n",
        "\n",
        "# Entrenar el modelo\n",
        "knn.fit(trainset)\n"
      ],
      "metadata": {
        "id": "2YULP-eCSXVU"
      },
      "execution_count": null,
      "outputs": []
    },
    {
      "cell_type": "markdown",
      "source": [
        "## 12. Evaluación del Modelo\n"
      ],
      "metadata": {
        "id": "Tq_iUC-mT8NU"
      }
    },
    {
      "cell_type": "markdown",
      "source": [
        "Realizamos predicciones y evaluamos el rendimiento del modelo.\n",
        "\n"
      ],
      "metadata": {
        "id": "dfmt8-qsT-Vk"
      }
    },
    {
      "cell_type": "markdown",
      "source": [
        "### 12.1 Cálculo del RMSE\n"
      ],
      "metadata": {
        "id": "JsF7ZGP3T_9T"
      }
    },
    {
      "cell_type": "code",
      "source": [
        "# Hacer predicciones sobre el conjunto de prueba\n",
        "predictions = knn.test(testset)\n",
        "\n",
        "# Calcular el RMSE\n",
        "rmse = accuracy.rmse(predictions)\n",
        "print(f\"RMSE del modelo: {rmse:.4f}\")\n"
      ],
      "metadata": {
        "id": "TNjnY4wwUCnC"
      },
      "execution_count": null,
      "outputs": []
    },
    {
      "cell_type": "markdown",
      "source": [
        "### 12.2 Ajuste de Hiperparámetros\n"
      ],
      "metadata": {
        "id": "ZItvds2FUESX"
      }
    },
    {
      "cell_type": "markdown",
      "source": [
        "Utilizamos Grid Search para encontrar el mejor valor de k.\n",
        "\n"
      ],
      "metadata": {
        "id": "70qIg44MUACz"
      }
    },
    {
      "cell_type": "code",
      "source": [
        "from surprise.model_selection import GridSearchCV\n",
        "\n",
        "# Cargar el dataset completo para Grid Search\n",
        "data = Dataset.load_from_df(filtered_data[['userId', 'title', 'rating']], reader)\n",
        "\n",
        "# Definir la malla de parámetros\n",
        "param_grid = {\n",
        "    'k': [10, 20, 30, 40, 50],  # Valores de k a probar\n",
        "    'sim_options': {\n",
        "        'name': ['msd'],\n",
        "        'user_based': [True]\n",
        "    }\n",
        "}\n",
        "\n",
        "# Configurar Grid Search\n",
        "grid_search = GridSearchCV(KNNBasic, param_grid, measures=['rmse'], cv=3)\n",
        "\n",
        "# Ejecutar Grid Search\n",
        "grid_search.fit(data)\n",
        "\n",
        "# Mostrar los mejores parámetros y RMSE\n",
        "best_k = grid_search.best_params['rmse']['k']\n",
        "best_rmse = grid_search.best_score['rmse']\n",
        "print(f\"Mejor k: {best_k}\")\n",
        "print(f\"Mejor RMSE obtenido: {best_rmse:.4f}\")\n"
      ],
      "metadata": {
        "id": "fGw_YNyrUIgh"
      },
      "execution_count": null,
      "outputs": []
    },
    {
      "cell_type": "markdown",
      "source": [
        "### 13. Análisis de Predicciones\n"
      ],
      "metadata": {
        "id": "lCfaOo2VUK35"
      }
    },
    {
      "cell_type": "markdown",
      "source": [
        "Convertimos las predicciones a un DataFrame para su análisis detallado.\n",
        "\n"
      ],
      "metadata": {
        "id": "EADEzyecUIEG"
      }
    },
    {
      "cell_type": "code",
      "source": [
        "# Convertir predicciones a DataFrame\n",
        "predictions_df = pd.DataFrame(predictions, columns=['userId', 'movieId', 'real_rating', 'predicted_rating', 'details'])\n",
        "\n",
        "# Mostrar las predicciones principales para el usuario 324\n",
        "user_324_predictions = predictions_df[predictions_df.userId == 324].sort_values(by='predicted_rating', ascending=False)\n",
        "user_324_predictions.head(10)\n"
      ],
      "metadata": {
        "id": "PIdEGL7yUOOX"
      },
      "execution_count": null,
      "outputs": []
    },
    {
      "cell_type": "markdown",
      "source": [
        "El campo details indica cuántos vecinos se utilizaron realmente para hacer la predicción.\n",
        "\n"
      ],
      "metadata": {
        "id": "Tk8o32L3UPw2"
      }
    },
    {
      "cell_type": "markdown",
      "source": [
        "## 14. Evaluación de Recomendaciones\n"
      ],
      "metadata": {
        "id": "q055MENMURr1"
      }
    },
    {
      "cell_type": "markdown",
      "source": [
        "Evaluamos la calidad de las recomendaciones utilizando métricas específicas.\n",
        "\n"
      ],
      "metadata": {
        "id": "Gg2Wt5bDUTk_"
      }
    },
    {
      "cell_type": "markdown",
      "source": [
        "### 14.1 Hit Rate Global\n",
        "\n",
        "Calculamos la tasa de aciertos global en las recomendaciones."
      ],
      "metadata": {
        "id": "t0KfjGV-UVgh"
      }
    },
    {
      "cell_type": "code",
      "source": [
        "# Definir umbral de relevancia\n",
        "relevant_threshold = 4.0\n",
        "\n",
        "# Inicializar contadores\n",
        "hits = 0\n",
        "total_relevant = 0\n",
        "\n",
        "# Iterar sobre todas las predicciones\n",
        "for _, row in predictions_df.iterrows():\n",
        "    real_rating = row['real_rating']\n",
        "    predicted_rating = row['predicted_rating']\n",
        "\n",
        "    # Considerar películas con calificación real ≥ umbral como relevantes\n",
        "    if real_rating >= relevant_threshold:\n",
        "        total_relevant += 1\n",
        "        # Si la predicción también es ≥ umbral, es un acierto\n",
        "        if predicted_rating >= relevant_threshold:\n",
        "            hits += 1\n",
        "\n",
        "# Calcular el Hit Rate Global\n",
        "hit_rate_global = hits / total_relevant if total_relevant > 0 else 0\n",
        "print(f\"Hit Rate Global: {hit_rate_global:.2f}\")\n",
        "\n"
      ],
      "metadata": {
        "id": "22HOJCMLSXSe"
      },
      "execution_count": null,
      "outputs": []
    },
    {
      "cell_type": "markdown",
      "source": [
        "###14.2 Hit Rate por Usuario\n",
        "\n",
        "Calculamos la tasa de aciertos promedio por usuario."
      ],
      "metadata": {
        "id": "aIyOuZViUbgy"
      }
    },
    {
      "cell_type": "code",
      "source": [
        "# Inicializar lista para almacenar hit rates por usuario\n",
        "hit_rates = []\n",
        "\n",
        "# Agrupar predicciones por usuario\n",
        "for user_id, group in predictions_df.groupby('userId'):\n",
        "    hits = 0\n",
        "    total_relevant = 0\n",
        "\n",
        "    for _, row in group.iterrows():\n",
        "        real_rating = row['real_rating']\n",
        "        predicted_rating = row['predicted_rating']\n",
        "\n",
        "        # Considerar películas relevantes\n",
        "        if real_rating >= relevant_threshold:\n",
        "            total_relevant += 1\n",
        "            if predicted_rating >= relevant_threshold:\n",
        "                hits += 1\n",
        "\n",
        "    # Calcular Hit Rate para el usuario\n",
        "    if total_relevant > 0:\n",
        "        hit_rate_user = hits / total_relevant\n",
        "        hit_rates.append(hit_rate_user)\n",
        "\n",
        "# Calcular el Hit Rate promedio\n",
        "hit_rate_avg_user = sum(hit_rates) / len(hit_rates) if len(hit_rates) > 0 else 0\n",
        "print(f\"Hit Rate promedio por usuario: {hit_rate_avg_user:.2f}\")\n"
      ],
      "metadata": {
        "id": "elq_yWtjUd8r"
      },
      "execution_count": null,
      "outputs": []
    },
    {
      "cell_type": "markdown",
      "source": [
        "## 15. Análisis de Diversidad\n",
        "Evaluamos la diversidad de las recomendaciones generadas por el modelo."
      ],
      "metadata": {
        "id": "_jsZR3TwUg2h"
      }
    },
    {
      "cell_type": "code",
      "source": [
        "from sklearn.metrics.pairwise import cosine_similarity\n",
        "import numpy as np\n",
        "\n",
        "# Obtener películas recomendadas para cada usuario\n",
        "recommendations_by_user = predictions_df.groupby('userId')['movieId'].apply(list)\n",
        "\n",
        "# Crear matriz usuario-ítem de recomendaciones\n",
        "user_item_matrix = pd.DataFrame(0, index=recommendations_by_user.index, columns=movies['movieId'])\n",
        "\n",
        "# Llenar la matriz con las recomendaciones\n",
        "for user, movies_recommended in recommendations_by_user.items():\n",
        "    user_item_matrix.loc[user, movies_recommended] = 1\n",
        "\n",
        "# Reemplazar NaN por 0\n",
        "user_item_matrix.fillna(0, inplace=True)\n",
        "\n",
        "# Calcular similitud entre usuarios\n",
        "similarity_matrix = cosine_similarity(user_item_matrix)\n",
        "\n",
        "# La diversidad es 1 - similitud\n",
        "diversity_matrix = 1 - similarity_matrix\n",
        "\n",
        "# Calcular diversidad promedio (excluyendo la diagonal)\n",
        "average_diversity = np.mean(diversity_matrix[np.triu_indices_from(diversity_matrix, k=1)])\n",
        "print(f\"Diversidad promedio de las recomendaciones: {average_diversity:.2f}\")\n"
      ],
      "metadata": {
        "id": "WVsQKWuXUkSM"
      },
      "execution_count": null,
      "outputs": []
    },
    {
      "cell_type": "markdown",
      "source": [
        "## 16. Conclusiones"
      ],
      "metadata": {
        "id": "P2rNZON2UmzM"
      }
    },
    {
      "cell_type": "markdown",
      "source": [
        "En este laboratorio:\n",
        "\n",
        "- Exploramos y visualizamos el dataset MovieLens, observando la distribución Long Tail y cómo afecta a las calificaciones.\n",
        "- Filtramos los datos para enfocarnos en películas populares y usuarios activos, mejorando así la calidad del modelo.\n",
        "- Implementamos un modelo de Filtrado Colaborativo Usuario-Usuario utilizando KNN, ajustando el número de vecinos para optimizar el rendimiento.\n",
        "- Evaluamos el modelo utilizando métricas como RMSE y Hit Rate, obteniendo insights sobre su precisión y capacidad de recomendación.\n",
        "- Analizamos la diversidad de las recomendaciones, entendiendo cómo el modelo equilibra la similitud y la variedad en sus sugerencias.\n",
        "\n",
        "Este proceso demuestra cómo aplicar filtrado colaborativo en sistemas de recomendación y resalta consideraciones importantes como la esparsidad de datos, la actividad del usuario y las métricas de evaluación.\n",
        "\n",
        "----"
      ],
      "metadata": {
        "id": "tszDmT4EUr_e"
      }
    },
    {
      "cell_type": "markdown",
      "source": [
        "Nota: Para mejorar aún más el sistema de recomendación, se pueden explorar enfoques híbridos, incorporar información contextual o utilizar técnicas avanzadas como modelos basados en aprendizaje profundo.\n"
      ],
      "metadata": {
        "id": "gXDo-26_U1wO"
      }
    },
    {
      "cell_type": "markdown",
      "source": [
        "# 17. Desafío: Implementación de Filtrado Colaborativo Item-Item\n"
      ],
      "metadata": {
        "id": "U4tN2O0db0XW"
      }
    },
    {
      "cell_type": "markdown",
      "source": [
        "Hasta ahora, hemos utilizado un enfoque de Filtrado Colaborativo basado en Usuarios (User-User), donde las recomendaciones se generan comparando usuarios entre sí. En este desafío, vas a implementar el enfoque de Filtrado Colaborativo basado en Ítems (Item-Item)."
      ],
      "metadata": {
        "id": "nMOHEu2uiG-P"
      }
    },
    {
      "cell_type": "markdown",
      "source": [
        "En lugar de buscar usuarios similares para hacer recomendaciones, el sistema buscará ítems similares (películas, en este caso). Si a un usuario le gusta una película, se le recomendarán otras películas similares a esa, basadas en cómo otros usuarios han calificado ambas películas."
      ],
      "metadata": {
        "id": "gJWZHyJ7iKgH"
      }
    },
    {
      "cell_type": "code",
      "source": [],
      "metadata": {
        "id": "p7y-jAlPiLg5"
      },
      "execution_count": null,
      "outputs": []
    },
    {
      "cell_type": "markdown",
      "source": [
        "---\n",
        "## Gracias por completar este laboratorio!"
      ],
      "metadata": {
        "id": "P_xjTQ5UiL-q"
      }
    }
  ]
}